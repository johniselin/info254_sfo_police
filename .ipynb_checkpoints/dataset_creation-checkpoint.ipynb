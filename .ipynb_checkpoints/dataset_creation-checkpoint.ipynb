{
 "cells": [
  {
   "cell_type": "code",
   "execution_count": 1,
   "metadata": {
    "collapsed": true
   },
   "outputs": [],
   "source": [
    "import pandas as pd\n",
    "import numpy as np\n",
    "from sodapy import Socrata\n",
    "import collections;\n",
    "import re;\n",
    "from time import time\n",
    "import math\n",
    "import feather\n",
    "from collections import defaultdict"
   ]
  },
  {
   "cell_type": "code",
   "execution_count": 2,
   "metadata": {
    "collapsed": false
   },
   "outputs": [
    {
     "name": "stderr",
     "output_type": "stream",
     "text": [
      "WARNING:root:Requests made without an app_token will be subject to strict throttling limits.\n"
     ]
    }
   ],
   "source": [
    "# Set up Socrata\n",
    "client = Socrata(\"data.sfgov.org\", None)\n",
    "socrata_id_older = \"cuks-n6tp\"\n",
    "socrata_id_newer = \"wg3w-h783\""
   ]
  },
  {
   "cell_type": "code",
   "execution_count": 3,
   "metadata": {
    "collapsed": false
   },
   "outputs": [
    {
     "data": {
      "text/plain": [
       "[u'IncidntNum',\n",
       " u'Category',\n",
       " u'Descript',\n",
       " u'DayOfWeek',\n",
       " u'Date',\n",
       " u'Time',\n",
       " u'PdDistrict',\n",
       " u'Resolution',\n",
       " u'Address',\n",
       " u'X',\n",
       " u'Y',\n",
       " u'Location',\n",
       " u'Location (city)',\n",
       " u'Location (address)',\n",
       " u'Location (zip)',\n",
       " u'Location (state)',\n",
       " u'PdId',\n",
       " u'Fire Prevention Districts',\n",
       " u'Police Districts',\n",
       " u'Supervisor Districts',\n",
       " u'Zip Codes',\n",
       " u'Neighborhoods',\n",
       " u'2017 Fix It Zones',\n",
       " u'Civic Center Harm Reduction Project Boundary',\n",
       " u'Neighborhoods - Analysis Boundaries',\n",
       " u'Fix It Zones as of 2017-11-06 ',\n",
       " u'HSOC Zones',\n",
       " u'Fix It Zones as of 2017-02-07',\n",
       " u'CBD, BID and GBD Boundaries as of 2017',\n",
       " u'Areas of Vulnerability, 2016',\n",
       " u'Central Market/Tenderloin Boundary',\n",
       " u'Central Market/Tenderloin Boundary Polygon - Updated',\n",
       " u'HSOC Zones as of 2018-06-05',\n",
       " u'Current Supervisor Districts',\n",
       " u'OWED Public Spaces',\n",
       " u'Current Police Districts']"
      ]
     },
     "execution_count": 3,
     "metadata": {},
     "output_type": "execute_result"
    }
   ],
   "source": [
    "# Get Metadata for 2003-2018\n",
    "metadata_old = client.get_metadata(socrata_id_older)\n",
    "[x['name'] for x in metadata_old['columns']]"
   ]
  },
  {
   "cell_type": "code",
   "execution_count": 4,
   "metadata": {
    "collapsed": false
   },
   "outputs": [
    {
     "data": {
      "text/plain": [
       "[u'Incident Datetime',\n",
       " u'Incident Date',\n",
       " u'Incident Time',\n",
       " u'Incident Year',\n",
       " u'Incident Day of Week',\n",
       " u'Report Datetime',\n",
       " u'Row ID',\n",
       " u'Incident ID',\n",
       " u'Incident Number',\n",
       " u'CAD Number',\n",
       " u'Report Type Code',\n",
       " u'Report Type Description',\n",
       " u'Filed Online',\n",
       " u'Incident Code',\n",
       " u'Incident Category',\n",
       " u'Incident Subcategory',\n",
       " u'Incident Description',\n",
       " u'Resolution',\n",
       " u'Intersection',\n",
       " u'CNN',\n",
       " u'Police District',\n",
       " u'Analysis Neighborhood',\n",
       " u'Supervisor District',\n",
       " u'Latitude',\n",
       " u'Longitude',\n",
       " u'point']"
      ]
     },
     "execution_count": 4,
     "metadata": {},
     "output_type": "execute_result"
    }
   ],
   "source": [
    "# Get Metadata for 2018-2019\n",
    "metadata_new = client.get_metadata(socrata_id_newer)\n",
    "[x['name'] for x in metadata_new['columns']]"
   ]
  },
  {
   "cell_type": "code",
   "execution_count": 5,
   "metadata": {
    "collapsed": false
   },
   "outputs": [],
   "source": [
    "col_new = []\n",
    "col_old = []\n",
    "\n",
    "for i in range(len(metadata_new['columns'])):\n",
    "    name = metadata_new['columns'][i]['name']\n",
    "    names = []\n",
    "    names.append(name)\n",
    "    col_new = col_new + names\n",
    "\n",
    "for i in range(len(metadata_old['columns'])):\n",
    "    name = metadata_old['columns'][i]['name']\n",
    "    names = []\n",
    "    names.append(name)\n",
    "    col_old = col_old + names"
   ]
  },
  {
   "cell_type": "code",
   "execution_count": 6,
   "metadata": {
    "collapsed": false
   },
   "outputs": [
    {
     "name": "stdout",
     "output_type": "stream",
     "text": [
      "\n",
      "> Loop number: 0\n",
      "\n",
      "> Loop number: 1\n",
      "\n",
      "> Loop number: 2\n",
      "\n",
      "> Loop number: 3\n",
      "\n",
      "> Loop number: 4\n",
      "\n",
      "> Loop number: 5\n",
      "\n",
      "> Loop number: 6\n",
      "\n",
      "> Loop number: 7\n",
      "\n",
      "> Loop number: 8\n",
      "\n",
      "> Loop number: 9\n",
      "\n",
      "> Loop number: 10\n",
      "\n",
      "> Loop number: 11\n",
      "\n",
      "> Loop number: 12\n",
      "\n",
      "> Loop number: 13\n",
      "\n",
      "> Loop number: 14\n",
      "\n",
      "> Loop number: 15\n",
      "\n",
      "> Loop number: 16\n",
      "\n",
      "> Loop number: 17\n",
      "\n",
      "> Loop number: 18\n",
      "\n",
      "> Loop number: 19\n"
     ]
    }
   ],
   "source": [
    "# Import 2018-2019 data via Socrata\n",
    "\n",
    "loop_size = 10000\n",
    "num_loops = 20\n",
    "\n",
    "df_new = pd.DataFrame(columns=col_new)\n",
    "\n",
    "for i in range(num_loops):\n",
    "    results = client.get(socrata_id_newer,\n",
    "                         limit=loop_size,\n",
    "                         offset=loop_size * i)\n",
    "    print(\"\\n> Loop number: {}\".format(i))\n",
    "    df_loop = pd.DataFrame(results)\n",
    "    df_new = pd.concat([df_new,df_loop])"
   ]
  },
  {
   "cell_type": "code",
   "execution_count": 7,
   "metadata": {
    "collapsed": false
   },
   "outputs": [
    {
     "name": "stdout",
     "output_type": "stream",
     "text": [
      "\n",
      "> Loop number: 0\n",
      "\n",
      "> Loop number: 1\n",
      "\n",
      "> Loop number: 2\n",
      "\n",
      "> Loop number: 3\n",
      "\n",
      "> Loop number: 4\n",
      "\n",
      "> Loop number: 5\n",
      "\n",
      "> Loop number: 6\n",
      "\n",
      "> Loop number: 7\n",
      "\n",
      "> Loop number: 8\n",
      "\n",
      "> Loop number: 9\n",
      "\n",
      "> Loop number: 10\n",
      "\n",
      "> Loop number: 11\n",
      "\n",
      "> Loop number: 12\n",
      "\n",
      "> Loop number: 13\n",
      "\n",
      "> Loop number: 14\n",
      "\n",
      "> Loop number: 15\n",
      "\n",
      "> Loop number: 16\n",
      "\n",
      "> Loop number: 17\n",
      "\n",
      "> Loop number: 18\n",
      "\n",
      "> Loop number: 19\n",
      "\n",
      "> Loop number: 20\n"
     ]
    }
   ],
   "source": [
    "# Import 2003-2018 data via Socrata \n",
    "loop_size = 25000\n",
    "num_loops = 21\n",
    "\n",
    "df_old = pd.DataFrame(columns=col_old)\n",
    "\n",
    "for i in range(num_loops):\n",
    "    results = client.get(socrata_id_older,\n",
    "                         where=\"date_extract_y(Date) > 2014\",\n",
    "                         limit=loop_size,\n",
    "                         offset=loop_size * i)\n",
    "    print(\"\\n> Loop number: {}\".format(i))\n",
    "    df_loop = pd.DataFrame(results)\n",
    "    df_old = pd.concat([df_old,df_loop])"
   ]
  },
  {
   "cell_type": "code",
   "execution_count": 8,
   "metadata": {
    "collapsed": false
   },
   "outputs": [
    {
     "name": "stdout",
     "output_type": "stream",
     "text": [
      "Data - 2018 to 2019\n",
      "(193082, 51)\n",
      "Index([u'Analysis Neighborhood', u'CAD Number', u'CNN', u'Filed Online',\n",
      "       u'Incident Category', u'Incident Code', u'Incident Date',\n",
      "       u'Incident Datetime', u'Incident Day of Week', u'Incident Description',\n",
      "       u'Incident ID', u'Incident Number', u'Incident Subcategory',\n",
      "       u'Incident Time', u'Incident Year', u'Intersection', u'Latitude',\n",
      "       u'Longitude', u'Police District', u'Report Datetime',\n",
      "       u'Report Type Code', u'Report Type Description', u'Resolution',\n",
      "       u'Row ID', u'Supervisor District', u'analysis_neighborhood',\n",
      "       u'cad_number', u'cnn', u'filed_online', u'incident_category',\n",
      "       u'incident_code', u'incident_date', u'incident_datetime',\n",
      "       u'incident_day_of_week', u'incident_description', u'incident_id',\n",
      "       u'incident_number', u'incident_subcategory', u'incident_time',\n",
      "       u'incident_year', u'intersection', u'latitude', u'longitude', u'point',\n",
      "       u'police_district', u'report_datetime', u'report_type_code',\n",
      "       u'report_type_description', u'resolution', u'row_id',\n",
      "       u'supervisor_district'],\n",
      "      dtype='object')\n",
      "Data - 2014 to 2018\n",
      "(508850, 49)\n",
      "Index([u'2017 Fix It Zones', u'Address', u'Areas of Vulnerability, 2016',\n",
      "       u'CBD, BID and GBD Boundaries as of 2017', u'Category',\n",
      "       u'Central Market/Tenderloin Boundary',\n",
      "       u'Central Market/Tenderloin Boundary Polygon - Updated',\n",
      "       u'Civic Center Harm Reduction Project Boundary',\n",
      "       u'Current Police Districts', u'Current Supervisor Districts', u'Date',\n",
      "       u'DayOfWeek', u'Descript', u'Fire Prevention Districts',\n",
      "       u'Fix It Zones as of 2017-02-07', u'Fix It Zones as of 2017-11-06 ',\n",
      "       u'HSOC Zones', u'HSOC Zones as of 2018-06-05', u'IncidntNum',\n",
      "       u'Location', u'Location (address)', u'Location (city)',\n",
      "       u'Location (state)', u'Location (zip)', u'Neighborhoods',\n",
      "       u'Neighborhoods - Analysis Boundaries', u'OWED Public Spaces',\n",
      "       u'PdDistrict', u'PdId', u'Police Districts', u'Resolution',\n",
      "       u'Supervisor Districts', u'Time', u'X', u'Y', u'Zip Codes', u'address',\n",
      "       u'category', u'date', u'dayofweek', u'descript', u'incidntnum',\n",
      "       u'location', u'pddistrict', u'pdid', u'resolution', u'time', u'x',\n",
      "       u'y'],\n",
      "      dtype='object')\n"
     ]
    }
   ],
   "source": [
    "print(\"Data - 2018 to 2019\")\n",
    "print(df_new.shape)\n",
    "print(df_new.columns)\n",
    "\n",
    "print(\"Data - 2014 to 2018\")\n",
    "print(df_old.shape)\n",
    "print(df_old.columns)"
   ]
  },
  {
   "cell_type": "code",
   "execution_count": 9,
   "metadata": {
    "collapsed": false
   },
   "outputs": [],
   "source": [
    "## Data cleaning - keep variables in df_new\n",
    "\n",
    "df_new = df_new[['incident_category', 'incident_date', \n",
    "                 'incident_day_of_week', 'incident_description', 'incident_number',\n",
    "                 'incident_time', 'latitude', 'longitude', 'police_district']]\n",
    "\n",
    "df_new = df_new.rename(columns={'incident_day_of_week': 'incident_dow'})\n"
   ]
  },
  {
   "cell_type": "code",
   "execution_count": 10,
   "metadata": {
    "collapsed": false
   },
   "outputs": [
    {
     "name": "stdout",
     "output_type": "stream",
     "text": [
      "Index([u'2017 Fix It Zones', u'Address', u'Areas of Vulnerability, 2016',\n",
      "       u'CBD, BID and GBD Boundaries as of 2017', u'Category',\n",
      "       u'Central Market/Tenderloin Boundary',\n",
      "       u'Central Market/Tenderloin Boundary Polygon - Updated',\n",
      "       u'Civic Center Harm Reduction Project Boundary',\n",
      "       u'Current Police Districts', u'Current Supervisor Districts', u'Date',\n",
      "       u'DayOfWeek', u'Descript', u'Fire Prevention Districts',\n",
      "       u'Fix It Zones as of 2017-02-07', u'Fix It Zones as of 2017-11-06 ',\n",
      "       u'HSOC Zones', u'HSOC Zones as of 2018-06-05', u'IncidntNum',\n",
      "       u'Location', u'Location (address)', u'Location (city)',\n",
      "       u'Location (state)', u'Location (zip)', u'Neighborhoods',\n",
      "       u'Neighborhoods - Analysis Boundaries', u'OWED Public Spaces',\n",
      "       u'PdDistrict', u'PdId', u'Police Districts', u'Resolution',\n",
      "       u'Supervisor Districts', u'Time', u'X', u'Y', u'Zip Codes', u'address',\n",
      "       u'category', u'date', u'dayofweek', u'descript', u'incidntnum',\n",
      "       u'location', u'pddistrict', u'pdid', u'resolution', u'time', u'x',\n",
      "       u'y'],\n",
      "      dtype='object')\n"
     ]
    }
   ],
   "source": [
    "print(df_old.columns)"
   ]
  },
  {
   "cell_type": "code",
   "execution_count": 11,
   "metadata": {
    "collapsed": true
   },
   "outputs": [],
   "source": [
    "## Data cleaning - keep variables in df_old\n",
    "\n",
    "df_old = df_old[['category', 'date', 'dayofweek', 'descript', 'incidntnum', 'time', 'x', 'y', 'pddistrict']]\n",
    "\n",
    "df_old = df_old.rename(columns={\n",
    "        'category': 'incident_category',\n",
    "        'date': 'incident_date',\n",
    "        'dayofweek': 'incident_dow',\n",
    "        'descript':'incident_description',\n",
    "        'incidntnum': 'incident_number',\n",
    "        'time': 'incident_time',\n",
    "        'x': 'latitude',\n",
    "        'y': 'longitude',\n",
    "        'pddistrict': 'police_district'})\n",
    "\n"
   ]
  },
  {
   "cell_type": "code",
   "execution_count": 12,
   "metadata": {
    "collapsed": false
   },
   "outputs": [
    {
     "data": {
      "text/plain": [
       "0    2017-10-17T00:00:00.000\n",
       "1    2016-09-01T00:00:00.000\n",
       "2    2017-11-14T00:00:00.000\n",
       "3    2018-04-07T00:00:00.000\n",
       "4    2018-02-15T00:00:00.000\n",
       "Name: incident_date, dtype: object"
      ]
     },
     "execution_count": 12,
     "metadata": {},
     "output_type": "execute_result"
    }
   ],
   "source": [
    "df_old.incident_date.head()"
   ]
  },
  {
   "cell_type": "code",
   "execution_count": 13,
   "metadata": {
    "collapsed": false
   },
   "outputs": [],
   "source": [
    "## Format Dates, dealing with different formats\n",
    "# 1) create new column temp_date and store there datetimes recognized using first format\n",
    "df_new['temp_date'] = pd.to_datetime(df_new['incident_date'], format='%Y/%m/%d', errors='coerce')\n",
    "# 2) get not recognized rows\n",
    "not_recongized = df_new[df_new.temp_date.isnull()]\n",
    "# 3) inplace fill not recognized rows with values recognized using second format\n",
    "df_new['temp_date'].fillna(pd.to_datetime(not_recongized['incident_date'], format='%Y/%m/%d', errors='coerce'), inplace=True)\n",
    "\n",
    "# 4) delete starttime column\n",
    "del df_new['incident_date']\n",
    "# 5) inplace rename temp_starttime to starttime\n",
    "df_new.rename(columns={\"temp_date\": \"incident_date\"}, inplace=True)\n",
    "\n",
    "df_new['incident_date'] = pd.to_datetime(df_new['incident_date'],format='%m/%d/%Y') \n",
    "\n",
    "df_old['incident_date'] = df_old.incident_date.str.slice(0, 10)\n",
    "df_old['incident_date'] = pd.to_datetime(df_old['incident_date'],format='%Y/%m/%d') \n"
   ]
  },
  {
   "cell_type": "code",
   "execution_count": 14,
   "metadata": {
    "collapsed": false
   },
   "outputs": [
    {
     "name": "stdout",
     "output_type": "stream",
     "text": [
      "508850\n",
      "193082\n",
      "(701932, 9)\n",
      "     incident_category incident_date  \\\n",
      "0             Homicide    2018-08-20   \n",
      "1              Assault    2018-08-11   \n",
      "2  Other Miscellaneous    2018-08-14   \n",
      "3        Larceny Theft    2018-08-14   \n",
      "4  Other Miscellaneous    2018-08-14   \n",
      "\n",
      "                                incident_description incident_dow  \\\n",
      "0                          Homicide, W/ Other Weapon       Monday   \n",
      "1               Assault, Aggravated, W/ Other Weapon     Saturday   \n",
      "2  Resisting, Delaying, or Obstructing  Peace Off...      Tuesday   \n",
      "3                              Theft, Bicycle, >$950      Tuesday   \n",
      "4                      Burglary Tools, Possession Of      Tuesday   \n",
      "\n",
      "  incident_number incident_time            latitude            longitude  \\\n",
      "0       180624631         07:45   37.78610103879033  -122.41808809883916   \n",
      "1       180602295         19:10   37.75683373380551  -122.40669900268833   \n",
      "2       189002400         14:15  37.770555975146884  -122.39115601762397   \n",
      "3       180609984         15:07  37.766691459464916   -122.3926618696727   \n",
      "4       180609984         15:07  37.766691459464916   -122.3926618696727   \n",
      "\n",
      "  police_district  \n",
      "0        Northern  \n",
      "1         Mission  \n",
      "2        Southern  \n",
      "3        Southern  \n",
      "4        Southern  \n"
     ]
    }
   ],
   "source": [
    "## Merge incident data\n",
    "print(len(df_old))\n",
    "print(len(df_new))\n",
    "df_incident = pd.concat([df_new, df_old])\n",
    "\n",
    "print(df_incident.shape)\n",
    "print(df_incident.head(5))\n"
   ]
  },
  {
   "cell_type": "code",
   "execution_count": 15,
   "metadata": {
    "collapsed": true
   },
   "outputs": [],
   "source": [
    "feather.write_dataframe(df_incident, 'data/sf_incidents.feather')"
   ]
  }
 ],
 "metadata": {
  "anaconda-cloud": {},
  "kernelspec": {
   "display_name": "Python [conda root]",
   "language": "python",
   "name": "conda-root-py"
  },
  "language_info": {
   "codemirror_mode": {
    "name": "ipython",
    "version": 2
   },
   "file_extension": ".py",
   "mimetype": "text/x-python",
   "name": "python",
   "nbconvert_exporter": "python",
   "pygments_lexer": "ipython2",
   "version": "2.7.12"
  }
 },
 "nbformat": 4,
 "nbformat_minor": 1
}
