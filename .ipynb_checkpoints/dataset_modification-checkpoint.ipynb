{
 "cells": [
  {
   "cell_type": "code",
   "execution_count": 14,
   "metadata": {
    "collapsed": false
   },
   "outputs": [],
   "source": [
    "import pandas as pd\n",
    "import numpy as np\n",
    "from sodapy import Socrata\n",
    "import collections\n",
    "import re\n",
    "from time import time\n",
    "import math\n",
    "import feather\n",
    "from collections import defaultdict\n",
    "import geopandas\n",
    "from datetime import datetime"
   ]
  },
  {
   "cell_type": "code",
   "execution_count": 3,
   "metadata": {
    "collapsed": false
   },
   "outputs": [],
   "source": [
    "# Load SF Police Data\n",
    "df = feather.read_dataframe('data/sf_incidents.feather')"
   ]
  },
  {
   "cell_type": "code",
   "execution_count": null,
   "metadata": {
    "collapsed": true
   },
   "outputs": [],
   "source": [
    "# Load SF Census Track Data\n",
    "census_tracks = geopandas.read_file('data/census2010_ sf_tracks.geojson')\n",
    "census_tracks = census_tracks[['geometry', 'name']] <-- Keep only census track name / geometrydf\n",
    "\n",
    "# Load SF Census Block Data\n",
    "census_blocks = geopandas.read_file('data/census2010_ sf_blocks.geojson')\n",
    "census_blocks = census_blocks[['geometry', 'name']] <-- Keep only census track name / geometrydf"
   ]
  },
  {
   "cell_type": "code",
   "execution_count": 7,
   "metadata": {
    "collapsed": false
   },
   "outputs": [
    {
     "name": "stdout",
     "output_type": "stream",
     "text": [
      "       incident_category        incident_date          incident_description  \\\n",
      "count             701915               701932                        701932   \n",
      "unique                89                 1566                          1547   \n",
      "top        LARCENY/THEFT  2018-04-13 00:00:00  GRAND THEFT FROM LOCKED AUTO   \n",
      "freq              146464                  942                         66440   \n",
      "first                NaN  2015-01-01 00:00:00                           NaN   \n",
      "last                 NaN  2019-04-15 00:00:00                           NaN   \n",
      "\n",
      "       incident_dow incident_number incident_time             latitude  \\\n",
      "count        701932          701932        701932               691557   \n",
      "unique            7          427206          1440                47523   \n",
      "top          Friday       180187811         12:00  -122.40340479147905   \n",
      "freq         107685              27         17712                 9246   \n",
      "first           NaN             NaN           NaN                  NaN   \n",
      "last            NaN             NaN           NaN                  NaN   \n",
      "\n",
      "              longitude police_district  \n",
      "count            691557          701930  \n",
      "unique            46633              21  \n",
      "top     37.775420706711        SOUTHERN  \n",
      "freq              13170           96136  \n",
      "first               NaN             NaN  \n",
      "last                NaN             NaN  \n",
      "     incident_category incident_date  \\\n",
      "0             Homicide    2018-08-20   \n",
      "1              Assault    2018-08-11   \n",
      "2  Other Miscellaneous    2018-08-14   \n",
      "3        Larceny Theft    2018-08-14   \n",
      "4  Other Miscellaneous    2018-08-14   \n",
      "\n",
      "                                incident_description incident_dow  \\\n",
      "0                          Homicide, W/ Other Weapon       Monday   \n",
      "1               Assault, Aggravated, W/ Other Weapon     Saturday   \n",
      "2  Resisting, Delaying, or Obstructing  Peace Off...      Tuesday   \n",
      "3                              Theft, Bicycle, >$950      Tuesday   \n",
      "4                      Burglary Tools, Possession Of      Tuesday   \n",
      "\n",
      "  incident_number incident_time            latitude            longitude  \\\n",
      "0       180624631         07:45   37.78610103879033  -122.41808809883916   \n",
      "1       180602295         19:10   37.75683373380551  -122.40669900268833   \n",
      "2       189002400         14:15  37.770555975146884  -122.39115601762397   \n",
      "3       180609984         15:07  37.766691459464916   -122.3926618696727   \n",
      "4       180609984         15:07  37.766691459464916   -122.3926618696727   \n",
      "\n",
      "  police_district  \n",
      "0        Northern  \n",
      "1         Mission  \n",
      "2        Southern  \n",
      "3        Southern  \n",
      "4        Southern  \n"
     ]
    }
   ],
   "source": [
    "print(df.describe())\n",
    "print(df.head())\n",
    "print(census_tracks.head())\n",
    "print(census_blocks.head())"
   ]
  },
  {
   "cell_type": "code",
   "execution_count": 6,
   "metadata": {
    "collapsed": false
   },
   "outputs": [
    {
     "data": {
      "text/html": [
       "<div>\n",
       "<table border=\"1\" class=\"dataframe\">\n",
       "  <thead>\n",
       "    <tr style=\"text-align: right;\">\n",
       "      <th></th>\n",
       "      <th>incident_category</th>\n",
       "      <th>incident_date</th>\n",
       "      <th>incident_description</th>\n",
       "      <th>incident_dow</th>\n",
       "      <th>incident_number</th>\n",
       "      <th>incident_time</th>\n",
       "      <th>latitude</th>\n",
       "      <th>longitude</th>\n",
       "      <th>police_district</th>\n",
       "    </tr>\n",
       "  </thead>\n",
       "  <tbody>\n",
       "    <tr>\n",
       "      <th>0</th>\n",
       "      <td>Homicide</td>\n",
       "      <td>2018-08-20</td>\n",
       "      <td>Homicide, W/ Other Weapon</td>\n",
       "      <td>Monday</td>\n",
       "      <td>180624631</td>\n",
       "      <td>07:45</td>\n",
       "      <td>37.78610103879033</td>\n",
       "      <td>-122.41808809883916</td>\n",
       "      <td>Northern</td>\n",
       "    </tr>\n",
       "    <tr>\n",
       "      <th>1</th>\n",
       "      <td>Assault</td>\n",
       "      <td>2018-08-11</td>\n",
       "      <td>Assault, Aggravated, W/ Other Weapon</td>\n",
       "      <td>Saturday</td>\n",
       "      <td>180602295</td>\n",
       "      <td>19:10</td>\n",
       "      <td>37.75683373380551</td>\n",
       "      <td>-122.40669900268833</td>\n",
       "      <td>Mission</td>\n",
       "    </tr>\n",
       "    <tr>\n",
       "      <th>2</th>\n",
       "      <td>Other Miscellaneous</td>\n",
       "      <td>2018-08-14</td>\n",
       "      <td>Resisting, Delaying, or Obstructing  Peace Off...</td>\n",
       "      <td>Tuesday</td>\n",
       "      <td>189002400</td>\n",
       "      <td>14:15</td>\n",
       "      <td>37.770555975146884</td>\n",
       "      <td>-122.39115601762397</td>\n",
       "      <td>Southern</td>\n",
       "    </tr>\n",
       "    <tr>\n",
       "      <th>3</th>\n",
       "      <td>Larceny Theft</td>\n",
       "      <td>2018-08-14</td>\n",
       "      <td>Theft, Bicycle, &gt;$950</td>\n",
       "      <td>Tuesday</td>\n",
       "      <td>180609984</td>\n",
       "      <td>15:07</td>\n",
       "      <td>37.766691459464916</td>\n",
       "      <td>-122.3926618696727</td>\n",
       "      <td>Southern</td>\n",
       "    </tr>\n",
       "    <tr>\n",
       "      <th>4</th>\n",
       "      <td>Other Miscellaneous</td>\n",
       "      <td>2018-08-14</td>\n",
       "      <td>Burglary Tools, Possession Of</td>\n",
       "      <td>Tuesday</td>\n",
       "      <td>180609984</td>\n",
       "      <td>15:07</td>\n",
       "      <td>37.766691459464916</td>\n",
       "      <td>-122.3926618696727</td>\n",
       "      <td>Southern</td>\n",
       "    </tr>\n",
       "  </tbody>\n",
       "</table>\n",
       "</div>"
      ],
      "text/plain": [
       "     incident_category incident_date  \\\n",
       "0             Homicide    2018-08-20   \n",
       "1              Assault    2018-08-11   \n",
       "2  Other Miscellaneous    2018-08-14   \n",
       "3        Larceny Theft    2018-08-14   \n",
       "4  Other Miscellaneous    2018-08-14   \n",
       "\n",
       "                                incident_description incident_dow  \\\n",
       "0                          Homicide, W/ Other Weapon       Monday   \n",
       "1               Assault, Aggravated, W/ Other Weapon     Saturday   \n",
       "2  Resisting, Delaying, or Obstructing  Peace Off...      Tuesday   \n",
       "3                              Theft, Bicycle, >$950      Tuesday   \n",
       "4                      Burglary Tools, Possession Of      Tuesday   \n",
       "\n",
       "  incident_number incident_time            latitude            longitude  \\\n",
       "0       180624631         07:45   37.78610103879033  -122.41808809883916   \n",
       "1       180602295         19:10   37.75683373380551  -122.40669900268833   \n",
       "2       189002400         14:15  37.770555975146884  -122.39115601762397   \n",
       "3       180609984         15:07  37.766691459464916   -122.3926618696727   \n",
       "4       180609984         15:07  37.766691459464916   -122.3926618696727   \n",
       "\n",
       "  police_district  \n",
       "0        Northern  \n",
       "1         Mission  \n",
       "2        Southern  \n",
       "3        Southern  \n",
       "4        Southern  "
      ]
     },
     "execution_count": 6,
     "metadata": {},
     "output_type": "execute_result"
    }
   ],
   "source": [
    "# spatial join\n",
    "df_wcensus = geopandas.sjoin(df, census_tracks, how=\"inner\", op='within')\n",
    "df_wcensus = geopandas.sjoin(df_wcensus, census_blocks, how=\"inner\", op='within')"
   ]
  },
  {
   "cell_type": "code",
   "execution_count": 20,
   "metadata": {
    "collapsed": false
   },
   "outputs": [
    {
     "name": "stdout",
     "output_type": "stream",
     "text": [
      "            LATITUDE      LONGITUDE           PRCP          TAVG\n",
      "count  120530.000000  120530.000000  105010.000000  20127.000000\n",
      "mean       37.804167    -122.286561       0.097325     58.090277\n",
      "std         0.207808       0.221397       0.319468      9.046352\n",
      "min        37.375400    -122.702200       0.000000     33.000000\n",
      "25%        37.619700    -122.482500            NaN           NaN\n",
      "50%        37.869800    -122.260500            NaN           NaN\n",
      "75%        37.983300    -122.115000            NaN           NaN\n",
      "max        38.210200    -121.865500       7.570000    109.000000\n",
      "                      NAME  LATITUDE  LONGITUDE        DATE  PRCP  TAVG\n",
      "0  BERKELEY 0.9 SSE, CA US   37.8552  -122.2892  2017-07-01   0.0   NaN\n",
      "1  BERKELEY 0.9 SSE, CA US   37.8552  -122.2892  2017-07-02   0.0   NaN\n",
      "2  BERKELEY 0.9 SSE, CA US   37.8552  -122.2892  2017-07-03   0.0   NaN\n",
      "3  BERKELEY 0.9 SSE, CA US   37.8552  -122.2892  2017-07-04   0.0   NaN\n",
      "4  BERKELEY 0.9 SSE, CA US   37.8552  -122.2892  2017-07-06   0.0   NaN\n"
     ]
    }
   ],
   "source": [
    "# Weather Data via NOAA request\n",
    "weather = pd.read_csv('data/weather.csv')\n",
    "weather = weather[['NAME',  'LATITUDE',  'LONGITUDE', 'DATE', 'PRCP', 'TAVG']]\n",
    "print(weather.describe())\n",
    "print(weather.head())"
   ]
  },
  {
   "cell_type": "code",
   "execution_count": null,
   "metadata": {
    "collapsed": true
   },
   "outputs": [],
   "source": [
    "# Merge Weather with data via Day \n",
    "# Data, match site of detector with census track <- find closest\n",
    "# Attach detectors PRCP and TAVG (temperature average)"
   ]
  },
  {
   "cell_type": "code",
   "execution_count": null,
   "metadata": {
    "collapsed": true
   },
   "outputs": [],
   "source": [
    "# Create time-period units\n",
    "\n"
   ]
  },
  {
   "cell_type": "code",
   "execution_count": null,
   "metadata": {
    "collapsed": true
   },
   "outputs": [],
   "source": [
    "# Collapse By Census_Track"
   ]
  },
  {
   "cell_type": "code",
   "execution_count": null,
   "metadata": {
    "collapsed": true
   },
   "outputs": [],
   "source": [
    "# Collapse BY Time Period "
   ]
  }
 ],
 "metadata": {
  "anaconda-cloud": {},
  "kernelspec": {
   "display_name": "Python [conda root]",
   "language": "python",
   "name": "conda-root-py"
  },
  "language_info": {
   "codemirror_mode": {
    "name": "ipython",
    "version": 2
   },
   "file_extension": ".py",
   "mimetype": "text/x-python",
   "name": "python",
   "nbconvert_exporter": "python",
   "pygments_lexer": "ipython2",
   "version": "2.7.12"
  }
 },
 "nbformat": 4,
 "nbformat_minor": 1
}
