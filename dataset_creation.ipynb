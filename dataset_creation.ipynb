{
 "cells": [
  {
   "cell_type": "code",
   "execution_count": 1,
   "metadata": {
    "collapsed": true
   },
   "outputs": [],
   "source": [
    "import pandas as pd\n",
    "import numpy as np\n",
    "from sodapy import Socrata\n",
    "import collections;\n",
    "import re;\n",
    "from time import time\n",
    "from collections import defaultdict"
   ]
  },
  {
   "cell_type": "code",
   "execution_count": 2,
   "metadata": {
    "collapsed": false
   },
   "outputs": [],
   "source": [
    "# Import Incident Data, downloaded from https://datasf.org/\n",
    "df_18_19 = pd.DataFrame.from_csv('data/sfpd_incidents_18_19.csv')\n",
    "df_03_18 = pd.DataFrame.from_csv('data/sfpd_incidents_03_18.csv')\n",
    "\n",
    "#client = Socrata(\"data.sfgov.org\", None)\n",
    "#data = client.get(\"cuks-n6tp\", limit = 3000000)\n",
    "#df_03_18 = pd.DataFrame.from_records(data)\n",
    "\n",
    "#data = client.get(\"wg3w-h783\", limit = 3000000)\n",
    "#df_18_19 = pd.DataFrame.from_records(data)"
   ]
  },
  {
   "cell_type": "code",
   "execution_count": 3,
   "metadata": {
    "collapsed": false
   },
   "outputs": [
    {
     "name": "stdout",
     "output_type": "stream",
     "text": [
      "(2215024, 12)\n",
      "(191216, 25)\n",
      "Index([u'Incident Date', u'Incident Time', u'Incident Year',\n",
      "       u'Incident Day of Week', u'Report Datetime', u'Row ID', u'Incident ID',\n",
      "       u'Incident Number', u'CAD Number', u'Report Type Code',\n",
      "       u'Report Type Description', u'Filed Online', u'Incident Code',\n",
      "       u'Incident Category', u'Incident Subcategory', u'Incident Description',\n",
      "       u'Resolution', u'Intersection', u'CNN', u'Police District',\n",
      "       u'Analysis Neighborhood', u'Supervisor District', u'Latitude',\n",
      "       u'Longitude', u'point'],\n",
      "      dtype='object')\n",
      "Index([u'Category', u'Descript', u'DayOfWeek', u'Date', u'Time', u'PdDistrict',\n",
      "       u'Resolution', u'Address', u'X', u'Y', u'Location', u'PdId'],\n",
      "      dtype='object')\n"
     ]
    }
   ],
   "source": [
    "print(df_03_18.shape)\n",
    "print(df_18_19.shape)\n",
    "\n",
    "print(df_18_19.columns)\n",
    "print(df_03_18.columns)"
   ]
  },
  {
   "cell_type": "code",
   "execution_count": 4,
   "metadata": {
    "collapsed": false
   },
   "outputs": [],
   "source": [
    "## Data cleaning\n",
    "df_18_19 = df_18_19.drop(['Incident Year',\n",
    "                          'Report Type Code',\n",
    "                          'Filed Online', \n",
    "                          'Supervisor District', \n",
    "                          'incident year'])\n",
    "\n",
    "df_18_19.columns = map(str.lower, df_18_19.columns)\n",
    "df_03_18.columns = map(str.lower, df_03_18.columns)\n",
    "\n",
    "df_18_19 = df_18_19.rename(columns={\n",
    "        'incident date': 'incident_date', \n",
    "        'incident time': 'incident_time',\n",
    "        'incident day of week': 'incident_dow',\n",
    "        'report Datetime': 'report_datetime',\n",
    "        'row id': 'row_id',\n",
    "        'incident number': 'incident_number',\n",
    "        'incident id': 'incident_id',\n",
    "        'cad number': 'cad_number',\n",
    "        'report type description': 'report_type',\n",
    "        'incident code': 'incident_code',\n",
    "        'incident category': 'incident_category',\n",
    "        'incident subcategory': 'incident_subcategory',\n",
    "        'incident description': 'incident_desc',\n",
    "        'police district': 'police_district',\n",
    "        'analysis neighborhood': 'neighborhood',\n",
    "        'latitude': 'lat',\n",
    "        'longitude': 'long'})\n",
    "\n",
    "df_03_18 = df_03_18.rename(columns={\n",
    "        'date': 'incident_date', \n",
    "        'time': 'incident_time',\n",
    "        'dayofweek': 'incident_dow',\n",
    "        'pdid': 'row_id',\n",
    "        'incidntnum': 'incident_number',\n",
    "        'incident code': 'incident_code',\n",
    "        'category': 'incident_category',\n",
    "        'descript': 'incident_desc',\n",
    "        'pddistrict': 'police_district',\n",
    "        'address': 'intersection',\n",
    "        'location': 'point',\n",
    "        'x': 'lat',\n",
    "        'y': 'long'})\n"
   ]
  },
  {
   "cell_type": "code",
   "execution_count": 5,
   "metadata": {
    "collapsed": false
   },
   "outputs": [
    {
     "name": "stdout",
     "output_type": "stream",
     "text": [
      "(2215024, 12)\n",
      "(191216, 25)\n",
      "Index([u'incident_date', u'incident_time', u'incident year', u'incident_dow',\n",
      "       u'report datetime', u'row_id', u'incident_id', u'incident_number',\n",
      "       u'cad_number', u'report type code', u'report_type', u'filed online',\n",
      "       u'incident_code', u'incident_category', u'incident_subcategory',\n",
      "       u'incident_desc', u'resolution', u'intersection', u'cnn',\n",
      "       u'police_district', u'neighborhood', u'supervisor district', u'lat',\n",
      "       u'long', u'point'],\n",
      "      dtype='object')\n",
      "Index([u'incident_category', u'incident_desc', u'incident_dow',\n",
      "       u'incident_date', u'incident_time', u'police_district', u'resolution',\n",
      "       u'intersection', u'lat', u'long', u'point', u'row_id'],\n",
      "      dtype='object')\n"
     ]
    }
   ],
   "source": [
    "print(df_03_18.shape)\n",
    "print(df_18_19.shape)\n",
    "\n",
    "print(df_18_19.columns)\n",
    "print(df_03_18.columns)"
   ]
  },
  {
   "cell_type": "code",
   "execution_count": 6,
   "metadata": {
    "collapsed": false
   },
   "outputs": [],
   "source": [
    "## Format Dates, dealing with different formats\n",
    "# 1) create new column temp_date and store there datetimes recognized using first format\n",
    "#df_03_18['temp_date'] = pd.to_datetime(df_03_18['incident_date'], format='%Y/%m/%d', errors='coerce')\n",
    "# 2) get not recognized rows\n",
    "#not_recongized = df_03_18[df_03_18.temp_date.isnull()]\n",
    "# 3) inplace fill not recognized rows with values recognized using second format\n",
    "#df_03_18['temp_date'].fillna(pd.to_datetime(not_recongized['incident_date'], format='%Y/%m/%d', errors='coerce'), inplace=True)\n",
    "# 4) delete starttime column\n",
    "#del df_03_18['incident_date']\n",
    "# 5) inplace rename temp_starttime to starttime\n",
    "#df_03_18.rename(columns={\"temp_date\": \"incident_date\"}, inplace=True)"
   ]
  },
  {
   "cell_type": "code",
   "execution_count": 7,
   "metadata": {
    "collapsed": false,
    "scrolled": true
   },
   "outputs": [],
   "source": [
    "df_03_18['incident_date'] = pd.to_datetime(df_03_18['incident_date'],format='%m/%d/%Y') \n"
   ]
  },
  {
   "cell_type": "code",
   "execution_count": 12,
   "metadata": {
    "collapsed": false
   },
   "outputs": [],
   "source": [
    "## Format Dates, dealing with different formats\n",
    "# 1) create new column temp_date and store there datetimes recognized using first format\n",
    "df_18_19['temp_date'] = pd.to_datetime(df_18_19['incident_date'], format='%Y/%m/%d', errors='coerce')\n",
    "# 2) get not recognized rows\n",
    "not_recongized = df_18_19[df_18_19.temp_date.isnull()]\n",
    "# 3) inplace fill not recognized rows with values recognized using second format\n",
    "df_18_19['temp_date'].fillna(pd.to_datetime(not_recongized['incident_date'], format='%Y/%m/%d', errors='coerce'), inplace=True)\n",
    "\n",
    "# 4) delete starttime column\n",
    "del df_18_19['incident_date']\n",
    "# 5) inplace rename temp_starttime to starttime\n",
    "df_18_19.rename(columns={\"temp_date\": \"incident_date\"}, inplace=True)\n",
    "\n",
    "df_18_19['incident_date'] = pd.to_datetime(df_18_19['incident_date'],format='%m/%d/%Y') \n"
   ]
  },
  {
   "cell_type": "code",
   "execution_count": 15,
   "metadata": {
    "collapsed": false
   },
   "outputs": [
    {
     "name": "stdout",
     "output_type": "stream",
     "text": [
      "2215024\n",
      "191216\n",
      "cad_number                     float64\n",
      "cnn                            float64\n",
      "filed online                    object\n",
      "incident year                  float64\n",
      "incident_category               object\n",
      "incident_code                  float64\n",
      "incident_date           datetime64[ns]\n",
      "incident_desc                   object\n",
      "incident_dow                    object\n",
      "incident_id                    float64\n",
      "incident_number                float64\n",
      "incident_subcategory            object\n",
      "incident_time                   object\n",
      "intersection                    object\n",
      "lat                            float64\n",
      "long                           float64\n",
      "neighborhood                    object\n",
      "point                           object\n",
      "police_district                 object\n",
      "report datetime                 object\n",
      "report type code                object\n",
      "report_type                     object\n",
      "resolution                      object\n",
      "row_id                           int64\n",
      "supervisor district            float64\n",
      "dtype: object\n",
      "           cad_number  cnn filed online  incident year incident_category  \\\n",
      "150060275         NaN  NaN          NaN            NaN      NON-CRIMINAL   \n",
      "150098210         NaN  NaN          NaN            NaN           ROBBERY   \n",
      "150098210         NaN  NaN          NaN            NaN           ASSAULT   \n",
      "150098210         NaN  NaN          NaN            NaN   SECONDARY CODES   \n",
      "150098226         NaN  NaN          NaN            NaN         VANDALISM   \n",
      "\n",
      "           incident_code incident_date  \\\n",
      "150060275            NaN    2015-01-19   \n",
      "150098210            NaN    2015-02-01   \n",
      "150098210            NaN    2015-02-01   \n",
      "150098210            NaN    2015-02-01   \n",
      "150098226            NaN    2015-01-27   \n",
      "\n",
      "                                       incident_desc incident_dow  \\\n",
      "150060275                              LOST PROPERTY       Monday   \n",
      "150098210                      ROBBERY, BODILY FORCE       Sunday   \n",
      "150098210       AGGRAVATED ASSAULT WITH BODILY FORCE       Sunday   \n",
      "150098210                          DOMESTIC VIOLENCE       Sunday   \n",
      "150098226  MALICIOUS MISCHIEF, VANDALISM OF VEHICLES      Tuesday   \n",
      "\n",
      "           incident_id         ...               long neighborhood  \\\n",
      "150060275          NaN         ...          37.761701          NaN   \n",
      "150098210          NaN         ...          37.784191          NaN   \n",
      "150098210          NaN         ...          37.784191          NaN   \n",
      "150098210          NaN         ...          37.784191          NaN   \n",
      "150098226          NaN         ...          37.800469          NaN   \n",
      "\n",
      "                                           point police_district  \\\n",
      "150060275   (37.7617007179518, -122.42158168137)         MISSION   \n",
      "150098210  (37.7841907151119, -122.414406029855)      TENDERLOIN   \n",
      "150098210  (37.7841907151119, -122.414406029855)      TENDERLOIN   \n",
      "150098210  (37.7841907151119, -122.414406029855)      TENDERLOIN   \n",
      "150098226  (37.8004687042875, -122.431118543788)        NORTHERN   \n",
      "\n",
      "           report datetime  report type code report_type resolution  \\\n",
      "150060275              NaN               NaN         NaN       NONE   \n",
      "150098210              NaN               NaN         NaN       NONE   \n",
      "150098210              NaN               NaN         NaN       NONE   \n",
      "150098210              NaN               NaN         NaN       NONE   \n",
      "150098226              NaN               NaN         NaN       NONE   \n",
      "\n",
      "                   row_id supervisor district  \n",
      "150060275  15006027571000                 NaN  \n",
      "150098210  15009821003074                 NaN  \n",
      "150098210  15009821004014                 NaN  \n",
      "150098210  15009821015200                 NaN  \n",
      "150098226  15009822628160                 NaN  \n",
      "\n",
      "[5 rows x 25 columns]\n"
     ]
    }
   ],
   "source": [
    "## Merge incident data\n",
    "print(len(df_03_18))\n",
    "print(len(df_18_19))\n",
    "df_incident = pd.concat([df_03_18, df_18_19])\n",
    "\n",
    "print(df_incident.dtypes)\n",
    "print(df_incident.head(5))\n"
   ]
  },
  {
   "cell_type": "code",
   "execution_count": 16,
   "metadata": {
    "collapsed": false
   },
   "outputs": [],
   "source": [
    "df_incident.to_csv('data/full_incident_data.csv',index=False)"
   ]
  }
 ],
 "metadata": {
  "anaconda-cloud": {},
  "kernelspec": {
   "display_name": "Python [conda root]",
   "language": "python",
   "name": "conda-root-py"
  },
  "language_info": {
   "codemirror_mode": {
    "name": "ipython",
    "version": 2
   },
   "file_extension": ".py",
   "mimetype": "text/x-python",
   "name": "python",
   "nbconvert_exporter": "python",
   "pygments_lexer": "ipython2",
   "version": "2.7.12"
  }
 },
 "nbformat": 4,
 "nbformat_minor": 1
}
