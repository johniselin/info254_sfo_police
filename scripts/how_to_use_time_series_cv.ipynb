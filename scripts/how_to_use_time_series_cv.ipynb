{
 "cells": [
  {
   "cell_type": "code",
   "execution_count": 1,
   "metadata": {},
   "outputs": [],
   "source": [
    "import numpy as np\n",
    "import pandas as pd\n",
    "\n",
    "from utils import load_rnn_data, time_series_cv"
   ]
  },
  {
   "cell_type": "code",
   "execution_count": 2,
   "metadata": {},
   "outputs": [],
   "source": [
    "# set configuration\n",
    "path = \"../features/features_binary_tract_2H.feather\"\n",
    "window = 12\n",
    "predict_ts = 1"
   ]
  },
  {
   "cell_type": "code",
   "execution_count": 3,
   "metadata": {},
   "outputs": [
    {
     "name": "stderr",
     "output_type": "stream",
     "text": [
      "100%|██████████| 195/195 [00:37<00:00,  3.69it/s]\n"
     ]
    }
   ],
   "source": [
    "# load data as x and y of RNN\n",
    "x_all, y_all, geo_ids, y_datetime  = load_rnn_data(path, window, predict_ts)"
   ]
  },
  {
   "cell_type": "code",
   "execution_count": 4,
   "metadata": {},
   "outputs": [
    {
     "name": "stdout",
     "output_type": "stream",
     "text": [
      "---------- split 0 ----------\n",
      "[17:25:43] train_index:0~3099 test_index:3100~6199\n",
      "[17:25:45] train_log_loss:3.7914609505286054 test_log_loss:2.744732641319857\n",
      "[17:25:45] train_acc:0.8902259620555845 test_acc:0.9205318506383366\n",
      "\n",
      "---------- split 1 ----------\n",
      "[17:25:45] train_index:0~6199 test_index:6200~9299\n",
      "[17:25:47] train_log_loss:3.267798179800001 test_log_loss:2.880874763878297\n",
      "[17:25:47] train_acc:0.9053875521692911 test_acc:0.9165901324662216\n",
      "\n",
      "---------- split 2 ----------\n",
      "[17:25:47] train_index:0~9299 test_index:9300~12399\n",
      "[17:25:49] train_log_loss:3.138861934241693 test_log_loss:3.137727282256813\n",
      "[17:25:49] train_acc:0.9091206388335111 test_acc:0.9091534903732387\n",
      "\n",
      "---------- split 3 ----------\n",
      "[17:25:49] train_index:0~12399 test_index:12400~15499\n",
      "[17:25:54] train_log_loss:3.1386966000817376 test_log_loss:3.453963371306283\n",
      "[17:25:54] train_acc:0.909125425747734 test_acc:0.8999975178097153\n",
      "\n",
      "---------- split 4 ----------\n",
      "[17:25:54] train_index:0~15499 test_index:15500~18599\n",
      "[17:26:00] train_log_loss:3.201634023450785 test_log_loss:3.6321712378626256\n",
      "[17:26:00] train_acc:0.9073032007027748 test_acc:0.8948378716045705\n",
      "\n"
     ]
    }
   ],
   "source": [
    "# evaluate log loss and accuracy based on time series cross validation\n",
    "train_scores_df, test_scores_df, y_test_preds = time_series_cv(x_all,\n",
    "                                                               y_all,\n",
    "                                                               n_splits=5,\n",
    "                                                               model=None,\n",
    "                                                               fit_params=None,\n",
    "                                                               baseline=True)"
   ]
  },
  {
   "cell_type": "code",
   "execution_count": 8,
   "metadata": {},
   "outputs": [
    {
     "data": {
      "text/html": [
       "<div>\n",
       "<style scoped>\n",
       "    .dataframe tbody tr th:only-of-type {\n",
       "        vertical-align: middle;\n",
       "    }\n",
       "\n",
       "    .dataframe tbody tr th {\n",
       "        vertical-align: top;\n",
       "    }\n",
       "\n",
       "    .dataframe thead th {\n",
       "        text-align: right;\n",
       "    }\n",
       "</style>\n",
       "<table border=\"1\" class=\"dataframe\">\n",
       "  <thead>\n",
       "    <tr style=\"text-align: right;\">\n",
       "      <th></th>\n",
       "      <th>acc</th>\n",
       "      <th>log_loss</th>\n",
       "    </tr>\n",
       "  </thead>\n",
       "  <tbody>\n",
       "    <tr>\n",
       "      <th>0</th>\n",
       "      <td>0.890226</td>\n",
       "      <td>3.791461</td>\n",
       "    </tr>\n",
       "    <tr>\n",
       "      <th>1</th>\n",
       "      <td>0.905388</td>\n",
       "      <td>3.267798</td>\n",
       "    </tr>\n",
       "    <tr>\n",
       "      <th>2</th>\n",
       "      <td>0.909121</td>\n",
       "      <td>3.138862</td>\n",
       "    </tr>\n",
       "    <tr>\n",
       "      <th>3</th>\n",
       "      <td>0.909125</td>\n",
       "      <td>3.138697</td>\n",
       "    </tr>\n",
       "    <tr>\n",
       "      <th>4</th>\n",
       "      <td>0.907303</td>\n",
       "      <td>3.201634</td>\n",
       "    </tr>\n",
       "  </tbody>\n",
       "</table>\n",
       "</div>"
      ],
      "text/plain": [
       "        acc  log_loss\n",
       "0  0.890226  3.791461\n",
       "1  0.905388  3.267798\n",
       "2  0.909121  3.138862\n",
       "3  0.909125  3.138697\n",
       "4  0.907303  3.201634"
      ]
     },
     "execution_count": 8,
     "metadata": {},
     "output_type": "execute_result"
    }
   ],
   "source": [
    "train_scores_df"
   ]
  },
  {
   "cell_type": "code",
   "execution_count": 7,
   "metadata": {},
   "outputs": [
    {
     "data": {
      "text/html": [
       "<div>\n",
       "<style scoped>\n",
       "    .dataframe tbody tr th:only-of-type {\n",
       "        vertical-align: middle;\n",
       "    }\n",
       "\n",
       "    .dataframe tbody tr th {\n",
       "        vertical-align: top;\n",
       "    }\n",
       "\n",
       "    .dataframe thead th {\n",
       "        text-align: right;\n",
       "    }\n",
       "</style>\n",
       "<table border=\"1\" class=\"dataframe\">\n",
       "  <thead>\n",
       "    <tr style=\"text-align: right;\">\n",
       "      <th></th>\n",
       "      <th>acc</th>\n",
       "      <th>log_loss</th>\n",
       "    </tr>\n",
       "  </thead>\n",
       "  <tbody>\n",
       "    <tr>\n",
       "      <th>0</th>\n",
       "      <td>0.920532</td>\n",
       "      <td>2.744733</td>\n",
       "    </tr>\n",
       "    <tr>\n",
       "      <th>1</th>\n",
       "      <td>0.916590</td>\n",
       "      <td>2.880875</td>\n",
       "    </tr>\n",
       "    <tr>\n",
       "      <th>2</th>\n",
       "      <td>0.909153</td>\n",
       "      <td>3.137727</td>\n",
       "    </tr>\n",
       "    <tr>\n",
       "      <th>3</th>\n",
       "      <td>0.899998</td>\n",
       "      <td>3.453963</td>\n",
       "    </tr>\n",
       "    <tr>\n",
       "      <th>4</th>\n",
       "      <td>0.894838</td>\n",
       "      <td>3.632171</td>\n",
       "    </tr>\n",
       "  </tbody>\n",
       "</table>\n",
       "</div>"
      ],
      "text/plain": [
       "        acc  log_loss\n",
       "0  0.920532  2.744733\n",
       "1  0.916590  2.880875\n",
       "2  0.909153  3.137727\n",
       "3  0.899998  3.453963\n",
       "4  0.894838  3.632171"
      ]
     },
     "execution_count": 7,
     "metadata": {},
     "output_type": "execute_result"
    }
   ],
   "source": [
    "test_scores_df"
   ]
  },
  {
   "cell_type": "code",
   "execution_count": 12,
   "metadata": {},
   "outputs": [
    {
     "data": {
      "text/plain": [
       "1.4398609856192393e-308"
      ]
     },
     "execution_count": 12,
     "metadata": {},
     "output_type": "execute_result"
    }
   ],
   "source": [
    "y_test_preds.sum()"
   ]
  },
  {
   "cell_type": "code",
   "execution_count": null,
   "metadata": {},
   "outputs": [],
   "source": []
  }
 ],
 "metadata": {
  "kernelspec": {
   "display_name": "Python 3",
   "language": "python",
   "name": "python3"
  },
  "language_info": {
   "codemirror_mode": {
    "name": "ipython",
    "version": 3
   },
   "file_extension": ".py",
   "mimetype": "text/x-python",
   "name": "python",
   "nbconvert_exporter": "python",
   "pygments_lexer": "ipython3",
   "version": "3.7.2"
  },
  "toc": {
   "base_numbering": 1,
   "nav_menu": {},
   "number_sections": true,
   "sideBar": true,
   "skip_h1_title": false,
   "title_cell": "Table of Contents",
   "title_sidebar": "Contents",
   "toc_cell": false,
   "toc_position": {},
   "toc_section_display": true,
   "toc_window_display": false
  }
 },
 "nbformat": 4,
 "nbformat_minor": 2
}
