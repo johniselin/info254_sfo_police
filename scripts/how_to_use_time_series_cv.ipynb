{
 "cells": [
  {
   "cell_type": "code",
   "execution_count": 1,
   "metadata": {},
   "outputs": [],
   "source": [
    "import numpy as np\n",
    "import pandas as pd\n",
    "\n",
    "from sklearn.model_selection import TimeSeriesSplit\n",
    "from sklearn.metrics import accuracy_score, log_loss\n",
    "\n",
    "from copy import deepcopy\n",
    "\n",
    "from utils import load_rnn_data, time_series_cv"
   ]
  },
  {
   "cell_type": "code",
   "execution_count": 2,
   "metadata": {},
   "outputs": [],
   "source": [
    "# set configuration\n",
    "path = \"../features/features_binary_tract_2H.feather\"\n",
    "window = 24\n",
    "predict_ts = 24"
   ]
  },
  {
   "cell_type": "code",
   "execution_count": 3,
   "metadata": {},
   "outputs": [
    {
     "name": "stderr",
     "output_type": "stream",
     "text": [
      "100%|██████████| 195/195 [00:24<00:00,  9.27it/s]\n"
     ]
    }
   ],
   "source": [
    "# load data as x and y of RNN\n",
    "x_all, y_all, geo_ids, y_datetime  = load_rnn_data(path, window, predict_ts)"
   ]
  },
  {
   "cell_type": "code",
   "execution_count": 4,
   "metadata": {},
   "outputs": [],
   "source": [
    "# transpose input shape to apply TimeSeriesSplit in time_series_cv\n",
    "# TODO: fix output shape of load_rnn_data\n",
    "if x_all.shape[0] != y_all.shape[0]:\n",
    "    x_all = x_all.T\n",
    "    y_all = y_all.T"
   ]
  },
  {
   "cell_type": "code",
   "execution_count": 5,
   "metadata": {},
   "outputs": [
    {
     "name": "stdout",
     "output_type": "stream",
     "text": [
      "---------- split 0 ----------\n",
      "train_index:0~3094 test_index:3095~6188\n",
      "train_log_loss:3.7809864660379318 test_log_loss:2.7456476129397034\n",
      "train_acc:0.8905292294432566 test_acc:0.9205053594966301\n",
      "\n",
      "---------- split 1 ----------\n",
      "train_index:0~6188 test_index:6189~9282\n",
      "train_log_loss:3.263617544106306 test_log_loss:2.882683752299917\n",
      "train_acc:0.9055085939701324 test_acc:0.9165377568869324\n",
      "\n",
      "---------- split 2 ----------\n",
      "train_index:0~9282 test_index:9283~12376\n",
      "train_log_loss:3.1366534455513313 test_log_loss:3.14163796132076\n",
      "train_acc:0.9091845811302824 test_acc:0.9090402646173742\n",
      "\n",
      "---------- split 3 ----------\n",
      "train_index:0~12376 test_index:12377~15470\n",
      "train_log_loss:3.1379033363539777 test_log_loss:3.454020803029891\n",
      "train_acc:0.9091483930850447 test_acc:0.8999958549910053\n",
      "\n",
      "---------- split 4 ----------\n",
      "train_index:0~15470 test_index:15471~18564\n",
      "train_log_loss:3.2010295006930085 test_log_loss:3.631486325753375\n",
      "train_acc:0.9073207034293007 test_acc:0.894857701841213\n",
      "\n"
     ]
    }
   ],
   "source": [
    "# evaluate log loss and accuracy based on time series cross validation\n",
    "train_scores_df, test_scores_df, y_test_preds = time_series_cv(x_all,\n",
    "                                                               y_all,\n",
    "                                                               n_splits=5,\n",
    "                                                               model=None,\n",
    "                                                               fit_params=None,\n",
    "                                                               baseline=True)"
   ]
  },
  {
   "cell_type": "code",
   "execution_count": null,
   "metadata": {},
   "outputs": [],
   "source": []
  }
 ],
 "metadata": {
  "kernelspec": {
   "display_name": "Python 3",
   "language": "python",
   "name": "python3"
  },
  "language_info": {
   "codemirror_mode": {
    "name": "ipython",
    "version": 3
   },
   "file_extension": ".py",
   "mimetype": "text/x-python",
   "name": "python",
   "nbconvert_exporter": "python",
   "pygments_lexer": "ipython3",
   "version": "3.7.2"
  },
  "toc": {
   "base_numbering": 1,
   "nav_menu": {},
   "number_sections": true,
   "sideBar": true,
   "skip_h1_title": false,
   "title_cell": "Table of Contents",
   "title_sidebar": "Contents",
   "toc_cell": false,
   "toc_position": {},
   "toc_section_display": true,
   "toc_window_display": false
  }
 },
 "nbformat": 4,
 "nbformat_minor": 2
}
