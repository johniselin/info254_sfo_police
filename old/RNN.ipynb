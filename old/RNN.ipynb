{
 "cells": [
  {
   "cell_type": "code",
   "execution_count": 11,
   "metadata": {},
   "outputs": [],
   "source": [
    "import pandas as pd\n",
    "import numpy as np\n",
    "from sodapy import Socrata\n",
    "import collections\n",
    "import re\n",
    "from time import time\n",
    "import math\n",
    "import feather\n",
    "from collections import defaultdict\n",
    "import geopandas\n",
    "from datetime import datetime\n",
    "from sklearn.model_selection import train_test_split\n",
    "\n",
    "#Using keras\n",
    "import keras\n",
    "from keras.models import Sequential  \n",
    "from keras.layers import Dense, LSTM, Dropout\n",
    "\n",
    "# others\n",
    "from tqdm import tqdm\n",
    "\n",
    "# original\n",
    "from scripts.utils import load_rnn_data"
   ]
  },
  {
   "cell_type": "markdown",
   "metadata": {},
   "source": [
    "# load data"
   ]
  },
  {
   "cell_type": "code",
   "execution_count": 12,
   "metadata": {},
   "outputs": [],
   "source": [
    "# set configuration\n",
    "path = \"./features/features_binary_tract_2H.feather\"\n",
    "window = 1\n",
    "predict_ts = 1"
   ]
  },
  {
   "cell_type": "code",
   "execution_count": 13,
   "metadata": {},
   "outputs": [
    {
     "name": "stderr",
     "output_type": "stream",
     "text": [
      "100%|██████████| 195/195 [00:10<00:00, 18.78it/s]\n"
     ]
    }
   ],
   "source": [
    "# load data as x and y of RNN\n",
    "x_all, y_all, geo_ids, y_datetime = load_rnn_data(path, window, predict_ts)"
   ]
  },
  {
   "cell_type": "code",
   "execution_count": 14,
   "metadata": {},
   "outputs": [
    {
     "name": "stdout",
     "output_type": "stream",
     "text": [
      "(1, 8, 195, 18611)\n",
      "(1, 195, 18611)\n",
      "195\n",
      "18611\n"
     ]
    }
   ],
   "source": [
    "print(x_all.shape)\n",
    "print(y_all.shape)\n",
    "print(len(geo_ids))\n",
    "print(len(y_datetime))"
   ]
  },
  {
   "cell_type": "code",
   "execution_count": 15,
   "metadata": {},
   "outputs": [],
   "source": [
    "# np.save(\"x_all.npy\", x_all)\n",
    "# np.save(\"y_all.npy\", y_all)"
   ]
  },
  {
   "cell_type": "code",
   "execution_count": null,
   "metadata": {},
   "outputs": [],
   "source": [
    "# df = feather.read_dataframe(\"./features/features_binary_tract_2H.feather\")"
   ]
  },
  {
   "cell_type": "code",
   "execution_count": null,
   "metadata": {},
   "outputs": [],
   "source": [
    "# df.head()"
   ]
  },
  {
   "cell_type": "code",
   "execution_count": null,
   "metadata": {},
   "outputs": [],
   "source": [
    "# df = df.sort_values(['geoid10_tract', 'datetime'])"
   ]
  },
  {
   "cell_type": "code",
   "execution_count": null,
   "metadata": {},
   "outputs": [],
   "source": [
    "# df_x = df.drop([\"datetime\"],axis=1).reset_index(drop=True)\n",
    "# df_x.head()"
   ]
  },
  {
   "cell_type": "code",
   "execution_count": null,
   "metadata": {},
   "outputs": [],
   "source": [
    "# df_t = df.drop([\"datetime\",\"prcp\",\"year\",\"month\",\"woy\",\"dow\",\"weekend\",\"hour\"],axis=1).reset_index(drop=True)\n",
    "# df_t.head()"
   ]
  },
  {
   "cell_type": "code",
   "execution_count": null,
   "metadata": {},
   "outputs": [],
   "source": [
    "# def _load_data(data, n_prev = 24):  \n",
    "\n",
    "#     docX, docY = [], []\n",
    "#     for i in range(len(data)-n_prev):\n",
    "#         docX.append(data.iloc[i:i+n_prev].as_matrix())\n",
    "#         docY.append(data.iloc[i+n_prev].as_matrix())\n",
    "#     alsX = np.array(docX)\n",
    "#     alsY = np.array(docY)\n",
    "\n",
    "#     return alsX, alsY\n",
    "\n",
    "# def train_test_split(df, test_size=0.1, n_prev = 24):  \n",
    "#     \"\"\"\n",
    "#     This just splits data to training and testing parts\n",
    "#     \"\"\"\n",
    "#     ntrn = round(len(df) * (1 - test_size))\n",
    "#     ntrn = int(ntrn)\n",
    "#     X_train, y_train = _load_data(df.iloc[0:ntrn], n_prev)\n",
    "#     X_test, y_test = _load_data(df.iloc[ntrn:], n_prev)\n",
    "\n",
    "#     return (X_train, y_train), (X_test, y_test)"
   ]
  },
  {
   "cell_type": "code",
   "execution_count": null,
   "metadata": {},
   "outputs": [],
   "source": [
    "# x_data = np.array(df_x)\n",
    "# t_data = np.array(df_t)"
   ]
  },
  {
   "cell_type": "code",
   "execution_count": null,
   "metadata": {},
   "outputs": [],
   "source": [
    "# x_data.shape\n",
    "# t_data.shape"
   ]
  },
  {
   "cell_type": "code",
   "execution_count": null,
   "metadata": {},
   "outputs": [],
   "source": [
    "# maxlen = 24              # number of window (by hour)\n",
    "# n_in = x_data.shape[1]   # the number of input（＝train data）\n",
    "# n_out = t_data.shape[1]  # the number of output（=label data）\n",
    "# len_seq = x_data.shape[0] - maxlen + 1\n",
    "# data = []\n",
    "# target = []\n",
    "# for i in range(0, len_seq):\n",
    "#     data.append(x_data[i:i+maxlen, :])\n",
    "#     target.append(t_data[i+maxlen-1, :])\n",
    "\n",
    "# x = np.array(data).reshape(len(data), maxlen, n_in)\n",
    "# t = np.array(target).reshape(len(data), n_out)\n",
    "\n",
    "print(x.shape, t.shape)\n",
    "\n",
    "n_train = int(len(data)*0.9)              # length of train data\n",
    "x_train,x_test = np.vsplit(x, [n_train])  # split into train and test data\n",
    "t_train,t_test = np.vsplit(t, [n_train])  # split into train and test data\n",
    "\n",
    "print(x_train.shape)\n",
    "print(x_test.shape)\n",
    "print(t_train.shape)\n",
    "print(t_test.shape)"
   ]
  },
  {
   "cell_type": "code",
   "execution_count": null,
   "metadata": {},
   "outputs": [],
   "source": [
    "print(x_train.shape)\n",
    "print(x_test.shape)\n",
    "print(t_train.shape)\n",
    "print(t_test.shape)"
   ]
  },
  {
   "cell_type": "code",
   "execution_count": null,
   "metadata": {},
   "outputs": [],
   "source": [
    "\n",
    "# (X_train, y_train), (X_test, y_test) = train_test_split(df, n_prev =length_of_sequences) "
   ]
  },
  {
   "cell_type": "code",
   "execution_count": null,
   "metadata": {},
   "outputs": [],
   "source": [
    "#Dense=4,when output is 4 types crimes. \n",
    "in_out_neurons = 11\n",
    "length_of_sequences = 24\n",
    "hidden_neurons = 50\n",
    "dropout_rate = 0.2\n",
    "\n",
    "model = Sequential()\n",
    "model.add(LSTM(units=hidden_neurons, input_shape=(window, x_all.shape[1], x_all.shape[2]),\n",
    "#                return_sequences=False\n",
    "              ))\n",
    "model.add(Dropout(dropout_rate))\n",
    "model.add(Dense(units=195, activation=\"sigmoid\"))\n",
    "\n",
    "#using softmax\n",
    "# model.add(Activation(\"sigmoid\")) \n",
    "model.compile(loss=\"binary_crossentropy\", optimizer=\"adam\", metrics=[\"acc\"])"
   ]
  },
  {
   "cell_type": "code",
   "execution_count": null,
   "metadata": {},
   "outputs": [],
   "source": [
    "model.summary()"
   ]
  },
  {
   "cell_type": "code",
   "execution_count": null,
   "metadata": {},
   "outputs": [],
   "source": [
    "rnn = model.fit(x_all, y_all, epochs=1, batch_size=256)"
   ]
  },
  {
   "cell_type": "code",
   "execution_count": null,
   "metadata": {},
   "outputs": [],
   "source": [
    "predicted = model.predict(x_test) \n",
    "df_predicted =  pd.DataFrame(predicted[:200])\n",
    "data_predicted.head()"
   ]
  },
  {
   "cell_type": "code",
   "execution_count": null,
   "metadata": {},
   "outputs": [],
   "source": [
    "data_actual = pd.DataFrame(y_test[:200])"
   ]
  },
  {
   "cell_type": "code",
   "execution_count": null,
   "metadata": {},
   "outputs": [],
   "source": []
  }
 ],
 "metadata": {
  "kernelspec": {
   "display_name": "Python 3",
   "language": "python",
   "name": "python3"
  },
  "language_info": {
   "codemirror_mode": {
    "name": "ipython",
    "version": 3
   },
   "file_extension": ".py",
   "mimetype": "text/x-python",
   "name": "python",
   "nbconvert_exporter": "python",
   "pygments_lexer": "ipython3",
   "version": "3.7.2"
  },
  "toc": {
   "base_numbering": 1,
   "nav_menu": {},
   "number_sections": true,
   "sideBar": true,
   "skip_h1_title": false,
   "title_cell": "Table of Contents",
   "title_sidebar": "Contents",
   "toc_cell": false,
   "toc_position": {},
   "toc_section_display": true,
   "toc_window_display": false
  }
 },
 "nbformat": 4,
 "nbformat_minor": 2
}
