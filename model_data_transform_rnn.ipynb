{
 "cells": [
  {
   "cell_type": "code",
   "execution_count": 1,
   "metadata": {},
   "outputs": [],
   "source": [
    "# wangling\n",
    "import numpy as np\n",
    "import pandas as pd\n",
    "import feather\n",
    "\n",
    "# geospatial\n",
    "import geopandas as gpd\n",
    "from shapely.geometry import Point\n",
    "from shapely.ops import nearest_points\n",
    "\n",
    "# others\n",
    "import re\n",
    "import os\n",
    "import glob\n",
    "from datetime import datetime\n",
    "from tqdm import tqdm_notebook as tqdm"
   ]
  },
  {
   "cell_type": "markdown",
   "metadata": {},
   "source": [
    "# load data with features"
   ]
  },
  {
   "cell_type": "code",
   "execution_count": 2,
   "metadata": {},
   "outputs": [
    {
     "name": "stdout",
     "output_type": "stream",
     "text": [
      "(3626217, 9)\n"
     ]
    },
    {
     "data": {
      "text/html": [
       "<div>\n",
       "<style scoped>\n",
       "    .dataframe tbody tr th:only-of-type {\n",
       "        vertical-align: middle;\n",
       "    }\n",
       "\n",
       "    .dataframe tbody tr th {\n",
       "        vertical-align: top;\n",
       "    }\n",
       "\n",
       "    .dataframe thead th {\n",
       "        text-align: right;\n",
       "    }\n",
       "</style>\n",
       "<table border=\"1\" class=\"dataframe\">\n",
       "  <thead>\n",
       "    <tr style=\"text-align: right;\">\n",
       "      <th></th>\n",
       "      <th>geoid10_tract</th>\n",
       "      <th>crime</th>\n",
       "      <th>prcp</th>\n",
       "      <th>year</th>\n",
       "      <th>month</th>\n",
       "      <th>woy</th>\n",
       "      <th>dow</th>\n",
       "      <th>weekend</th>\n",
       "      <th>hour</th>\n",
       "    </tr>\n",
       "    <tr>\n",
       "      <th>datetime</th>\n",
       "      <th></th>\n",
       "      <th></th>\n",
       "      <th></th>\n",
       "      <th></th>\n",
       "      <th></th>\n",
       "      <th></th>\n",
       "      <th></th>\n",
       "      <th></th>\n",
       "      <th></th>\n",
       "    </tr>\n",
       "  </thead>\n",
       "  <tbody>\n",
       "    <tr>\n",
       "      <th>2015-01-01</th>\n",
       "      <td>06075010100</td>\n",
       "      <td>1</td>\n",
       "      <td>0.0</td>\n",
       "      <td>2015</td>\n",
       "      <td>1</td>\n",
       "      <td>1</td>\n",
       "      <td>3</td>\n",
       "      <td>0</td>\n",
       "      <td>0</td>\n",
       "    </tr>\n",
       "    <tr>\n",
       "      <th>2015-01-01</th>\n",
       "      <td>06075010200</td>\n",
       "      <td>1</td>\n",
       "      <td>0.0</td>\n",
       "      <td>2015</td>\n",
       "      <td>1</td>\n",
       "      <td>1</td>\n",
       "      <td>3</td>\n",
       "      <td>0</td>\n",
       "      <td>0</td>\n",
       "    </tr>\n",
       "    <tr>\n",
       "      <th>2015-01-01</th>\n",
       "      <td>06075010400</td>\n",
       "      <td>1</td>\n",
       "      <td>0.0</td>\n",
       "      <td>2015</td>\n",
       "      <td>1</td>\n",
       "      <td>1</td>\n",
       "      <td>3</td>\n",
       "      <td>0</td>\n",
       "      <td>0</td>\n",
       "    </tr>\n",
       "    <tr>\n",
       "      <th>2015-01-01</th>\n",
       "      <td>06075010500</td>\n",
       "      <td>1</td>\n",
       "      <td>0.0</td>\n",
       "      <td>2015</td>\n",
       "      <td>1</td>\n",
       "      <td>1</td>\n",
       "      <td>3</td>\n",
       "      <td>0</td>\n",
       "      <td>0</td>\n",
       "    </tr>\n",
       "    <tr>\n",
       "      <th>2015-01-01</th>\n",
       "      <td>06075010600</td>\n",
       "      <td>1</td>\n",
       "      <td>0.0</td>\n",
       "      <td>2015</td>\n",
       "      <td>1</td>\n",
       "      <td>1</td>\n",
       "      <td>3</td>\n",
       "      <td>0</td>\n",
       "      <td>0</td>\n",
       "    </tr>\n",
       "  </tbody>\n",
       "</table>\n",
       "</div>"
      ],
      "text/plain": [
       "           geoid10_tract  crime  prcp  year  month  woy  dow  weekend  hour\n",
       "datetime                                                                   \n",
       "2015-01-01   06075010100      1   0.0  2015      1    1    3        0     0\n",
       "2015-01-01   06075010200      1   0.0  2015      1    1    3        0     0\n",
       "2015-01-01   06075010400      1   0.0  2015      1    1    3        0     0\n",
       "2015-01-01   06075010500      1   0.0  2015      1    1    3        0     0\n",
       "2015-01-01   06075010600      1   0.0  2015      1    1    3        0     0"
      ]
     },
     "execution_count": 2,
     "metadata": {},
     "output_type": "execute_result"
    }
   ],
   "source": [
    "df = feather.read_dataframe(\"features/features_binary_tract_2H.feather\")\n",
    "df.sort_values(by=[\"datetime\", \"geoid10_tract\"], inplace=True)\n",
    "df.set_index(\"datetime\", inplace=True)\n",
    "print(df.shape)\n",
    "df.head()"
   ]
  },
  {
   "cell_type": "code",
   "execution_count": 3,
   "metadata": {},
   "outputs": [
    {
     "data": {
      "text/plain": [
       "geoid10_tract     object\n",
       "crime              int64\n",
       "prcp             float64\n",
       "year               int64\n",
       "month              int64\n",
       "woy                int64\n",
       "dow                int64\n",
       "weekend            int64\n",
       "hour               int64\n",
       "dtype: object"
      ]
     },
     "execution_count": 3,
     "metadata": {},
     "output_type": "execute_result"
    }
   ],
   "source": [
    "df.dtypes"
   ]
  },
  {
   "cell_type": "code",
   "execution_count": 4,
   "metadata": {},
   "outputs": [
    {
     "data": {
      "text/plain": [
       "geoid10_tract    0\n",
       "crime            0\n",
       "prcp             0\n",
       "year             0\n",
       "month            0\n",
       "woy              0\n",
       "dow              0\n",
       "weekend          0\n",
       "hour             0\n",
       "dtype: int64"
      ]
     },
     "execution_count": 4,
     "metadata": {},
     "output_type": "execute_result"
    }
   ],
   "source": [
    "df.isnull().sum()"
   ]
  },
  {
   "cell_type": "markdown",
   "metadata": {},
   "source": [
    "# transformation for RNN input"
   ]
  },
  {
   "cell_type": "code",
   "execution_count": 5,
   "metadata": {},
   "outputs": [],
   "source": [
    "# set configuration\n",
    "window = 10"
   ]
  },
  {
   "cell_type": "code",
   "execution_count": 6,
   "metadata": {},
   "outputs": [],
   "source": [
    "def get_sequences(df, window):\n",
    "    \"\"\"\n",
    "    return sequences with given window size\n",
    "    \"\"\"\n",
    "    # convert to ndarry\n",
    "    values = df.values\n",
    "    sequences = []\n",
    "    \n",
    "    # store each sequences rolling window\n",
    "    for i in range(window, len(df)):\n",
    "        seq = values[i-window:i+1]\n",
    "        sequences.append(seq)\n",
    "        \n",
    "    return sequences"
   ]
  },
  {
   "cell_type": "code",
   "execution_count": 7,
   "metadata": {},
   "outputs": [],
   "source": [
    "# output columns\n",
    "if \"crime\" in df.columns:\n",
    "    y_cols = [\"crime\"]\n",
    "elif \"incident_type_1\" in df.columns:\n",
    "    y_cols = [\"incident_type_0\", \"incident_type_1\", \"incident_type_2\"]\n",
    "\n",
    "# geo column\n",
    "if \"geoid10_tract\" in df.columns:\n",
    "    geo_col = [\"geoid10_tract\"]\n",
    "elif \"geoid10_block\" in df.columns:\n",
    "    geo_col = [\"geoid10_block\"]\n",
    "    \n",
    "# input columns\n",
    "x_cols = list(df.drop(y_cols + geo_col, axis=1).columns)"
   ]
  },
  {
   "cell_type": "code",
   "execution_count": 8,
   "metadata": {},
   "outputs": [],
   "source": [
    "geo_grs = df.groupby(by=geo_col)"
   ]
  },
  {
   "cell_type": "code",
   "execution_count": 9,
   "metadata": {},
   "outputs": [
    {
     "data": {
      "application/vnd.jupyter.widget-view+json": {
       "model_id": "8e5365cc19774526a9d9d564807d5fd5",
       "version_major": 2,
       "version_minor": 0
      },
      "text/plain": [
       "HBox(children=(IntProgress(value=0, max=195), HTML(value='')))"
      ]
     },
     "metadata": {},
     "output_type": "display_data"
    },
    {
     "name": "stdout",
     "output_type": "stream",
     "text": [
      "\n"
     ]
    }
   ],
   "source": [
    "# arrayes to store x and y\n",
    "# (window size, input size, no of timesteps, no of tracts)\n",
    "x_all = np.empty(shape=(window, len(x_cols + y_cols), len(geo_grs), len(df)-window))\n",
    "\n",
    "# (output size, no of timesteps, no of tracts)\n",
    "y_all = np.empty(shape=(len(y_cols), len(geo_grs), len(df)-window,))\n",
    "\n",
    "for i, (_, gr) in enumerate(tqdm(geo_grs)):\n",
    "    x_values = gr[y_cols + x_cols].values\n",
    "    y_values = gr[y_cols].values\n",
    "    \n",
    "    for j in range(window, len(gr)):\n",
    "        x_all[:,:,i,j] = x_values[j-window:j, :]\n",
    "        y_all[:,i,j] = y_values[j, :]"
   ]
  },
  {
   "cell_type": "code",
   "execution_count": null,
   "metadata": {},
   "outputs": [],
   "source": []
  }
 ],
 "metadata": {
  "kernelspec": {
   "display_name": "Python 3",
   "language": "python",
   "name": "python3"
  },
  "language_info": {
   "codemirror_mode": {
    "name": "ipython",
    "version": 3
   },
   "file_extension": ".py",
   "mimetype": "text/x-python",
   "name": "python",
   "nbconvert_exporter": "python",
   "pygments_lexer": "ipython3",
   "version": "3.7.2"
  },
  "toc": {
   "base_numbering": 1,
   "nav_menu": {},
   "number_sections": true,
   "sideBar": true,
   "skip_h1_title": false,
   "title_cell": "Table of Contents",
   "title_sidebar": "Contents",
   "toc_cell": false,
   "toc_position": {},
   "toc_section_display": true,
   "toc_window_display": false
  }
 },
 "nbformat": 4,
 "nbformat_minor": 2
}
