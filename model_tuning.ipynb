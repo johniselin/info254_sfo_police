{
 "cells": [
  {
   "cell_type": "code",
   "execution_count": 1,
   "metadata": {},
   "outputs": [
    {
     "name": "stderr",
     "output_type": "stream",
     "text": [
      "Using TensorFlow backend.\n"
     ]
    }
   ],
   "source": [
    "import pandas as pd\n",
    "import numpy as np\n",
    "import re\n",
    "from time import time\n",
    "import math\n",
    "import feather\n",
    "from datetime import datetime\n",
    "import os\n",
    "import glob\n",
    "from tqdm import tqdm_notebook as tqdm\n",
    "import optuna\n",
    "from optuna.integration import KerasPruningCallback\n",
    "import tempfile\n",
    "import tensorflow as tf\n",
    "import random as rn\n",
    "\n",
    "#Using keras\n",
    "import keras\n",
    "from keras import backend as K\n",
    "from keras.models import Sequential  \n",
    "from keras.layers import Dense, LSTM, Dropout\n",
    "from keras.callbacks import EarlyStopping\n",
    "\n",
    "#from scripts.utils import load_rnn_data\n",
    "pd.options.display.max_columns = 200\n",
    "\n",
    "# validation\n",
    "from sklearn.model_selection import StratifiedKFold, train_test_split\n",
    "from sklearn.metrics import accuracy_score,mean_squared_error, log_loss\n",
    "from sklearn.model_selection import TimeSeriesSplit\n",
    "from sklearn.preprocessing import MinMaxScaler\n",
    "from copy import deepcopy\n",
    "\n",
    "# others\n",
    "import warnings\n",
    "warnings.filterwarnings(\"ignore\")"
   ]
  },
  {
   "cell_type": "markdown",
   "metadata": {},
   "source": [
    "## Load Data"
   ]
  },
  {
   "cell_type": "code",
   "execution_count": 2,
   "metadata": {},
   "outputs": [],
   "source": [
    "def load_rnn_data(path, window, predict_ts, isdim3=True, geo_col=[\"geoid10_tract\"], y_cols=[\"crime\"]):\n",
    "    \"\"\"\n",
    "    y_cols: [\"crime\"] or [\"incident_type_0\", \"incident_type_1\", \"incident_type_2\"]\n",
    "    geo_col: [\"geoid10_tract\"] or [\"geoid10_block\"]\n",
    "    return y_all and x_all of given path\n",
    "    \"\"\"\n",
    "    # load data\n",
    "    df = feather.read_dataframe(path)\n",
    "    df.sort_values(by=[\"datetime\", \"geoid10_tract\"], inplace=True)\n",
    "    df.set_index(\"datetime\", inplace=True)\n",
    "\n",
    "    # input columns\n",
    "    x_cols = list(df.drop(y_cols + geo_col, axis=1).columns)\n",
    "\n",
    "    # group by geoid\n",
    "    geo_grs = df.groupby(by=geo_col)\n",
    "\n",
    "    # arrayes to store x and y\n",
    "    # (no of timesteps, window size, no of tracts,  no of features, )\n",
    "    n_timesteps = int(len(df) / len(geo_grs)) - window - predict_ts + 1\n",
    "    x_all = np.empty(shape=(n_timesteps, window, len(geo_grs), len(x_cols + y_cols)))\n",
    "\n",
    "    # (output size, no of tracts, no of outputs)\n",
    "    y_all = np.empty(shape=(n_timesteps, len(geo_grs), len(y_cols)))\n",
    "\n",
    "    # to store geo_ids and y_all's datetime\n",
    "    geo_ids = []\n",
    "\n",
    "    y_datetime = df.index.unique()[window + predict_ts - 1:]\n",
    "\n",
    "    for i, (geo_id, gr) in enumerate(tqdm(geo_grs)):\n",
    "        geo_ids.append(geo_id)\n",
    "        x_values = gr[y_cols + x_cols].values\n",
    "        y_values = gr[y_cols].values\n",
    "\n",
    "        for j in range(window, len(gr) - predict_ts + 1):\n",
    "            # generate x_all\n",
    "            x_all[j - window, :, i, :] = x_values[j - window:j, :]\n",
    "            y_all[j - window, i, :] = y_values[j + predict_ts - 1, :]\n",
    "\n",
    "    if isdim3:\n",
    "        x_all = np.reshape(x_all,\n",
    "                           newshape=(x_all.shape[0], x_all.shape[1], x_all.shape[2] * x_all.shape[3]))\n",
    "        y_all = np.reshape(y_all,\n",
    "                           newshape=(y_all.shape[0], y_all.shape[1] * y_all.shape[2]))\n",
    "\n",
    "    return x_all, y_all, geo_ids, y_datetime"
   ]
  },
  {
   "cell_type": "code",
   "execution_count": 3,
   "metadata": {},
   "outputs": [],
   "source": [
    "# set configuration\n",
    "path = \"./features/features_binary_tract_2H.feather\"\n",
    "window = 12\n",
    "predict_ts = 1  # how many timesteps future does the model predict? "
   ]
  },
  {
   "cell_type": "code",
   "execution_count": 4,
   "metadata": {},
   "outputs": [
    {
     "data": {
      "application/vnd.jupyter.widget-view+json": {
       "model_id": "6192fd69aedf4de9a2298d127131eaca",
       "version_major": 2,
       "version_minor": 0
      },
      "text/plain": [
       "HBox(children=(IntProgress(value=0, max=195), HTML(value=u'')))"
      ]
     },
     "metadata": {},
     "output_type": "display_data"
    },
    {
     "name": "stdout",
     "output_type": "stream",
     "text": [
      "\n"
     ]
    }
   ],
   "source": [
    "# load data as x and y of RNN\n",
    "x_all, y_all, geo_ids, y_datetime = load_rnn_data(path=path,\n",
    "                                                  window=window,\n",
    "                                                  predict_ts=predict_ts,\n",
    "                                                  isdim3=True,\n",
    "                                                  geo_col=[\"geoid10_tract\"],\n",
    "                                                  y_cols=[\"crime\"])"
   ]
  },
  {
   "cell_type": "code",
   "execution_count": 5,
   "metadata": {},
   "outputs": [
    {
     "name": "stdout",
     "output_type": "stream",
     "text": [
      "(18600, 12, 1560)\n",
      "(18600, 195)\n",
      "195\n",
      "18600\n"
     ]
    }
   ],
   "source": [
    "print(x_all.shape)\n",
    "print(y_all.shape)\n",
    "print(len(geo_ids))  # to convert model output later\n",
    "print(len(y_datetime))  # to convert model output later"
   ]
  },
  {
   "cell_type": "markdown",
   "metadata": {},
   "source": [
    "## Modeling\n",
    "see https://github.com/pfnet/optuna/blob/master/examples/pruning/keras_integration.py"
   ]
  },
  {
   "cell_type": "code",
   "execution_count": 19,
   "metadata": {},
   "outputs": [],
   "source": [
    "BATCHSIZE = 128\n",
    "CLASSES = 10\n",
    "EPOCHS = 20"
   ]
  },
  {
   "cell_type": "code",
   "execution_count": null,
   "metadata": {},
   "outputs": [],
   "source": [
    "# set seed\n",
    "np.random.seed(0)\n",
    "os.environ[\"PYTHONHASHSEED\"] = \"0\"\n",
    "rn.seed(0)\n",
    "session_conf = tf.ConfigProto(intra_op_parallelism_threads=1,\n",
    "                              inter_op_parallelism_threads=1)\n",
    "tf.set_random_seed(0)\n",
    "sess = tf.Session(graph=tf.get_default_graph(), config=session_conf)\n",
    "K.set_session(sess)"
   ]
  },
  {
   "cell_type": "code",
   "execution_count": 13,
   "metadata": {},
   "outputs": [],
   "source": [
    "def create_model(trial):\n",
    "    # We optimize the number of layers, hidden units and dropout in each layer and\n",
    "    # the learning rate of RMSProp optimizer.\n",
    "\n",
    "    # We define our MLP.\n",
    "    n_layers = trial.suggest_int('n_layers', 1, 3)\n",
    "    model = Sequential()\n",
    "    model.add(LSTM(units=100, input_shape=(x_train.shape[1], x_train.shape[2])))\n",
    "    #Hitting the first error above - how do we get the time series code to feed an example of \n",
    "    for i in range(n_layers):\n",
    "        num_hidden = int(trial.suggest_loguniform('n_units_l{}'.format(i), 4, 128))\n",
    "        model.add(Dense(num_hidden, activation='sigmoid'))\n",
    "        dropout = trial.suggest_uniform('dropout_l{}'.format(i), 0.2, 0.5)\n",
    "        model.add(Dropout(rate=dropout))\n",
    "    model.add(Dense(CLASSES, activation='softmax'))\n",
    "\n",
    "    # We compile our model with a sampled learning rate.\n",
    "    lr = trial.suggest_loguniform('lr', 1e-5, 1e-1)\n",
    "    model.compile(loss='categorical_crossentropy',\n",
    "                  optimizer=keras.optimizers.RMSprop(lr=lr),\n",
    "                  metrics=['accuracy'])\n",
    "\n",
    "    return model"
   ]
  },
  {
   "cell_type": "code",
   "execution_count": 15,
   "metadata": {},
   "outputs": [],
   "source": [
    "## Need to define this to produce a training and test sample\n",
    "\n",
    "def splitting(x_all, y_all, n_splits=3):\n",
    "    \"\"\"\n",
    "    :param baseline: True or False (defualt: False)\n",
    "    :return: train and test scores and prediction of y on test data\n",
    "    \"\"\"\n",
    "\n",
    "    # time series split\n",
    "    tss = TimeSeriesSplit(n_splits=2)\n",
    "\n",
    "    for split, (train_idx, test_idx) in enumerate(tss.split(x_all, y_all)):\n",
    "\n",
    "        print(\"---------- split {0} ----------\".format(split))\n",
    "        print(\"[{0:%H:%M:%S}] train_index:{1}~{2} test_index:{3}~{4}\".format(\n",
    "            datetime.now(), train_idx[0], train_idx[-1], test_idx[0], test_idx[-1]))\n",
    "\n",
    "        # create train and test set\n",
    "        x_train = x_all[:train_idx[-1]]\n",
    "        y_train = y_all[:train_idx[-1]]\n",
    "        x_test = x_all[test_idx[0]:test_idx[-1]]\n",
    "        y_test = y_all[test_idx[0]:test_idx[-1]]\n",
    "\n",
    "\n",
    "    return x_train, y_train, x_test, y_test"
   ]
  },
  {
   "cell_type": "code",
   "execution_count": 16,
   "metadata": {},
   "outputs": [],
   "source": [
    "def objective(trial):\n",
    "    # Clear clutter form previous session graphs.\n",
    "    keras.backend.clear_session()\n",
    "    \n",
    "    # time series split\n",
    "    x_train, y_train, x_test, y_test = splitting(x_all,y_all, n_splits=3)\n",
    "\n",
    "    # Generate our trial model.\n",
    "    model = create_model(trial)\n",
    "\n",
    "    # Fit the model on the training data.\n",
    "    # The KerasPruningCallback checks for pruning condition every epoch.\n",
    "    model.fit(x_train,\n",
    "              y_train,\n",
    "              batch_size=BATCHSIZE,\n",
    "              callbacks=[KerasPruningCallback(trial, 'val_acc')],\n",
    "              epochs=EPOCHS,\n",
    "              validation_split=validation_split,\n",
    "              verbose=1)\n",
    "    # Evaluate the model accuracy on the test set.\n",
    "    score = model.evaluate(x_test, y_test, verbose=0)\n",
    "    return score[1]\n"
   ]
  },
  {
   "cell_type": "code",
   "execution_count": 17,
   "metadata": {},
   "outputs": [
    {
     "name": "stdout",
     "output_type": "stream",
     "text": [
      "---------- split 0 ----------\n",
      "[15:13:55] train_index:0~4649 test_index:4650~9299\n",
      "---------- split 1 ----------\n",
      "[15:13:55] train_index:0~9299 test_index:9300~13949\n",
      "---------- split 2 ----------\n",
      "[15:13:55] train_index:0~13949 test_index:13950~18599\n"
     ]
    },
    {
     "name": "stderr",
     "output_type": "stream",
     "text": [
      "[W 2019-05-04 15:13:55,582] Setting trial status as TrialState.FAIL because of the following error: NameError(\"global name 'x_train' is not defined\",)\n",
      "Traceback (most recent call last):\n",
      "  File \"//anaconda/lib/python2.7/site-packages/optuna/study.py\", line 407, in _run_trial\n",
      "    result = func(trial)\n",
      "  File \"<ipython-input-16-6a548d18a279>\", line 9, in objective\n",
      "    model = create_model(trial)\n",
      "  File \"<ipython-input-13-31f4b2b3a55c>\", line 8, in create_model\n",
      "    model.add(LSTM(units=100, input_shape=(x_train.shape[1], x_train.shape[2])))\n",
      "NameError: global name 'x_train' is not defined\n"
     ]
    },
    {
     "name": "stdout",
     "output_type": "stream",
     "text": [
      "---------- split 0 ----------\n",
      "[15:13:55] train_index:0~4649 test_index:4650~9299\n",
      "---------- split 1 ----------\n",
      "[15:13:55] train_index:0~9299 test_index:9300~13949\n",
      "---------- split 2 ----------\n",
      "[15:13:55] train_index:0~13949 test_index:13950~18599\n"
     ]
    },
    {
     "name": "stderr",
     "output_type": "stream",
     "text": [
      "[W 2019-05-04 15:13:55,621] Setting trial status as TrialState.FAIL because of the following error: NameError(\"global name 'x_train' is not defined\",)\n",
      "Traceback (most recent call last):\n",
      "  File \"//anaconda/lib/python2.7/site-packages/optuna/study.py\", line 407, in _run_trial\n",
      "    result = func(trial)\n",
      "  File \"<ipython-input-16-6a548d18a279>\", line 9, in objective\n",
      "    model = create_model(trial)\n",
      "  File \"<ipython-input-13-31f4b2b3a55c>\", line 8, in create_model\n",
      "    model.add(LSTM(units=100, input_shape=(x_train.shape[1], x_train.shape[2])))\n",
      "NameError: global name 'x_train' is not defined\n"
     ]
    },
    {
     "name": "stdout",
     "output_type": "stream",
     "text": [
      "---------- split 0 ----------\n",
      "[15:13:55] train_index:0~4649 test_index:4650~9299\n",
      "---------- split 1 ----------\n",
      "[15:13:55] train_index:0~9299 test_index:9300~13949\n",
      "---------- split 2 ----------\n",
      "[15:13:55] train_index:0~13949 test_index:13950~18599\n"
     ]
    },
    {
     "name": "stderr",
     "output_type": "stream",
     "text": [
      "[W 2019-05-04 15:13:55,668] Setting trial status as TrialState.FAIL because of the following error: NameError(\"global name 'x_train' is not defined\",)\n",
      "Traceback (most recent call last):\n",
      "  File \"//anaconda/lib/python2.7/site-packages/optuna/study.py\", line 407, in _run_trial\n",
      "    result = func(trial)\n",
      "  File \"<ipython-input-16-6a548d18a279>\", line 9, in objective\n",
      "    model = create_model(trial)\n",
      "  File \"<ipython-input-13-31f4b2b3a55c>\", line 8, in create_model\n",
      "    model.add(LSTM(units=100, input_shape=(x_train.shape[1], x_train.shape[2])))\n",
      "NameError: global name 'x_train' is not defined\n"
     ]
    },
    {
     "name": "stdout",
     "output_type": "stream",
     "text": [
      "---------- split 0 ----------\n",
      "[15:13:55] train_index:0~4649 test_index:4650~9299\n",
      "---------- split 1 ----------\n",
      "[15:13:55] train_index:0~9299 test_index:9300~13949\n",
      "---------- split 2 ----------\n",
      "[15:13:55] train_index:0~13949 test_index:13950~18599\n"
     ]
    },
    {
     "name": "stderr",
     "output_type": "stream",
     "text": [
      "[W 2019-05-04 15:13:55,712] Setting trial status as TrialState.FAIL because of the following error: NameError(\"global name 'x_train' is not defined\",)\n",
      "Traceback (most recent call last):\n",
      "  File \"//anaconda/lib/python2.7/site-packages/optuna/study.py\", line 407, in _run_trial\n",
      "    result = func(trial)\n",
      "  File \"<ipython-input-16-6a548d18a279>\", line 9, in objective\n",
      "    model = create_model(trial)\n",
      "  File \"<ipython-input-13-31f4b2b3a55c>\", line 8, in create_model\n",
      "    model.add(LSTM(units=100, input_shape=(x_train.shape[1], x_train.shape[2])))\n",
      "NameError: global name 'x_train' is not defined\n"
     ]
    },
    {
     "name": "stdout",
     "output_type": "stream",
     "text": [
      "---------- split 0 ----------\n",
      "[15:13:55] train_index:0~4649 test_index:4650~9299\n",
      "---------- split 1 ----------\n",
      "[15:13:55] train_index:0~9299 test_index:9300~13949\n",
      "---------- split 2 ----------\n",
      "[15:13:55] train_index:0~13949 test_index:13950~18599\n"
     ]
    },
    {
     "name": "stderr",
     "output_type": "stream",
     "text": [
      "[W 2019-05-04 15:13:55,759] Setting trial status as TrialState.FAIL because of the following error: NameError(\"global name 'x_train' is not defined\",)\n",
      "Traceback (most recent call last):\n",
      "  File \"//anaconda/lib/python2.7/site-packages/optuna/study.py\", line 407, in _run_trial\n",
      "    result = func(trial)\n",
      "  File \"<ipython-input-16-6a548d18a279>\", line 9, in objective\n",
      "    model = create_model(trial)\n",
      "  File \"<ipython-input-13-31f4b2b3a55c>\", line 8, in create_model\n",
      "    model.add(LSTM(units=100, input_shape=(x_train.shape[1], x_train.shape[2])))\n",
      "NameError: global name 'x_train' is not defined\n"
     ]
    },
    {
     "name": "stdout",
     "output_type": "stream",
     "text": [
      "---------- split 0 ----------\n",
      "[15:13:55] train_index:0~4649 test_index:4650~9299\n",
      "---------- split 1 ----------\n",
      "[15:13:55] train_index:0~9299 test_index:9300~13949\n",
      "---------- split 2 ----------\n",
      "[15:13:55] train_index:0~13949 test_index:13950~18599\n"
     ]
    },
    {
     "name": "stderr",
     "output_type": "stream",
     "text": [
      "[W 2019-05-04 15:13:55,806] Setting trial status as TrialState.FAIL because of the following error: NameError(\"global name 'x_train' is not defined\",)\n",
      "Traceback (most recent call last):\n",
      "  File \"//anaconda/lib/python2.7/site-packages/optuna/study.py\", line 407, in _run_trial\n",
      "    result = func(trial)\n",
      "  File \"<ipython-input-16-6a548d18a279>\", line 9, in objective\n",
      "    model = create_model(trial)\n",
      "  File \"<ipython-input-13-31f4b2b3a55c>\", line 8, in create_model\n",
      "    model.add(LSTM(units=100, input_shape=(x_train.shape[1], x_train.shape[2])))\n",
      "NameError: global name 'x_train' is not defined\n"
     ]
    },
    {
     "name": "stdout",
     "output_type": "stream",
     "text": [
      "---------- split 0 ----------\n",
      "[15:13:55] train_index:0~4649 test_index:4650~9299\n",
      "---------- split 1 ----------\n",
      "[15:13:55] train_index:0~9299 test_index:9300~13949\n",
      "---------- split 2 ----------\n",
      "[15:13:55] train_index:0~13949 test_index:13950~18599\n"
     ]
    },
    {
     "name": "stderr",
     "output_type": "stream",
     "text": [
      "[W 2019-05-04 15:13:55,853] Setting trial status as TrialState.FAIL because of the following error: NameError(\"global name 'x_train' is not defined\",)\n",
      "Traceback (most recent call last):\n",
      "  File \"//anaconda/lib/python2.7/site-packages/optuna/study.py\", line 407, in _run_trial\n",
      "    result = func(trial)\n",
      "  File \"<ipython-input-16-6a548d18a279>\", line 9, in objective\n",
      "    model = create_model(trial)\n",
      "  File \"<ipython-input-13-31f4b2b3a55c>\", line 8, in create_model\n",
      "    model.add(LSTM(units=100, input_shape=(x_train.shape[1], x_train.shape[2])))\n",
      "NameError: global name 'x_train' is not defined\n"
     ]
    },
    {
     "name": "stdout",
     "output_type": "stream",
     "text": [
      "---------- split 0 ----------\n",
      "[15:13:55] train_index:0~4649 test_index:4650~9299\n",
      "---------- split 1 ----------\n",
      "[15:13:55] train_index:0~9299 test_index:9300~13949\n",
      "---------- split 2 ----------\n",
      "[15:13:55] train_index:0~13949 test_index:13950~18599\n"
     ]
    },
    {
     "name": "stderr",
     "output_type": "stream",
     "text": [
      "[W 2019-05-04 15:13:55,900] Setting trial status as TrialState.FAIL because of the following error: NameError(\"global name 'x_train' is not defined\",)\n",
      "Traceback (most recent call last):\n",
      "  File \"//anaconda/lib/python2.7/site-packages/optuna/study.py\", line 407, in _run_trial\n",
      "    result = func(trial)\n",
      "  File \"<ipython-input-16-6a548d18a279>\", line 9, in objective\n",
      "    model = create_model(trial)\n",
      "  File \"<ipython-input-13-31f4b2b3a55c>\", line 8, in create_model\n",
      "    model.add(LSTM(units=100, input_shape=(x_train.shape[1], x_train.shape[2])))\n",
      "NameError: global name 'x_train' is not defined\n"
     ]
    },
    {
     "name": "stdout",
     "output_type": "stream",
     "text": [
      "---------- split 0 ----------\n",
      "[15:13:55] train_index:0~4649 test_index:4650~9299\n",
      "---------- split 1 ----------\n",
      "[15:13:55] train_index:0~9299 test_index:9300~13949\n",
      "---------- split 2 ----------\n",
      "[15:13:55] train_index:0~13949 test_index:13950~18599\n"
     ]
    },
    {
     "name": "stderr",
     "output_type": "stream",
     "text": [
      "[W 2019-05-04 15:13:55,949] Setting trial status as TrialState.FAIL because of the following error: NameError(\"global name 'x_train' is not defined\",)\n",
      "Traceback (most recent call last):\n",
      "  File \"//anaconda/lib/python2.7/site-packages/optuna/study.py\", line 407, in _run_trial\n",
      "    result = func(trial)\n",
      "  File \"<ipython-input-16-6a548d18a279>\", line 9, in objective\n",
      "    model = create_model(trial)\n",
      "  File \"<ipython-input-13-31f4b2b3a55c>\", line 8, in create_model\n",
      "    model.add(LSTM(units=100, input_shape=(x_train.shape[1], x_train.shape[2])))\n",
      "NameError: global name 'x_train' is not defined\n"
     ]
    },
    {
     "name": "stdout",
     "output_type": "stream",
     "text": [
      "---------- split 0 ----------\n",
      "[15:13:55] train_index:0~4649 test_index:4650~9299\n",
      "---------- split 1 ----------\n",
      "[15:13:55] train_index:0~9299 test_index:9300~13949\n",
      "---------- split 2 ----------\n",
      "[15:13:55] train_index:0~13949 test_index:13950~18599\n"
     ]
    },
    {
     "name": "stderr",
     "output_type": "stream",
     "text": [
      "[W 2019-05-04 15:13:55,997] Setting trial status as TrialState.FAIL because of the following error: NameError(\"global name 'x_train' is not defined\",)\n",
      "Traceback (most recent call last):\n",
      "  File \"//anaconda/lib/python2.7/site-packages/optuna/study.py\", line 407, in _run_trial\n",
      "    result = func(trial)\n",
      "  File \"<ipython-input-16-6a548d18a279>\", line 9, in objective\n",
      "    model = create_model(trial)\n",
      "  File \"<ipython-input-13-31f4b2b3a55c>\", line 8, in create_model\n",
      "    model.add(LSTM(units=100, input_shape=(x_train.shape[1], x_train.shape[2])))\n",
      "NameError: global name 'x_train' is not defined\n"
     ]
    },
    {
     "name": "stdout",
     "output_type": "stream",
     "text": [
      "---------- split 0 ----------\n",
      "[15:13:56] train_index:0~4649 test_index:4650~9299\n",
      "---------- split 1 ----------\n",
      "[15:13:56] train_index:0~9299 test_index:9300~13949\n",
      "---------- split 2 ----------\n",
      "[15:13:56] train_index:0~13949 test_index:13950~18599\n"
     ]
    },
    {
     "name": "stderr",
     "output_type": "stream",
     "text": [
      "[W 2019-05-04 15:13:56,049] Setting trial status as TrialState.FAIL because of the following error: NameError(\"global name 'x_train' is not defined\",)\n",
      "Traceback (most recent call last):\n",
      "  File \"//anaconda/lib/python2.7/site-packages/optuna/study.py\", line 407, in _run_trial\n",
      "    result = func(trial)\n",
      "  File \"<ipython-input-16-6a548d18a279>\", line 9, in objective\n",
      "    model = create_model(trial)\n",
      "  File \"<ipython-input-13-31f4b2b3a55c>\", line 8, in create_model\n",
      "    model.add(LSTM(units=100, input_shape=(x_train.shape[1], x_train.shape[2])))\n",
      "NameError: global name 'x_train' is not defined\n"
     ]
    },
    {
     "name": "stdout",
     "output_type": "stream",
     "text": [
      "---------- split 0 ----------\n",
      "[15:13:56] train_index:0~4649 test_index:4650~9299\n",
      "---------- split 1 ----------\n",
      "[15:13:56] train_index:0~9299 test_index:9300~13949\n",
      "---------- split 2 ----------\n",
      "[15:13:56] train_index:0~13949 test_index:13950~18599\n"
     ]
    },
    {
     "name": "stderr",
     "output_type": "stream",
     "text": [
      "[W 2019-05-04 15:13:56,094] Setting trial status as TrialState.FAIL because of the following error: NameError(\"global name 'x_train' is not defined\",)\n",
      "Traceback (most recent call last):\n",
      "  File \"//anaconda/lib/python2.7/site-packages/optuna/study.py\", line 407, in _run_trial\n",
      "    result = func(trial)\n",
      "  File \"<ipython-input-16-6a548d18a279>\", line 9, in objective\n",
      "    model = create_model(trial)\n",
      "  File \"<ipython-input-13-31f4b2b3a55c>\", line 8, in create_model\n",
      "    model.add(LSTM(units=100, input_shape=(x_train.shape[1], x_train.shape[2])))\n",
      "NameError: global name 'x_train' is not defined\n"
     ]
    },
    {
     "name": "stdout",
     "output_type": "stream",
     "text": [
      "---------- split 0 ----------\n",
      "[15:13:56] train_index:0~4649 test_index:4650~9299\n",
      "---------- split 1 ----------\n",
      "[15:13:56] train_index:0~9299 test_index:9300~13949\n",
      "---------- split 2 ----------\n",
      "[15:13:56] train_index:0~13949 test_index:13950~18599\n"
     ]
    },
    {
     "name": "stderr",
     "output_type": "stream",
     "text": [
      "[W 2019-05-04 15:13:56,141] Setting trial status as TrialState.FAIL because of the following error: NameError(\"global name 'x_train' is not defined\",)\n",
      "Traceback (most recent call last):\n",
      "  File \"//anaconda/lib/python2.7/site-packages/optuna/study.py\", line 407, in _run_trial\n",
      "    result = func(trial)\n",
      "  File \"<ipython-input-16-6a548d18a279>\", line 9, in objective\n",
      "    model = create_model(trial)\n",
      "  File \"<ipython-input-13-31f4b2b3a55c>\", line 8, in create_model\n",
      "    model.add(LSTM(units=100, input_shape=(x_train.shape[1], x_train.shape[2])))\n",
      "NameError: global name 'x_train' is not defined\n"
     ]
    },
    {
     "name": "stdout",
     "output_type": "stream",
     "text": [
      "---------- split 0 ----------\n",
      "[15:13:56] train_index:0~4649 test_index:4650~9299\n",
      "---------- split 1 ----------\n",
      "[15:13:56] train_index:0~9299 test_index:9300~13949\n",
      "---------- split 2 ----------\n",
      "[15:13:56] train_index:0~13949 test_index:13950~18599\n"
     ]
    },
    {
     "name": "stderr",
     "output_type": "stream",
     "text": [
      "[W 2019-05-04 15:13:56,186] Setting trial status as TrialState.FAIL because of the following error: NameError(\"global name 'x_train' is not defined\",)\n",
      "Traceback (most recent call last):\n",
      "  File \"//anaconda/lib/python2.7/site-packages/optuna/study.py\", line 407, in _run_trial\n",
      "    result = func(trial)\n",
      "  File \"<ipython-input-16-6a548d18a279>\", line 9, in objective\n",
      "    model = create_model(trial)\n",
      "  File \"<ipython-input-13-31f4b2b3a55c>\", line 8, in create_model\n",
      "    model.add(LSTM(units=100, input_shape=(x_train.shape[1], x_train.shape[2])))\n",
      "NameError: global name 'x_train' is not defined\n"
     ]
    },
    {
     "name": "stdout",
     "output_type": "stream",
     "text": [
      "---------- split 0 ----------\n",
      "[15:13:56] train_index:0~4649 test_index:4650~9299\n",
      "---------- split 1 ----------\n",
      "[15:13:56] train_index:0~9299 test_index:9300~13949\n",
      "---------- split 2 ----------\n",
      "[15:13:56] train_index:0~13949 test_index:13950~18599\n"
     ]
    },
    {
     "name": "stderr",
     "output_type": "stream",
     "text": [
      "[W 2019-05-04 15:13:56,237] Setting trial status as TrialState.FAIL because of the following error: NameError(\"global name 'x_train' is not defined\",)\n",
      "Traceback (most recent call last):\n",
      "  File \"//anaconda/lib/python2.7/site-packages/optuna/study.py\", line 407, in _run_trial\n",
      "    result = func(trial)\n",
      "  File \"<ipython-input-16-6a548d18a279>\", line 9, in objective\n",
      "    model = create_model(trial)\n",
      "  File \"<ipython-input-13-31f4b2b3a55c>\", line 8, in create_model\n",
      "    model.add(LSTM(units=100, input_shape=(x_train.shape[1], x_train.shape[2])))\n",
      "NameError: global name 'x_train' is not defined\n"
     ]
    },
    {
     "name": "stdout",
     "output_type": "stream",
     "text": [
      "---------- split 0 ----------\n",
      "[15:13:56] train_index:0~4649 test_index:4650~9299\n",
      "---------- split 1 ----------\n",
      "[15:13:56] train_index:0~9299 test_index:9300~13949\n",
      "---------- split 2 ----------\n",
      "[15:13:56] train_index:0~13949 test_index:13950~18599\n"
     ]
    },
    {
     "name": "stderr",
     "output_type": "stream",
     "text": [
      "[W 2019-05-04 15:13:56,281] Setting trial status as TrialState.FAIL because of the following error: NameError(\"global name 'x_train' is not defined\",)\n",
      "Traceback (most recent call last):\n",
      "  File \"//anaconda/lib/python2.7/site-packages/optuna/study.py\", line 407, in _run_trial\n",
      "    result = func(trial)\n",
      "  File \"<ipython-input-16-6a548d18a279>\", line 9, in objective\n",
      "    model = create_model(trial)\n",
      "  File \"<ipython-input-13-31f4b2b3a55c>\", line 8, in create_model\n",
      "    model.add(LSTM(units=100, input_shape=(x_train.shape[1], x_train.shape[2])))\n",
      "NameError: global name 'x_train' is not defined\n"
     ]
    },
    {
     "name": "stdout",
     "output_type": "stream",
     "text": [
      "---------- split 0 ----------\n",
      "[15:13:56] train_index:0~4649 test_index:4650~9299\n",
      "---------- split 1 ----------\n",
      "[15:13:56] train_index:0~9299 test_index:9300~13949\n",
      "---------- split 2 ----------\n",
      "[15:13:56] train_index:0~13949 test_index:13950~18599\n"
     ]
    },
    {
     "name": "stderr",
     "output_type": "stream",
     "text": [
      "[W 2019-05-04 15:13:56,331] Setting trial status as TrialState.FAIL because of the following error: NameError(\"global name 'x_train' is not defined\",)\n",
      "Traceback (most recent call last):\n",
      "  File \"//anaconda/lib/python2.7/site-packages/optuna/study.py\", line 407, in _run_trial\n",
      "    result = func(trial)\n",
      "  File \"<ipython-input-16-6a548d18a279>\", line 9, in objective\n",
      "    model = create_model(trial)\n",
      "  File \"<ipython-input-13-31f4b2b3a55c>\", line 8, in create_model\n",
      "    model.add(LSTM(units=100, input_shape=(x_train.shape[1], x_train.shape[2])))\n",
      "NameError: global name 'x_train' is not defined\n"
     ]
    },
    {
     "name": "stdout",
     "output_type": "stream",
     "text": [
      "---------- split 0 ----------\n",
      "[15:13:56] train_index:0~4649 test_index:4650~9299\n",
      "---------- split 1 ----------\n",
      "[15:13:56] train_index:0~9299 test_index:9300~13949\n",
      "---------- split 2 ----------\n",
      "[15:13:56] train_index:0~13949 test_index:13950~18599\n"
     ]
    },
    {
     "name": "stderr",
     "output_type": "stream",
     "text": [
      "[W 2019-05-04 15:13:56,383] Setting trial status as TrialState.FAIL because of the following error: NameError(\"global name 'x_train' is not defined\",)\n",
      "Traceback (most recent call last):\n",
      "  File \"//anaconda/lib/python2.7/site-packages/optuna/study.py\", line 407, in _run_trial\n",
      "    result = func(trial)\n",
      "  File \"<ipython-input-16-6a548d18a279>\", line 9, in objective\n",
      "    model = create_model(trial)\n",
      "  File \"<ipython-input-13-31f4b2b3a55c>\", line 8, in create_model\n",
      "    model.add(LSTM(units=100, input_shape=(x_train.shape[1], x_train.shape[2])))\n",
      "NameError: global name 'x_train' is not defined\n"
     ]
    },
    {
     "name": "stdout",
     "output_type": "stream",
     "text": [
      "---------- split 0 ----------\n",
      "[15:13:56] train_index:0~4649 test_index:4650~9299\n",
      "---------- split 1 ----------\n",
      "[15:13:56] train_index:0~9299 test_index:9300~13949\n",
      "---------- split 2 ----------\n",
      "[15:13:56] train_index:0~13949 test_index:13950~18599\n"
     ]
    },
    {
     "name": "stderr",
     "output_type": "stream",
     "text": [
      "[W 2019-05-04 15:13:56,436] Setting trial status as TrialState.FAIL because of the following error: NameError(\"global name 'x_train' is not defined\",)\n",
      "Traceback (most recent call last):\n",
      "  File \"//anaconda/lib/python2.7/site-packages/optuna/study.py\", line 407, in _run_trial\n",
      "    result = func(trial)\n",
      "  File \"<ipython-input-16-6a548d18a279>\", line 9, in objective\n",
      "    model = create_model(trial)\n",
      "  File \"<ipython-input-13-31f4b2b3a55c>\", line 8, in create_model\n",
      "    model.add(LSTM(units=100, input_shape=(x_train.shape[1], x_train.shape[2])))\n",
      "NameError: global name 'x_train' is not defined\n"
     ]
    },
    {
     "name": "stdout",
     "output_type": "stream",
     "text": [
      "---------- split 0 ----------\n",
      "[15:13:56] train_index:0~4649 test_index:4650~9299\n",
      "---------- split 1 ----------\n",
      "[15:13:56] train_index:0~9299 test_index:9300~13949\n",
      "---------- split 2 ----------\n",
      "[15:13:56] train_index:0~13949 test_index:13950~18599\n"
     ]
    },
    {
     "name": "stderr",
     "output_type": "stream",
     "text": [
      "[W 2019-05-04 15:13:56,486] Setting trial status as TrialState.FAIL because of the following error: NameError(\"global name 'x_train' is not defined\",)\n",
      "Traceback (most recent call last):\n",
      "  File \"//anaconda/lib/python2.7/site-packages/optuna/study.py\", line 407, in _run_trial\n",
      "    result = func(trial)\n",
      "  File \"<ipython-input-16-6a548d18a279>\", line 9, in objective\n",
      "    model = create_model(trial)\n",
      "  File \"<ipython-input-13-31f4b2b3a55c>\", line 8, in create_model\n",
      "    model.add(LSTM(units=100, input_shape=(x_train.shape[1], x_train.shape[2])))\n",
      "NameError: global name 'x_train' is not defined\n"
     ]
    },
    {
     "name": "stdout",
     "output_type": "stream",
     "text": [
      "---------- split 0 ----------\n",
      "[15:13:56] train_index:0~4649 test_index:4650~9299\n",
      "---------- split 1 ----------\n",
      "[15:13:56] train_index:0~9299 test_index:9300~13949\n",
      "---------- split 2 ----------\n",
      "[15:13:56] train_index:0~13949 test_index:13950~18599\n"
     ]
    },
    {
     "name": "stderr",
     "output_type": "stream",
     "text": [
      "[W 2019-05-04 15:13:56,540] Setting trial status as TrialState.FAIL because of the following error: NameError(\"global name 'x_train' is not defined\",)\n",
      "Traceback (most recent call last):\n",
      "  File \"//anaconda/lib/python2.7/site-packages/optuna/study.py\", line 407, in _run_trial\n",
      "    result = func(trial)\n",
      "  File \"<ipython-input-16-6a548d18a279>\", line 9, in objective\n",
      "    model = create_model(trial)\n",
      "  File \"<ipython-input-13-31f4b2b3a55c>\", line 8, in create_model\n",
      "    model.add(LSTM(units=100, input_shape=(x_train.shape[1], x_train.shape[2])))\n",
      "NameError: global name 'x_train' is not defined\n"
     ]
    },
    {
     "name": "stdout",
     "output_type": "stream",
     "text": [
      "---------- split 0 ----------\n",
      "[15:13:56] train_index:0~4649 test_index:4650~9299\n",
      "---------- split 1 ----------\n",
      "[15:13:56] train_index:0~9299 test_index:9300~13949\n",
      "---------- split 2 ----------\n",
      "[15:13:56] train_index:0~13949 test_index:13950~18599\n"
     ]
    },
    {
     "name": "stderr",
     "output_type": "stream",
     "text": [
      "[W 2019-05-04 15:13:56,592] Setting trial status as TrialState.FAIL because of the following error: NameError(\"global name 'x_train' is not defined\",)\n",
      "Traceback (most recent call last):\n",
      "  File \"//anaconda/lib/python2.7/site-packages/optuna/study.py\", line 407, in _run_trial\n",
      "    result = func(trial)\n",
      "  File \"<ipython-input-16-6a548d18a279>\", line 9, in objective\n",
      "    model = create_model(trial)\n",
      "  File \"<ipython-input-13-31f4b2b3a55c>\", line 8, in create_model\n",
      "    model.add(LSTM(units=100, input_shape=(x_train.shape[1], x_train.shape[2])))\n",
      "NameError: global name 'x_train' is not defined\n"
     ]
    },
    {
     "name": "stdout",
     "output_type": "stream",
     "text": [
      "---------- split 0 ----------\n",
      "[15:13:56] train_index:0~4649 test_index:4650~9299\n",
      "---------- split 1 ----------\n",
      "[15:13:56] train_index:0~9299 test_index:9300~13949\n",
      "---------- split 2 ----------\n",
      "[15:13:56] train_index:0~13949 test_index:13950~18599\n"
     ]
    },
    {
     "name": "stderr",
     "output_type": "stream",
     "text": [
      "[W 2019-05-04 15:13:56,644] Setting trial status as TrialState.FAIL because of the following error: NameError(\"global name 'x_train' is not defined\",)\n",
      "Traceback (most recent call last):\n",
      "  File \"//anaconda/lib/python2.7/site-packages/optuna/study.py\", line 407, in _run_trial\n",
      "    result = func(trial)\n",
      "  File \"<ipython-input-16-6a548d18a279>\", line 9, in objective\n",
      "    model = create_model(trial)\n",
      "  File \"<ipython-input-13-31f4b2b3a55c>\", line 8, in create_model\n",
      "    model.add(LSTM(units=100, input_shape=(x_train.shape[1], x_train.shape[2])))\n",
      "NameError: global name 'x_train' is not defined\n"
     ]
    },
    {
     "name": "stdout",
     "output_type": "stream",
     "text": [
      "---------- split 0 ----------\n",
      "[15:13:56] train_index:0~4649 test_index:4650~9299\n",
      "---------- split 1 ----------\n",
      "[15:13:56] train_index:0~9299 test_index:9300~13949\n",
      "---------- split 2 ----------\n",
      "[15:13:56] train_index:0~13949 test_index:13950~18599\n"
     ]
    },
    {
     "name": "stderr",
     "output_type": "stream",
     "text": [
      "[W 2019-05-04 15:13:56,701] Setting trial status as TrialState.FAIL because of the following error: NameError(\"global name 'x_train' is not defined\",)\n",
      "Traceback (most recent call last):\n",
      "  File \"//anaconda/lib/python2.7/site-packages/optuna/study.py\", line 407, in _run_trial\n",
      "    result = func(trial)\n",
      "  File \"<ipython-input-16-6a548d18a279>\", line 9, in objective\n",
      "    model = create_model(trial)\n",
      "  File \"<ipython-input-13-31f4b2b3a55c>\", line 8, in create_model\n",
      "    model.add(LSTM(units=100, input_shape=(x_train.shape[1], x_train.shape[2])))\n",
      "NameError: global name 'x_train' is not defined\n"
     ]
    },
    {
     "name": "stdout",
     "output_type": "stream",
     "text": [
      "---------- split 0 ----------\n",
      "[15:13:56] train_index:0~4649 test_index:4650~9299\n",
      "---------- split 1 ----------\n",
      "[15:13:56] train_index:0~9299 test_index:9300~13949\n",
      "---------- split 2 ----------\n",
      "[15:13:56] train_index:0~13949 test_index:13950~18599\n"
     ]
    },
    {
     "name": "stderr",
     "output_type": "stream",
     "text": [
      "[W 2019-05-04 15:13:56,757] Setting trial status as TrialState.FAIL because of the following error: NameError(\"global name 'x_train' is not defined\",)\n",
      "Traceback (most recent call last):\n",
      "  File \"//anaconda/lib/python2.7/site-packages/optuna/study.py\", line 407, in _run_trial\n",
      "    result = func(trial)\n",
      "  File \"<ipython-input-16-6a548d18a279>\", line 9, in objective\n",
      "    model = create_model(trial)\n",
      "  File \"<ipython-input-13-31f4b2b3a55c>\", line 8, in create_model\n",
      "    model.add(LSTM(units=100, input_shape=(x_train.shape[1], x_train.shape[2])))\n",
      "NameError: global name 'x_train' is not defined\n"
     ]
    },
    {
     "name": "stdout",
     "output_type": "stream",
     "text": [
      "---------- split 0 ----------\n",
      "[15:13:56] train_index:0~4649 test_index:4650~9299\n",
      "---------- split 1 ----------\n",
      "[15:13:56] train_index:0~9299 test_index:9300~13949\n",
      "---------- split 2 ----------\n",
      "[15:13:56] train_index:0~13949 test_index:13950~18599\n"
     ]
    },
    {
     "name": "stderr",
     "output_type": "stream",
     "text": [
      "[W 2019-05-04 15:13:56,811] Setting trial status as TrialState.FAIL because of the following error: NameError(\"global name 'x_train' is not defined\",)\n",
      "Traceback (most recent call last):\n",
      "  File \"//anaconda/lib/python2.7/site-packages/optuna/study.py\", line 407, in _run_trial\n",
      "    result = func(trial)\n",
      "  File \"<ipython-input-16-6a548d18a279>\", line 9, in objective\n",
      "    model = create_model(trial)\n",
      "  File \"<ipython-input-13-31f4b2b3a55c>\", line 8, in create_model\n",
      "    model.add(LSTM(units=100, input_shape=(x_train.shape[1], x_train.shape[2])))\n",
      "NameError: global name 'x_train' is not defined\n"
     ]
    },
    {
     "name": "stdout",
     "output_type": "stream",
     "text": [
      "---------- split 0 ----------\n",
      "[15:13:56] train_index:0~4649 test_index:4650~9299\n",
      "---------- split 1 ----------\n",
      "[15:13:56] train_index:0~9299 test_index:9300~13949\n",
      "---------- split 2 ----------\n",
      "[15:13:56] train_index:0~13949 test_index:13950~18599\n"
     ]
    },
    {
     "name": "stderr",
     "output_type": "stream",
     "text": [
      "[W 2019-05-04 15:13:56,868] Setting trial status as TrialState.FAIL because of the following error: NameError(\"global name 'x_train' is not defined\",)\n",
      "Traceback (most recent call last):\n",
      "  File \"//anaconda/lib/python2.7/site-packages/optuna/study.py\", line 407, in _run_trial\n",
      "    result = func(trial)\n",
      "  File \"<ipython-input-16-6a548d18a279>\", line 9, in objective\n",
      "    model = create_model(trial)\n",
      "  File \"<ipython-input-13-31f4b2b3a55c>\", line 8, in create_model\n",
      "    model.add(LSTM(units=100, input_shape=(x_train.shape[1], x_train.shape[2])))\n",
      "NameError: global name 'x_train' is not defined\n"
     ]
    },
    {
     "name": "stdout",
     "output_type": "stream",
     "text": [
      "---------- split 0 ----------\n",
      "[15:13:56] train_index:0~4649 test_index:4650~9299\n",
      "---------- split 1 ----------\n",
      "[15:13:56] train_index:0~9299 test_index:9300~13949\n",
      "---------- split 2 ----------\n",
      "[15:13:56] train_index:0~13949 test_index:13950~18599\n"
     ]
    },
    {
     "name": "stderr",
     "output_type": "stream",
     "text": [
      "[W 2019-05-04 15:13:56,918] Setting trial status as TrialState.FAIL because of the following error: NameError(\"global name 'x_train' is not defined\",)\n",
      "Traceback (most recent call last):\n",
      "  File \"//anaconda/lib/python2.7/site-packages/optuna/study.py\", line 407, in _run_trial\n",
      "    result = func(trial)\n",
      "  File \"<ipython-input-16-6a548d18a279>\", line 9, in objective\n",
      "    model = create_model(trial)\n",
      "  File \"<ipython-input-13-31f4b2b3a55c>\", line 8, in create_model\n",
      "    model.add(LSTM(units=100, input_shape=(x_train.shape[1], x_train.shape[2])))\n",
      "NameError: global name 'x_train' is not defined\n"
     ]
    },
    {
     "name": "stdout",
     "output_type": "stream",
     "text": [
      "---------- split 0 ----------\n",
      "[15:13:56] train_index:0~4649 test_index:4650~9299\n",
      "---------- split 1 ----------\n",
      "[15:13:56] train_index:0~9299 test_index:9300~13949\n",
      "---------- split 2 ----------\n",
      "[15:13:56] train_index:0~13949 test_index:13950~18599\n"
     ]
    },
    {
     "name": "stderr",
     "output_type": "stream",
     "text": [
      "[W 2019-05-04 15:13:56,974] Setting trial status as TrialState.FAIL because of the following error: NameError(\"global name 'x_train' is not defined\",)\n",
      "Traceback (most recent call last):\n",
      "  File \"//anaconda/lib/python2.7/site-packages/optuna/study.py\", line 407, in _run_trial\n",
      "    result = func(trial)\n",
      "  File \"<ipython-input-16-6a548d18a279>\", line 9, in objective\n",
      "    model = create_model(trial)\n",
      "  File \"<ipython-input-13-31f4b2b3a55c>\", line 8, in create_model\n",
      "    model.add(LSTM(units=100, input_shape=(x_train.shape[1], x_train.shape[2])))\n",
      "NameError: global name 'x_train' is not defined\n"
     ]
    },
    {
     "name": "stdout",
     "output_type": "stream",
     "text": [
      "---------- split 0 ----------\n",
      "[15:13:56] train_index:0~4649 test_index:4650~9299\n",
      "---------- split 1 ----------\n",
      "[15:13:57] train_index:0~9299 test_index:9300~13949\n",
      "---------- split 2 ----------\n",
      "[15:13:57] train_index:0~13949 test_index:13950~18599\n"
     ]
    },
    {
     "name": "stderr",
     "output_type": "stream",
     "text": [
      "[W 2019-05-04 15:13:57,030] Setting trial status as TrialState.FAIL because of the following error: NameError(\"global name 'x_train' is not defined\",)\n",
      "Traceback (most recent call last):\n",
      "  File \"//anaconda/lib/python2.7/site-packages/optuna/study.py\", line 407, in _run_trial\n",
      "    result = func(trial)\n",
      "  File \"<ipython-input-16-6a548d18a279>\", line 9, in objective\n",
      "    model = create_model(trial)\n",
      "  File \"<ipython-input-13-31f4b2b3a55c>\", line 8, in create_model\n",
      "    model.add(LSTM(units=100, input_shape=(x_train.shape[1], x_train.shape[2])))\n",
      "NameError: global name 'x_train' is not defined\n"
     ]
    },
    {
     "name": "stdout",
     "output_type": "stream",
     "text": [
      "---------- split 0 ----------\n",
      "[15:13:57] train_index:0~4649 test_index:4650~9299\n",
      "---------- split 1 ----------\n",
      "[15:13:57] train_index:0~9299 test_index:9300~13949\n",
      "---------- split 2 ----------\n",
      "[15:13:57] train_index:0~13949 test_index:13950~18599\n"
     ]
    },
    {
     "name": "stderr",
     "output_type": "stream",
     "text": [
      "[W 2019-05-04 15:13:57,087] Setting trial status as TrialState.FAIL because of the following error: NameError(\"global name 'x_train' is not defined\",)\n",
      "Traceback (most recent call last):\n",
      "  File \"//anaconda/lib/python2.7/site-packages/optuna/study.py\", line 407, in _run_trial\n",
      "    result = func(trial)\n",
      "  File \"<ipython-input-16-6a548d18a279>\", line 9, in objective\n",
      "    model = create_model(trial)\n",
      "  File \"<ipython-input-13-31f4b2b3a55c>\", line 8, in create_model\n",
      "    model.add(LSTM(units=100, input_shape=(x_train.shape[1], x_train.shape[2])))\n",
      "NameError: global name 'x_train' is not defined\n"
     ]
    },
    {
     "name": "stdout",
     "output_type": "stream",
     "text": [
      "---------- split 0 ----------\n",
      "[15:13:57] train_index:0~4649 test_index:4650~9299\n",
      "---------- split 1 ----------\n",
      "[15:13:57] train_index:0~9299 test_index:9300~13949\n",
      "---------- split 2 ----------\n",
      "[15:13:57] train_index:0~13949 test_index:13950~18599\n"
     ]
    },
    {
     "name": "stderr",
     "output_type": "stream",
     "text": [
      "[W 2019-05-04 15:13:57,143] Setting trial status as TrialState.FAIL because of the following error: NameError(\"global name 'x_train' is not defined\",)\n",
      "Traceback (most recent call last):\n",
      "  File \"//anaconda/lib/python2.7/site-packages/optuna/study.py\", line 407, in _run_trial\n",
      "    result = func(trial)\n",
      "  File \"<ipython-input-16-6a548d18a279>\", line 9, in objective\n",
      "    model = create_model(trial)\n",
      "  File \"<ipython-input-13-31f4b2b3a55c>\", line 8, in create_model\n",
      "    model.add(LSTM(units=100, input_shape=(x_train.shape[1], x_train.shape[2])))\n",
      "NameError: global name 'x_train' is not defined\n"
     ]
    },
    {
     "name": "stdout",
     "output_type": "stream",
     "text": [
      "---------- split 0 ----------\n",
      "[15:13:57] train_index:0~4649 test_index:4650~9299\n",
      "---------- split 1 ----------\n",
      "[15:13:57] train_index:0~9299 test_index:9300~13949\n",
      "---------- split 2 ----------\n",
      "[15:13:57] train_index:0~13949 test_index:13950~18599\n"
     ]
    },
    {
     "name": "stderr",
     "output_type": "stream",
     "text": [
      "[W 2019-05-04 15:13:57,193] Setting trial status as TrialState.FAIL because of the following error: NameError(\"global name 'x_train' is not defined\",)\n",
      "Traceback (most recent call last):\n",
      "  File \"//anaconda/lib/python2.7/site-packages/optuna/study.py\", line 407, in _run_trial\n",
      "    result = func(trial)\n",
      "  File \"<ipython-input-16-6a548d18a279>\", line 9, in objective\n",
      "    model = create_model(trial)\n",
      "  File \"<ipython-input-13-31f4b2b3a55c>\", line 8, in create_model\n",
      "    model.add(LSTM(units=100, input_shape=(x_train.shape[1], x_train.shape[2])))\n",
      "NameError: global name 'x_train' is not defined\n"
     ]
    },
    {
     "name": "stdout",
     "output_type": "stream",
     "text": [
      "---------- split 0 ----------\n",
      "[15:13:57] train_index:0~4649 test_index:4650~9299\n",
      "---------- split 1 ----------\n",
      "[15:13:57] train_index:0~9299 test_index:9300~13949\n",
      "---------- split 2 ----------\n",
      "[15:13:57] train_index:0~13949 test_index:13950~18599\n"
     ]
    },
    {
     "name": "stderr",
     "output_type": "stream",
     "text": [
      "[W 2019-05-04 15:13:57,243] Setting trial status as TrialState.FAIL because of the following error: NameError(\"global name 'x_train' is not defined\",)\n",
      "Traceback (most recent call last):\n",
      "  File \"//anaconda/lib/python2.7/site-packages/optuna/study.py\", line 407, in _run_trial\n",
      "    result = func(trial)\n",
      "  File \"<ipython-input-16-6a548d18a279>\", line 9, in objective\n",
      "    model = create_model(trial)\n",
      "  File \"<ipython-input-13-31f4b2b3a55c>\", line 8, in create_model\n",
      "    model.add(LSTM(units=100, input_shape=(x_train.shape[1], x_train.shape[2])))\n",
      "NameError: global name 'x_train' is not defined\n"
     ]
    },
    {
     "name": "stdout",
     "output_type": "stream",
     "text": [
      "---------- split 0 ----------\n",
      "[15:13:57] train_index:0~4649 test_index:4650~9299\n",
      "---------- split 1 ----------\n",
      "[15:13:57] train_index:0~9299 test_index:9300~13949\n",
      "---------- split 2 ----------\n",
      "[15:13:57] train_index:0~13949 test_index:13950~18599\n"
     ]
    },
    {
     "name": "stderr",
     "output_type": "stream",
     "text": [
      "[W 2019-05-04 15:13:57,297] Setting trial status as TrialState.FAIL because of the following error: NameError(\"global name 'x_train' is not defined\",)\n",
      "Traceback (most recent call last):\n",
      "  File \"//anaconda/lib/python2.7/site-packages/optuna/study.py\", line 407, in _run_trial\n",
      "    result = func(trial)\n",
      "  File \"<ipython-input-16-6a548d18a279>\", line 9, in objective\n",
      "    model = create_model(trial)\n",
      "  File \"<ipython-input-13-31f4b2b3a55c>\", line 8, in create_model\n",
      "    model.add(LSTM(units=100, input_shape=(x_train.shape[1], x_train.shape[2])))\n",
      "NameError: global name 'x_train' is not defined\n"
     ]
    },
    {
     "name": "stdout",
     "output_type": "stream",
     "text": [
      "---------- split 0 ----------\n",
      "[15:13:57] train_index:0~4649 test_index:4650~9299\n",
      "---------- split 1 ----------\n",
      "[15:13:57] train_index:0~9299 test_index:9300~13949\n",
      "---------- split 2 ----------\n",
      "[15:13:57] train_index:0~13949 test_index:13950~18599\n"
     ]
    },
    {
     "name": "stderr",
     "output_type": "stream",
     "text": [
      "[W 2019-05-04 15:13:57,349] Setting trial status as TrialState.FAIL because of the following error: NameError(\"global name 'x_train' is not defined\",)\n",
      "Traceback (most recent call last):\n",
      "  File \"//anaconda/lib/python2.7/site-packages/optuna/study.py\", line 407, in _run_trial\n",
      "    result = func(trial)\n",
      "  File \"<ipython-input-16-6a548d18a279>\", line 9, in objective\n",
      "    model = create_model(trial)\n",
      "  File \"<ipython-input-13-31f4b2b3a55c>\", line 8, in create_model\n",
      "    model.add(LSTM(units=100, input_shape=(x_train.shape[1], x_train.shape[2])))\n",
      "NameError: global name 'x_train' is not defined\n"
     ]
    },
    {
     "name": "stdout",
     "output_type": "stream",
     "text": [
      "---------- split 0 ----------\n",
      "[15:13:57] train_index:0~4649 test_index:4650~9299\n",
      "---------- split 1 ----------\n",
      "[15:13:57] train_index:0~9299 test_index:9300~13949\n",
      "---------- split 2 ----------\n",
      "[15:13:57] train_index:0~13949 test_index:13950~18599\n"
     ]
    },
    {
     "name": "stderr",
     "output_type": "stream",
     "text": [
      "[W 2019-05-04 15:13:57,406] Setting trial status as TrialState.FAIL because of the following error: NameError(\"global name 'x_train' is not defined\",)\n",
      "Traceback (most recent call last):\n",
      "  File \"//anaconda/lib/python2.7/site-packages/optuna/study.py\", line 407, in _run_trial\n",
      "    result = func(trial)\n",
      "  File \"<ipython-input-16-6a548d18a279>\", line 9, in objective\n",
      "    model = create_model(trial)\n",
      "  File \"<ipython-input-13-31f4b2b3a55c>\", line 8, in create_model\n",
      "    model.add(LSTM(units=100, input_shape=(x_train.shape[1], x_train.shape[2])))\n",
      "NameError: global name 'x_train' is not defined\n"
     ]
    },
    {
     "name": "stdout",
     "output_type": "stream",
     "text": [
      "---------- split 0 ----------\n",
      "[15:13:57] train_index:0~4649 test_index:4650~9299\n",
      "---------- split 1 ----------\n",
      "[15:13:57] train_index:0~9299 test_index:9300~13949\n",
      "---------- split 2 ----------\n",
      "[15:13:57] train_index:0~13949 test_index:13950~18599\n"
     ]
    },
    {
     "name": "stderr",
     "output_type": "stream",
     "text": [
      "[W 2019-05-04 15:13:57,463] Setting trial status as TrialState.FAIL because of the following error: NameError(\"global name 'x_train' is not defined\",)\n",
      "Traceback (most recent call last):\n",
      "  File \"//anaconda/lib/python2.7/site-packages/optuna/study.py\", line 407, in _run_trial\n",
      "    result = func(trial)\n",
      "  File \"<ipython-input-16-6a548d18a279>\", line 9, in objective\n",
      "    model = create_model(trial)\n",
      "  File \"<ipython-input-13-31f4b2b3a55c>\", line 8, in create_model\n",
      "    model.add(LSTM(units=100, input_shape=(x_train.shape[1], x_train.shape[2])))\n",
      "NameError: global name 'x_train' is not defined\n"
     ]
    },
    {
     "name": "stdout",
     "output_type": "stream",
     "text": [
      "---------- split 0 ----------\n",
      "[15:13:57] train_index:0~4649 test_index:4650~9299\n",
      "---------- split 1 ----------\n",
      "[15:13:57] train_index:0~9299 test_index:9300~13949\n",
      "---------- split 2 ----------\n",
      "[15:13:57] train_index:0~13949 test_index:13950~18599\n"
     ]
    },
    {
     "name": "stderr",
     "output_type": "stream",
     "text": [
      "[W 2019-05-04 15:13:57,521] Setting trial status as TrialState.FAIL because of the following error: NameError(\"global name 'x_train' is not defined\",)\n",
      "Traceback (most recent call last):\n",
      "  File \"//anaconda/lib/python2.7/site-packages/optuna/study.py\", line 407, in _run_trial\n",
      "    result = func(trial)\n",
      "  File \"<ipython-input-16-6a548d18a279>\", line 9, in objective\n",
      "    model = create_model(trial)\n",
      "  File \"<ipython-input-13-31f4b2b3a55c>\", line 8, in create_model\n",
      "    model.add(LSTM(units=100, input_shape=(x_train.shape[1], x_train.shape[2])))\n",
      "NameError: global name 'x_train' is not defined\n"
     ]
    },
    {
     "name": "stdout",
     "output_type": "stream",
     "text": [
      "---------- split 0 ----------\n",
      "[15:13:57] train_index:0~4649 test_index:4650~9299\n",
      "---------- split 1 ----------\n",
      "[15:13:57] train_index:0~9299 test_index:9300~13949\n",
      "---------- split 2 ----------\n",
      "[15:13:57] train_index:0~13949 test_index:13950~18599\n"
     ]
    },
    {
     "name": "stderr",
     "output_type": "stream",
     "text": [
      "[W 2019-05-04 15:13:57,577] Setting trial status as TrialState.FAIL because of the following error: NameError(\"global name 'x_train' is not defined\",)\n",
      "Traceback (most recent call last):\n",
      "  File \"//anaconda/lib/python2.7/site-packages/optuna/study.py\", line 407, in _run_trial\n",
      "    result = func(trial)\n",
      "  File \"<ipython-input-16-6a548d18a279>\", line 9, in objective\n",
      "    model = create_model(trial)\n",
      "  File \"<ipython-input-13-31f4b2b3a55c>\", line 8, in create_model\n",
      "    model.add(LSTM(units=100, input_shape=(x_train.shape[1], x_train.shape[2])))\n",
      "NameError: global name 'x_train' is not defined\n"
     ]
    },
    {
     "name": "stdout",
     "output_type": "stream",
     "text": [
      "---------- split 0 ----------\n",
      "[15:13:57] train_index:0~4649 test_index:4650~9299\n",
      "---------- split 1 ----------\n",
      "[15:13:57] train_index:0~9299 test_index:9300~13949\n",
      "---------- split 2 ----------\n",
      "[15:13:57] train_index:0~13949 test_index:13950~18599\n"
     ]
    },
    {
     "name": "stderr",
     "output_type": "stream",
     "text": [
      "[W 2019-05-04 15:13:57,637] Setting trial status as TrialState.FAIL because of the following error: NameError(\"global name 'x_train' is not defined\",)\n",
      "Traceback (most recent call last):\n",
      "  File \"//anaconda/lib/python2.7/site-packages/optuna/study.py\", line 407, in _run_trial\n",
      "    result = func(trial)\n",
      "  File \"<ipython-input-16-6a548d18a279>\", line 9, in objective\n",
      "    model = create_model(trial)\n",
      "  File \"<ipython-input-13-31f4b2b3a55c>\", line 8, in create_model\n",
      "    model.add(LSTM(units=100, input_shape=(x_train.shape[1], x_train.shape[2])))\n",
      "NameError: global name 'x_train' is not defined\n"
     ]
    },
    {
     "name": "stdout",
     "output_type": "stream",
     "text": [
      "---------- split 0 ----------\n",
      "[15:13:57] train_index:0~4649 test_index:4650~9299\n",
      "---------- split 1 ----------\n",
      "[15:13:57] train_index:0~9299 test_index:9300~13949\n",
      "---------- split 2 ----------\n",
      "[15:13:57] train_index:0~13949 test_index:13950~18599\n"
     ]
    },
    {
     "name": "stderr",
     "output_type": "stream",
     "text": [
      "[W 2019-05-04 15:13:57,693] Setting trial status as TrialState.FAIL because of the following error: NameError(\"global name 'x_train' is not defined\",)\n",
      "Traceback (most recent call last):\n",
      "  File \"//anaconda/lib/python2.7/site-packages/optuna/study.py\", line 407, in _run_trial\n",
      "    result = func(trial)\n",
      "  File \"<ipython-input-16-6a548d18a279>\", line 9, in objective\n",
      "    model = create_model(trial)\n",
      "  File \"<ipython-input-13-31f4b2b3a55c>\", line 8, in create_model\n",
      "    model.add(LSTM(units=100, input_shape=(x_train.shape[1], x_train.shape[2])))\n",
      "NameError: global name 'x_train' is not defined\n"
     ]
    },
    {
     "name": "stdout",
     "output_type": "stream",
     "text": [
      "---------- split 0 ----------\n",
      "[15:13:57] train_index:0~4649 test_index:4650~9299\n",
      "---------- split 1 ----------\n",
      "[15:13:57] train_index:0~9299 test_index:9300~13949\n",
      "---------- split 2 ----------\n",
      "[15:13:57] train_index:0~13949 test_index:13950~18599\n"
     ]
    },
    {
     "name": "stderr",
     "output_type": "stream",
     "text": [
      "[W 2019-05-04 15:13:57,750] Setting trial status as TrialState.FAIL because of the following error: NameError(\"global name 'x_train' is not defined\",)\n",
      "Traceback (most recent call last):\n",
      "  File \"//anaconda/lib/python2.7/site-packages/optuna/study.py\", line 407, in _run_trial\n",
      "    result = func(trial)\n",
      "  File \"<ipython-input-16-6a548d18a279>\", line 9, in objective\n",
      "    model = create_model(trial)\n",
      "  File \"<ipython-input-13-31f4b2b3a55c>\", line 8, in create_model\n",
      "    model.add(LSTM(units=100, input_shape=(x_train.shape[1], x_train.shape[2])))\n",
      "NameError: global name 'x_train' is not defined\n"
     ]
    },
    {
     "name": "stdout",
     "output_type": "stream",
     "text": [
      "---------- split 0 ----------\n",
      "[15:13:57] train_index:0~4649 test_index:4650~9299\n",
      "---------- split 1 ----------\n",
      "[15:13:57] train_index:0~9299 test_index:9300~13949\n",
      "---------- split 2 ----------\n",
      "[15:13:57] train_index:0~13949 test_index:13950~18599\n"
     ]
    },
    {
     "name": "stderr",
     "output_type": "stream",
     "text": [
      "[W 2019-05-04 15:13:57,804] Setting trial status as TrialState.FAIL because of the following error: NameError(\"global name 'x_train' is not defined\",)\n",
      "Traceback (most recent call last):\n",
      "  File \"//anaconda/lib/python2.7/site-packages/optuna/study.py\", line 407, in _run_trial\n",
      "    result = func(trial)\n",
      "  File \"<ipython-input-16-6a548d18a279>\", line 9, in objective\n",
      "    model = create_model(trial)\n",
      "  File \"<ipython-input-13-31f4b2b3a55c>\", line 8, in create_model\n",
      "    model.add(LSTM(units=100, input_shape=(x_train.shape[1], x_train.shape[2])))\n",
      "NameError: global name 'x_train' is not defined\n"
     ]
    },
    {
     "name": "stdout",
     "output_type": "stream",
     "text": [
      "---------- split 0 ----------\n",
      "[15:13:57] train_index:0~4649 test_index:4650~9299\n",
      "---------- split 1 ----------\n",
      "[15:13:57] train_index:0~9299 test_index:9300~13949\n",
      "---------- split 2 ----------\n",
      "[15:13:57] train_index:0~13949 test_index:13950~18599\n"
     ]
    },
    {
     "name": "stderr",
     "output_type": "stream",
     "text": [
      "[W 2019-05-04 15:13:57,859] Setting trial status as TrialState.FAIL because of the following error: NameError(\"global name 'x_train' is not defined\",)\n",
      "Traceback (most recent call last):\n",
      "  File \"//anaconda/lib/python2.7/site-packages/optuna/study.py\", line 407, in _run_trial\n",
      "    result = func(trial)\n",
      "  File \"<ipython-input-16-6a548d18a279>\", line 9, in objective\n",
      "    model = create_model(trial)\n",
      "  File \"<ipython-input-13-31f4b2b3a55c>\", line 8, in create_model\n",
      "    model.add(LSTM(units=100, input_shape=(x_train.shape[1], x_train.shape[2])))\n",
      "NameError: global name 'x_train' is not defined\n"
     ]
    },
    {
     "name": "stdout",
     "output_type": "stream",
     "text": [
      "---------- split 0 ----------\n",
      "[15:13:57] train_index:0~4649 test_index:4650~9299\n",
      "---------- split 1 ----------\n",
      "[15:13:57] train_index:0~9299 test_index:9300~13949\n",
      "---------- split 2 ----------\n",
      "[15:13:57] train_index:0~13949 test_index:13950~18599\n"
     ]
    },
    {
     "name": "stderr",
     "output_type": "stream",
     "text": [
      "[W 2019-05-04 15:13:57,912] Setting trial status as TrialState.FAIL because of the following error: NameError(\"global name 'x_train' is not defined\",)\n",
      "Traceback (most recent call last):\n",
      "  File \"//anaconda/lib/python2.7/site-packages/optuna/study.py\", line 407, in _run_trial\n",
      "    result = func(trial)\n",
      "  File \"<ipython-input-16-6a548d18a279>\", line 9, in objective\n",
      "    model = create_model(trial)\n",
      "  File \"<ipython-input-13-31f4b2b3a55c>\", line 8, in create_model\n",
      "    model.add(LSTM(units=100, input_shape=(x_train.shape[1], x_train.shape[2])))\n",
      "NameError: global name 'x_train' is not defined\n"
     ]
    },
    {
     "name": "stdout",
     "output_type": "stream",
     "text": [
      "---------- split 0 ----------\n",
      "[15:13:57] train_index:0~4649 test_index:4650~9299\n",
      "---------- split 1 ----------\n",
      "[15:13:57] train_index:0~9299 test_index:9300~13949\n",
      "---------- split 2 ----------\n",
      "[15:13:57] train_index:0~13949 test_index:13950~18599\n"
     ]
    },
    {
     "name": "stderr",
     "output_type": "stream",
     "text": [
      "[W 2019-05-04 15:13:57,971] Setting trial status as TrialState.FAIL because of the following error: NameError(\"global name 'x_train' is not defined\",)\n",
      "Traceback (most recent call last):\n",
      "  File \"//anaconda/lib/python2.7/site-packages/optuna/study.py\", line 407, in _run_trial\n",
      "    result = func(trial)\n",
      "  File \"<ipython-input-16-6a548d18a279>\", line 9, in objective\n",
      "    model = create_model(trial)\n",
      "  File \"<ipython-input-13-31f4b2b3a55c>\", line 8, in create_model\n",
      "    model.add(LSTM(units=100, input_shape=(x_train.shape[1], x_train.shape[2])))\n",
      "NameError: global name 'x_train' is not defined\n"
     ]
    },
    {
     "name": "stdout",
     "output_type": "stream",
     "text": [
      "---------- split 0 ----------\n",
      "[15:13:57] train_index:0~4649 test_index:4650~9299\n",
      "---------- split 1 ----------\n",
      "[15:13:58] train_index:0~9299 test_index:9300~13949\n",
      "---------- split 2 ----------\n",
      "[15:13:58] train_index:0~13949 test_index:13950~18599\n"
     ]
    },
    {
     "name": "stderr",
     "output_type": "stream",
     "text": [
      "[W 2019-05-04 15:13:58,029] Setting trial status as TrialState.FAIL because of the following error: NameError(\"global name 'x_train' is not defined\",)\n",
      "Traceback (most recent call last):\n",
      "  File \"//anaconda/lib/python2.7/site-packages/optuna/study.py\", line 407, in _run_trial\n",
      "    result = func(trial)\n",
      "  File \"<ipython-input-16-6a548d18a279>\", line 9, in objective\n",
      "    model = create_model(trial)\n",
      "  File \"<ipython-input-13-31f4b2b3a55c>\", line 8, in create_model\n",
      "    model.add(LSTM(units=100, input_shape=(x_train.shape[1], x_train.shape[2])))\n",
      "NameError: global name 'x_train' is not defined\n"
     ]
    },
    {
     "name": "stdout",
     "output_type": "stream",
     "text": [
      "---------- split 0 ----------\n",
      "[15:13:58] train_index:0~4649 test_index:4650~9299\n",
      "---------- split 1 ----------\n",
      "[15:13:58] train_index:0~9299 test_index:9300~13949\n",
      "---------- split 2 ----------\n",
      "[15:13:58] train_index:0~13949 test_index:13950~18599\n"
     ]
    },
    {
     "name": "stderr",
     "output_type": "stream",
     "text": [
      "[W 2019-05-04 15:13:58,088] Setting trial status as TrialState.FAIL because of the following error: NameError(\"global name 'x_train' is not defined\",)\n",
      "Traceback (most recent call last):\n",
      "  File \"//anaconda/lib/python2.7/site-packages/optuna/study.py\", line 407, in _run_trial\n",
      "    result = func(trial)\n",
      "  File \"<ipython-input-16-6a548d18a279>\", line 9, in objective\n",
      "    model = create_model(trial)\n",
      "  File \"<ipython-input-13-31f4b2b3a55c>\", line 8, in create_model\n",
      "    model.add(LSTM(units=100, input_shape=(x_train.shape[1], x_train.shape[2])))\n",
      "NameError: global name 'x_train' is not defined\n"
     ]
    },
    {
     "name": "stdout",
     "output_type": "stream",
     "text": [
      "---------- split 0 ----------\n",
      "[15:13:58] train_index:0~4649 test_index:4650~9299\n",
      "---------- split 1 ----------\n",
      "[15:13:58] train_index:0~9299 test_index:9300~13949\n",
      "---------- split 2 ----------\n",
      "[15:13:58] train_index:0~13949 test_index:13950~18599\n"
     ]
    },
    {
     "name": "stderr",
     "output_type": "stream",
     "text": [
      "[W 2019-05-04 15:13:58,150] Setting trial status as TrialState.FAIL because of the following error: NameError(\"global name 'x_train' is not defined\",)\n",
      "Traceback (most recent call last):\n",
      "  File \"//anaconda/lib/python2.7/site-packages/optuna/study.py\", line 407, in _run_trial\n",
      "    result = func(trial)\n",
      "  File \"<ipython-input-16-6a548d18a279>\", line 9, in objective\n",
      "    model = create_model(trial)\n",
      "  File \"<ipython-input-13-31f4b2b3a55c>\", line 8, in create_model\n",
      "    model.add(LSTM(units=100, input_shape=(x_train.shape[1], x_train.shape[2])))\n",
      "NameError: global name 'x_train' is not defined\n"
     ]
    },
    {
     "name": "stdout",
     "output_type": "stream",
     "text": [
      "---------- split 0 ----------\n",
      "[15:13:58] train_index:0~4649 test_index:4650~9299\n",
      "---------- split 1 ----------\n",
      "[15:13:58] train_index:0~9299 test_index:9300~13949\n",
      "---------- split 2 ----------\n",
      "[15:13:58] train_index:0~13949 test_index:13950~18599\n"
     ]
    },
    {
     "name": "stderr",
     "output_type": "stream",
     "text": [
      "[W 2019-05-04 15:13:58,212] Setting trial status as TrialState.FAIL because of the following error: NameError(\"global name 'x_train' is not defined\",)\n",
      "Traceback (most recent call last):\n",
      "  File \"//anaconda/lib/python2.7/site-packages/optuna/study.py\", line 407, in _run_trial\n",
      "    result = func(trial)\n",
      "  File \"<ipython-input-16-6a548d18a279>\", line 9, in objective\n",
      "    model = create_model(trial)\n",
      "  File \"<ipython-input-13-31f4b2b3a55c>\", line 8, in create_model\n",
      "    model.add(LSTM(units=100, input_shape=(x_train.shape[1], x_train.shape[2])))\n",
      "NameError: global name 'x_train' is not defined\n"
     ]
    },
    {
     "name": "stdout",
     "output_type": "stream",
     "text": [
      "---------- split 0 ----------\n",
      "[15:13:58] train_index:0~4649 test_index:4650~9299\n",
      "---------- split 1 ----------\n",
      "[15:13:58] train_index:0~9299 test_index:9300~13949\n",
      "---------- split 2 ----------\n",
      "[15:13:58] train_index:0~13949 test_index:13950~18599\n"
     ]
    },
    {
     "name": "stderr",
     "output_type": "stream",
     "text": [
      "[W 2019-05-04 15:13:58,276] Setting trial status as TrialState.FAIL because of the following error: NameError(\"global name 'x_train' is not defined\",)\n",
      "Traceback (most recent call last):\n",
      "  File \"//anaconda/lib/python2.7/site-packages/optuna/study.py\", line 407, in _run_trial\n",
      "    result = func(trial)\n",
      "  File \"<ipython-input-16-6a548d18a279>\", line 9, in objective\n",
      "    model = create_model(trial)\n",
      "  File \"<ipython-input-13-31f4b2b3a55c>\", line 8, in create_model\n",
      "    model.add(LSTM(units=100, input_shape=(x_train.shape[1], x_train.shape[2])))\n",
      "NameError: global name 'x_train' is not defined\n"
     ]
    },
    {
     "name": "stdout",
     "output_type": "stream",
     "text": [
      "---------- split 0 ----------\n",
      "[15:13:58] train_index:0~4649 test_index:4650~9299\n",
      "---------- split 1 ----------\n",
      "[15:13:58] train_index:0~9299 test_index:9300~13949\n",
      "---------- split 2 ----------\n",
      "[15:13:58] train_index:0~13949 test_index:13950~18599\n"
     ]
    },
    {
     "name": "stderr",
     "output_type": "stream",
     "text": [
      "[W 2019-05-04 15:13:58,337] Setting trial status as TrialState.FAIL because of the following error: NameError(\"global name 'x_train' is not defined\",)\n",
      "Traceback (most recent call last):\n",
      "  File \"//anaconda/lib/python2.7/site-packages/optuna/study.py\", line 407, in _run_trial\n",
      "    result = func(trial)\n",
      "  File \"<ipython-input-16-6a548d18a279>\", line 9, in objective\n",
      "    model = create_model(trial)\n",
      "  File \"<ipython-input-13-31f4b2b3a55c>\", line 8, in create_model\n",
      "    model.add(LSTM(units=100, input_shape=(x_train.shape[1], x_train.shape[2])))\n",
      "NameError: global name 'x_train' is not defined\n"
     ]
    },
    {
     "name": "stdout",
     "output_type": "stream",
     "text": [
      "---------- split 0 ----------\n",
      "[15:13:58] train_index:0~4649 test_index:4650~9299\n",
      "---------- split 1 ----------\n",
      "[15:13:58] train_index:0~9299 test_index:9300~13949\n",
      "---------- split 2 ----------\n",
      "[15:13:58] train_index:0~13949 test_index:13950~18599\n"
     ]
    },
    {
     "name": "stderr",
     "output_type": "stream",
     "text": [
      "[W 2019-05-04 15:13:58,398] Setting trial status as TrialState.FAIL because of the following error: NameError(\"global name 'x_train' is not defined\",)\n",
      "Traceback (most recent call last):\n",
      "  File \"//anaconda/lib/python2.7/site-packages/optuna/study.py\", line 407, in _run_trial\n",
      "    result = func(trial)\n",
      "  File \"<ipython-input-16-6a548d18a279>\", line 9, in objective\n",
      "    model = create_model(trial)\n",
      "  File \"<ipython-input-13-31f4b2b3a55c>\", line 8, in create_model\n",
      "    model.add(LSTM(units=100, input_shape=(x_train.shape[1], x_train.shape[2])))\n",
      "NameError: global name 'x_train' is not defined\n"
     ]
    },
    {
     "name": "stdout",
     "output_type": "stream",
     "text": [
      "---------- split 0 ----------\n",
      "[15:13:58] train_index:0~4649 test_index:4650~9299\n",
      "---------- split 1 ----------\n",
      "[15:13:58] train_index:0~9299 test_index:9300~13949\n",
      "---------- split 2 ----------\n",
      "[15:13:58] train_index:0~13949 test_index:13950~18599\n"
     ]
    },
    {
     "name": "stderr",
     "output_type": "stream",
     "text": [
      "[W 2019-05-04 15:13:58,462] Setting trial status as TrialState.FAIL because of the following error: NameError(\"global name 'x_train' is not defined\",)\n",
      "Traceback (most recent call last):\n",
      "  File \"//anaconda/lib/python2.7/site-packages/optuna/study.py\", line 407, in _run_trial\n",
      "    result = func(trial)\n",
      "  File \"<ipython-input-16-6a548d18a279>\", line 9, in objective\n",
      "    model = create_model(trial)\n",
      "  File \"<ipython-input-13-31f4b2b3a55c>\", line 8, in create_model\n",
      "    model.add(LSTM(units=100, input_shape=(x_train.shape[1], x_train.shape[2])))\n",
      "NameError: global name 'x_train' is not defined\n"
     ]
    },
    {
     "name": "stdout",
     "output_type": "stream",
     "text": [
      "---------- split 0 ----------\n",
      "[15:13:58] train_index:0~4649 test_index:4650~9299\n",
      "---------- split 1 ----------\n",
      "[15:13:58] train_index:0~9299 test_index:9300~13949\n",
      "---------- split 2 ----------\n",
      "[15:13:58] train_index:0~13949 test_index:13950~18599\n"
     ]
    },
    {
     "name": "stderr",
     "output_type": "stream",
     "text": [
      "[W 2019-05-04 15:13:58,521] Setting trial status as TrialState.FAIL because of the following error: NameError(\"global name 'x_train' is not defined\",)\n",
      "Traceback (most recent call last):\n",
      "  File \"//anaconda/lib/python2.7/site-packages/optuna/study.py\", line 407, in _run_trial\n",
      "    result = func(trial)\n",
      "  File \"<ipython-input-16-6a548d18a279>\", line 9, in objective\n",
      "    model = create_model(trial)\n",
      "  File \"<ipython-input-13-31f4b2b3a55c>\", line 8, in create_model\n",
      "    model.add(LSTM(units=100, input_shape=(x_train.shape[1], x_train.shape[2])))\n",
      "NameError: global name 'x_train' is not defined\n"
     ]
    },
    {
     "name": "stdout",
     "output_type": "stream",
     "text": [
      "---------- split 0 ----------\n",
      "[15:13:58] train_index:0~4649 test_index:4650~9299\n",
      "---------- split 1 ----------\n",
      "[15:13:58] train_index:0~9299 test_index:9300~13949\n",
      "---------- split 2 ----------\n",
      "[15:13:58] train_index:0~13949 test_index:13950~18599\n"
     ]
    },
    {
     "name": "stderr",
     "output_type": "stream",
     "text": [
      "[W 2019-05-04 15:13:58,581] Setting trial status as TrialState.FAIL because of the following error: NameError(\"global name 'x_train' is not defined\",)\n",
      "Traceback (most recent call last):\n",
      "  File \"//anaconda/lib/python2.7/site-packages/optuna/study.py\", line 407, in _run_trial\n",
      "    result = func(trial)\n",
      "  File \"<ipython-input-16-6a548d18a279>\", line 9, in objective\n",
      "    model = create_model(trial)\n",
      "  File \"<ipython-input-13-31f4b2b3a55c>\", line 8, in create_model\n",
      "    model.add(LSTM(units=100, input_shape=(x_train.shape[1], x_train.shape[2])))\n",
      "NameError: global name 'x_train' is not defined\n"
     ]
    },
    {
     "name": "stdout",
     "output_type": "stream",
     "text": [
      "---------- split 0 ----------\n",
      "[15:13:58] train_index:0~4649 test_index:4650~9299\n",
      "---------- split 1 ----------\n",
      "[15:13:58] train_index:0~9299 test_index:9300~13949\n",
      "---------- split 2 ----------\n",
      "[15:13:58] train_index:0~13949 test_index:13950~18599\n"
     ]
    },
    {
     "name": "stderr",
     "output_type": "stream",
     "text": [
      "[W 2019-05-04 15:13:58,644] Setting trial status as TrialState.FAIL because of the following error: NameError(\"global name 'x_train' is not defined\",)\n",
      "Traceback (most recent call last):\n",
      "  File \"//anaconda/lib/python2.7/site-packages/optuna/study.py\", line 407, in _run_trial\n",
      "    result = func(trial)\n",
      "  File \"<ipython-input-16-6a548d18a279>\", line 9, in objective\n",
      "    model = create_model(trial)\n",
      "  File \"<ipython-input-13-31f4b2b3a55c>\", line 8, in create_model\n",
      "    model.add(LSTM(units=100, input_shape=(x_train.shape[1], x_train.shape[2])))\n",
      "NameError: global name 'x_train' is not defined\n"
     ]
    },
    {
     "name": "stdout",
     "output_type": "stream",
     "text": [
      "---------- split 0 ----------\n",
      "[15:13:58] train_index:0~4649 test_index:4650~9299\n",
      "---------- split 1 ----------\n",
      "[15:13:58] train_index:0~9299 test_index:9300~13949\n",
      "---------- split 2 ----------\n",
      "[15:13:58] train_index:0~13949 test_index:13950~18599\n"
     ]
    },
    {
     "name": "stderr",
     "output_type": "stream",
     "text": [
      "[W 2019-05-04 15:13:58,706] Setting trial status as TrialState.FAIL because of the following error: NameError(\"global name 'x_train' is not defined\",)\n",
      "Traceback (most recent call last):\n",
      "  File \"//anaconda/lib/python2.7/site-packages/optuna/study.py\", line 407, in _run_trial\n",
      "    result = func(trial)\n",
      "  File \"<ipython-input-16-6a548d18a279>\", line 9, in objective\n",
      "    model = create_model(trial)\n",
      "  File \"<ipython-input-13-31f4b2b3a55c>\", line 8, in create_model\n",
      "    model.add(LSTM(units=100, input_shape=(x_train.shape[1], x_train.shape[2])))\n",
      "NameError: global name 'x_train' is not defined\n"
     ]
    },
    {
     "name": "stdout",
     "output_type": "stream",
     "text": [
      "---------- split 0 ----------\n",
      "[15:13:58] train_index:0~4649 test_index:4650~9299\n",
      "---------- split 1 ----------\n",
      "[15:13:58] train_index:0~9299 test_index:9300~13949\n",
      "---------- split 2 ----------\n",
      "[15:13:58] train_index:0~13949 test_index:13950~18599\n"
     ]
    },
    {
     "name": "stderr",
     "output_type": "stream",
     "text": [
      "[W 2019-05-04 15:13:58,770] Setting trial status as TrialState.FAIL because of the following error: NameError(\"global name 'x_train' is not defined\",)\n",
      "Traceback (most recent call last):\n",
      "  File \"//anaconda/lib/python2.7/site-packages/optuna/study.py\", line 407, in _run_trial\n",
      "    result = func(trial)\n",
      "  File \"<ipython-input-16-6a548d18a279>\", line 9, in objective\n",
      "    model = create_model(trial)\n",
      "  File \"<ipython-input-13-31f4b2b3a55c>\", line 8, in create_model\n",
      "    model.add(LSTM(units=100, input_shape=(x_train.shape[1], x_train.shape[2])))\n",
      "NameError: global name 'x_train' is not defined\n"
     ]
    },
    {
     "name": "stdout",
     "output_type": "stream",
     "text": [
      "---------- split 0 ----------\n",
      "[15:13:58] train_index:0~4649 test_index:4650~9299\n",
      "---------- split 1 ----------\n",
      "[15:13:58] train_index:0~9299 test_index:9300~13949\n",
      "---------- split 2 ----------\n",
      "[15:13:58] train_index:0~13949 test_index:13950~18599\n"
     ]
    },
    {
     "name": "stderr",
     "output_type": "stream",
     "text": [
      "[W 2019-05-04 15:13:58,833] Setting trial status as TrialState.FAIL because of the following error: NameError(\"global name 'x_train' is not defined\",)\n",
      "Traceback (most recent call last):\n",
      "  File \"//anaconda/lib/python2.7/site-packages/optuna/study.py\", line 407, in _run_trial\n",
      "    result = func(trial)\n",
      "  File \"<ipython-input-16-6a548d18a279>\", line 9, in objective\n",
      "    model = create_model(trial)\n",
      "  File \"<ipython-input-13-31f4b2b3a55c>\", line 8, in create_model\n",
      "    model.add(LSTM(units=100, input_shape=(x_train.shape[1], x_train.shape[2])))\n",
      "NameError: global name 'x_train' is not defined\n"
     ]
    },
    {
     "name": "stdout",
     "output_type": "stream",
     "text": [
      "---------- split 0 ----------\n",
      "[15:13:58] train_index:0~4649 test_index:4650~9299\n",
      "---------- split 1 ----------\n",
      "[15:13:58] train_index:0~9299 test_index:9300~13949\n",
      "---------- split 2 ----------\n",
      "[15:13:58] train_index:0~13949 test_index:13950~18599\n"
     ]
    },
    {
     "name": "stderr",
     "output_type": "stream",
     "text": [
      "[W 2019-05-04 15:13:58,897] Setting trial status as TrialState.FAIL because of the following error: NameError(\"global name 'x_train' is not defined\",)\n",
      "Traceback (most recent call last):\n",
      "  File \"//anaconda/lib/python2.7/site-packages/optuna/study.py\", line 407, in _run_trial\n",
      "    result = func(trial)\n",
      "  File \"<ipython-input-16-6a548d18a279>\", line 9, in objective\n",
      "    model = create_model(trial)\n",
      "  File \"<ipython-input-13-31f4b2b3a55c>\", line 8, in create_model\n",
      "    model.add(LSTM(units=100, input_shape=(x_train.shape[1], x_train.shape[2])))\n",
      "NameError: global name 'x_train' is not defined\n"
     ]
    },
    {
     "name": "stdout",
     "output_type": "stream",
     "text": [
      "---------- split 0 ----------\n",
      "[15:13:58] train_index:0~4649 test_index:4650~9299\n",
      "---------- split 1 ----------\n",
      "[15:13:58] train_index:0~9299 test_index:9300~13949\n",
      "---------- split 2 ----------\n",
      "[15:13:58] train_index:0~13949 test_index:13950~18599\n"
     ]
    },
    {
     "name": "stderr",
     "output_type": "stream",
     "text": [
      "[W 2019-05-04 15:13:58,957] Setting trial status as TrialState.FAIL because of the following error: NameError(\"global name 'x_train' is not defined\",)\n",
      "Traceback (most recent call last):\n",
      "  File \"//anaconda/lib/python2.7/site-packages/optuna/study.py\", line 407, in _run_trial\n",
      "    result = func(trial)\n",
      "  File \"<ipython-input-16-6a548d18a279>\", line 9, in objective\n",
      "    model = create_model(trial)\n",
      "  File \"<ipython-input-13-31f4b2b3a55c>\", line 8, in create_model\n",
      "    model.add(LSTM(units=100, input_shape=(x_train.shape[1], x_train.shape[2])))\n",
      "NameError: global name 'x_train' is not defined\n"
     ]
    },
    {
     "name": "stdout",
     "output_type": "stream",
     "text": [
      "---------- split 0 ----------\n",
      "[15:13:58] train_index:0~4649 test_index:4650~9299\n",
      "---------- split 1 ----------\n",
      "[15:13:58] train_index:0~9299 test_index:9300~13949\n",
      "---------- split 2 ----------\n",
      "[15:13:59] train_index:0~13949 test_index:13950~18599\n"
     ]
    },
    {
     "name": "stderr",
     "output_type": "stream",
     "text": [
      "[W 2019-05-04 15:13:59,022] Setting trial status as TrialState.FAIL because of the following error: NameError(\"global name 'x_train' is not defined\",)\n",
      "Traceback (most recent call last):\n",
      "  File \"//anaconda/lib/python2.7/site-packages/optuna/study.py\", line 407, in _run_trial\n",
      "    result = func(trial)\n",
      "  File \"<ipython-input-16-6a548d18a279>\", line 9, in objective\n",
      "    model = create_model(trial)\n",
      "  File \"<ipython-input-13-31f4b2b3a55c>\", line 8, in create_model\n",
      "    model.add(LSTM(units=100, input_shape=(x_train.shape[1], x_train.shape[2])))\n",
      "NameError: global name 'x_train' is not defined\n"
     ]
    },
    {
     "name": "stdout",
     "output_type": "stream",
     "text": [
      "---------- split 0 ----------\n",
      "[15:13:59] train_index:0~4649 test_index:4650~9299\n",
      "---------- split 1 ----------\n",
      "[15:13:59] train_index:0~9299 test_index:9300~13949\n",
      "---------- split 2 ----------\n",
      "[15:13:59] train_index:0~13949 test_index:13950~18599\n"
     ]
    },
    {
     "name": "stderr",
     "output_type": "stream",
     "text": [
      "[W 2019-05-04 15:13:59,082] Setting trial status as TrialState.FAIL because of the following error: NameError(\"global name 'x_train' is not defined\",)\n",
      "Traceback (most recent call last):\n",
      "  File \"//anaconda/lib/python2.7/site-packages/optuna/study.py\", line 407, in _run_trial\n",
      "    result = func(trial)\n",
      "  File \"<ipython-input-16-6a548d18a279>\", line 9, in objective\n",
      "    model = create_model(trial)\n",
      "  File \"<ipython-input-13-31f4b2b3a55c>\", line 8, in create_model\n",
      "    model.add(LSTM(units=100, input_shape=(x_train.shape[1], x_train.shape[2])))\n",
      "NameError: global name 'x_train' is not defined\n"
     ]
    },
    {
     "name": "stdout",
     "output_type": "stream",
     "text": [
      "---------- split 0 ----------\n",
      "[15:13:59] train_index:0~4649 test_index:4650~9299\n",
      "---------- split 1 ----------\n",
      "[15:13:59] train_index:0~9299 test_index:9300~13949\n",
      "---------- split 2 ----------\n",
      "[15:13:59] train_index:0~13949 test_index:13950~18599\n"
     ]
    },
    {
     "name": "stderr",
     "output_type": "stream",
     "text": [
      "[W 2019-05-04 15:13:59,141] Setting trial status as TrialState.FAIL because of the following error: NameError(\"global name 'x_train' is not defined\",)\n",
      "Traceback (most recent call last):\n",
      "  File \"//anaconda/lib/python2.7/site-packages/optuna/study.py\", line 407, in _run_trial\n",
      "    result = func(trial)\n",
      "  File \"<ipython-input-16-6a548d18a279>\", line 9, in objective\n",
      "    model = create_model(trial)\n",
      "  File \"<ipython-input-13-31f4b2b3a55c>\", line 8, in create_model\n",
      "    model.add(LSTM(units=100, input_shape=(x_train.shape[1], x_train.shape[2])))\n",
      "NameError: global name 'x_train' is not defined\n"
     ]
    },
    {
     "name": "stdout",
     "output_type": "stream",
     "text": [
      "---------- split 0 ----------\n",
      "[15:13:59] train_index:0~4649 test_index:4650~9299\n",
      "---------- split 1 ----------\n",
      "[15:13:59] train_index:0~9299 test_index:9300~13949\n",
      "---------- split 2 ----------\n",
      "[15:13:59] train_index:0~13949 test_index:13950~18599\n"
     ]
    },
    {
     "name": "stderr",
     "output_type": "stream",
     "text": [
      "[W 2019-05-04 15:13:59,201] Setting trial status as TrialState.FAIL because of the following error: NameError(\"global name 'x_train' is not defined\",)\n",
      "Traceback (most recent call last):\n",
      "  File \"//anaconda/lib/python2.7/site-packages/optuna/study.py\", line 407, in _run_trial\n",
      "    result = func(trial)\n",
      "  File \"<ipython-input-16-6a548d18a279>\", line 9, in objective\n",
      "    model = create_model(trial)\n",
      "  File \"<ipython-input-13-31f4b2b3a55c>\", line 8, in create_model\n",
      "    model.add(LSTM(units=100, input_shape=(x_train.shape[1], x_train.shape[2])))\n",
      "NameError: global name 'x_train' is not defined\n"
     ]
    },
    {
     "name": "stdout",
     "output_type": "stream",
     "text": [
      "---------- split 0 ----------\n",
      "[15:13:59] train_index:0~4649 test_index:4650~9299\n",
      "---------- split 1 ----------\n",
      "[15:13:59] train_index:0~9299 test_index:9300~13949\n",
      "---------- split 2 ----------\n",
      "[15:13:59] train_index:0~13949 test_index:13950~18599\n"
     ]
    },
    {
     "name": "stderr",
     "output_type": "stream",
     "text": [
      "[W 2019-05-04 15:13:59,261] Setting trial status as TrialState.FAIL because of the following error: NameError(\"global name 'x_train' is not defined\",)\n",
      "Traceback (most recent call last):\n",
      "  File \"//anaconda/lib/python2.7/site-packages/optuna/study.py\", line 407, in _run_trial\n",
      "    result = func(trial)\n",
      "  File \"<ipython-input-16-6a548d18a279>\", line 9, in objective\n",
      "    model = create_model(trial)\n",
      "  File \"<ipython-input-13-31f4b2b3a55c>\", line 8, in create_model\n",
      "    model.add(LSTM(units=100, input_shape=(x_train.shape[1], x_train.shape[2])))\n",
      "NameError: global name 'x_train' is not defined\n"
     ]
    },
    {
     "name": "stdout",
     "output_type": "stream",
     "text": [
      "---------- split 0 ----------\n",
      "[15:13:59] train_index:0~4649 test_index:4650~9299\n",
      "---------- split 1 ----------\n",
      "[15:13:59] train_index:0~9299 test_index:9300~13949\n",
      "---------- split 2 ----------\n",
      "[15:13:59] train_index:0~13949 test_index:13950~18599\n"
     ]
    },
    {
     "name": "stderr",
     "output_type": "stream",
     "text": [
      "[W 2019-05-04 15:13:59,321] Setting trial status as TrialState.FAIL because of the following error: NameError(\"global name 'x_train' is not defined\",)\n",
      "Traceback (most recent call last):\n",
      "  File \"//anaconda/lib/python2.7/site-packages/optuna/study.py\", line 407, in _run_trial\n",
      "    result = func(trial)\n",
      "  File \"<ipython-input-16-6a548d18a279>\", line 9, in objective\n",
      "    model = create_model(trial)\n",
      "  File \"<ipython-input-13-31f4b2b3a55c>\", line 8, in create_model\n",
      "    model.add(LSTM(units=100, input_shape=(x_train.shape[1], x_train.shape[2])))\n",
      "NameError: global name 'x_train' is not defined\n"
     ]
    },
    {
     "name": "stdout",
     "output_type": "stream",
     "text": [
      "---------- split 0 ----------\n",
      "[15:13:59] train_index:0~4649 test_index:4650~9299\n",
      "---------- split 1 ----------\n",
      "[15:13:59] train_index:0~9299 test_index:9300~13949\n",
      "---------- split 2 ----------\n",
      "[15:13:59] train_index:0~13949 test_index:13950~18599\n"
     ]
    },
    {
     "name": "stderr",
     "output_type": "stream",
     "text": [
      "[W 2019-05-04 15:13:59,384] Setting trial status as TrialState.FAIL because of the following error: NameError(\"global name 'x_train' is not defined\",)\n",
      "Traceback (most recent call last):\n",
      "  File \"//anaconda/lib/python2.7/site-packages/optuna/study.py\", line 407, in _run_trial\n",
      "    result = func(trial)\n",
      "  File \"<ipython-input-16-6a548d18a279>\", line 9, in objective\n",
      "    model = create_model(trial)\n",
      "  File \"<ipython-input-13-31f4b2b3a55c>\", line 8, in create_model\n",
      "    model.add(LSTM(units=100, input_shape=(x_train.shape[1], x_train.shape[2])))\n",
      "NameError: global name 'x_train' is not defined\n"
     ]
    },
    {
     "name": "stdout",
     "output_type": "stream",
     "text": [
      "---------- split 0 ----------\n",
      "[15:13:59] train_index:0~4649 test_index:4650~9299\n",
      "---------- split 1 ----------\n",
      "[15:13:59] train_index:0~9299 test_index:9300~13949\n",
      "---------- split 2 ----------\n",
      "[15:13:59] train_index:0~13949 test_index:13950~18599\n"
     ]
    },
    {
     "name": "stderr",
     "output_type": "stream",
     "text": [
      "[W 2019-05-04 15:13:59,450] Setting trial status as TrialState.FAIL because of the following error: NameError(\"global name 'x_train' is not defined\",)\n",
      "Traceback (most recent call last):\n",
      "  File \"//anaconda/lib/python2.7/site-packages/optuna/study.py\", line 407, in _run_trial\n",
      "    result = func(trial)\n",
      "  File \"<ipython-input-16-6a548d18a279>\", line 9, in objective\n",
      "    model = create_model(trial)\n",
      "  File \"<ipython-input-13-31f4b2b3a55c>\", line 8, in create_model\n",
      "    model.add(LSTM(units=100, input_shape=(x_train.shape[1], x_train.shape[2])))\n",
      "NameError: global name 'x_train' is not defined\n"
     ]
    },
    {
     "name": "stdout",
     "output_type": "stream",
     "text": [
      "---------- split 0 ----------\n",
      "[15:13:59] train_index:0~4649 test_index:4650~9299\n",
      "---------- split 1 ----------\n",
      "[15:13:59] train_index:0~9299 test_index:9300~13949\n",
      "---------- split 2 ----------\n",
      "[15:13:59] train_index:0~13949 test_index:13950~18599\n"
     ]
    },
    {
     "name": "stderr",
     "output_type": "stream",
     "text": [
      "[W 2019-05-04 15:13:59,514] Setting trial status as TrialState.FAIL because of the following error: NameError(\"global name 'x_train' is not defined\",)\n",
      "Traceback (most recent call last):\n",
      "  File \"//anaconda/lib/python2.7/site-packages/optuna/study.py\", line 407, in _run_trial\n",
      "    result = func(trial)\n",
      "  File \"<ipython-input-16-6a548d18a279>\", line 9, in objective\n",
      "    model = create_model(trial)\n",
      "  File \"<ipython-input-13-31f4b2b3a55c>\", line 8, in create_model\n",
      "    model.add(LSTM(units=100, input_shape=(x_train.shape[1], x_train.shape[2])))\n",
      "NameError: global name 'x_train' is not defined\n"
     ]
    },
    {
     "name": "stdout",
     "output_type": "stream",
     "text": [
      "---------- split 0 ----------\n",
      "[15:13:59] train_index:0~4649 test_index:4650~9299\n",
      "---------- split 1 ----------\n",
      "[15:13:59] train_index:0~9299 test_index:9300~13949\n",
      "---------- split 2 ----------\n",
      "[15:13:59] train_index:0~13949 test_index:13950~18599\n"
     ]
    },
    {
     "name": "stderr",
     "output_type": "stream",
     "text": [
      "[W 2019-05-04 15:13:59,577] Setting trial status as TrialState.FAIL because of the following error: NameError(\"global name 'x_train' is not defined\",)\n",
      "Traceback (most recent call last):\n",
      "  File \"//anaconda/lib/python2.7/site-packages/optuna/study.py\", line 407, in _run_trial\n",
      "    result = func(trial)\n",
      "  File \"<ipython-input-16-6a548d18a279>\", line 9, in objective\n",
      "    model = create_model(trial)\n",
      "  File \"<ipython-input-13-31f4b2b3a55c>\", line 8, in create_model\n",
      "    model.add(LSTM(units=100, input_shape=(x_train.shape[1], x_train.shape[2])))\n",
      "NameError: global name 'x_train' is not defined\n"
     ]
    },
    {
     "name": "stdout",
     "output_type": "stream",
     "text": [
      "---------- split 0 ----------\n",
      "[15:13:59] train_index:0~4649 test_index:4650~9299\n",
      "---------- split 1 ----------\n",
      "[15:13:59] train_index:0~9299 test_index:9300~13949\n",
      "---------- split 2 ----------\n",
      "[15:13:59] train_index:0~13949 test_index:13950~18599\n"
     ]
    },
    {
     "name": "stderr",
     "output_type": "stream",
     "text": [
      "[W 2019-05-04 15:13:59,640] Setting trial status as TrialState.FAIL because of the following error: NameError(\"global name 'x_train' is not defined\",)\n",
      "Traceback (most recent call last):\n",
      "  File \"//anaconda/lib/python2.7/site-packages/optuna/study.py\", line 407, in _run_trial\n",
      "    result = func(trial)\n",
      "  File \"<ipython-input-16-6a548d18a279>\", line 9, in objective\n",
      "    model = create_model(trial)\n",
      "  File \"<ipython-input-13-31f4b2b3a55c>\", line 8, in create_model\n",
      "    model.add(LSTM(units=100, input_shape=(x_train.shape[1], x_train.shape[2])))\n",
      "NameError: global name 'x_train' is not defined\n"
     ]
    },
    {
     "name": "stdout",
     "output_type": "stream",
     "text": [
      "---------- split 0 ----------\n",
      "[15:13:59] train_index:0~4649 test_index:4650~9299\n",
      "---------- split 1 ----------\n",
      "[15:13:59] train_index:0~9299 test_index:9300~13949\n",
      "---------- split 2 ----------\n",
      "[15:13:59] train_index:0~13949 test_index:13950~18599\n"
     ]
    },
    {
     "name": "stderr",
     "output_type": "stream",
     "text": [
      "[W 2019-05-04 15:13:59,703] Setting trial status as TrialState.FAIL because of the following error: NameError(\"global name 'x_train' is not defined\",)\n",
      "Traceback (most recent call last):\n",
      "  File \"//anaconda/lib/python2.7/site-packages/optuna/study.py\", line 407, in _run_trial\n",
      "    result = func(trial)\n",
      "  File \"<ipython-input-16-6a548d18a279>\", line 9, in objective\n",
      "    model = create_model(trial)\n",
      "  File \"<ipython-input-13-31f4b2b3a55c>\", line 8, in create_model\n",
      "    model.add(LSTM(units=100, input_shape=(x_train.shape[1], x_train.shape[2])))\n",
      "NameError: global name 'x_train' is not defined\n"
     ]
    },
    {
     "name": "stdout",
     "output_type": "stream",
     "text": [
      "---------- split 0 ----------\n",
      "[15:13:59] train_index:0~4649 test_index:4650~9299\n",
      "---------- split 1 ----------\n",
      "[15:13:59] train_index:0~9299 test_index:9300~13949\n",
      "---------- split 2 ----------\n",
      "[15:13:59] train_index:0~13949 test_index:13950~18599\n"
     ]
    },
    {
     "name": "stderr",
     "output_type": "stream",
     "text": [
      "[W 2019-05-04 15:13:59,770] Setting trial status as TrialState.FAIL because of the following error: NameError(\"global name 'x_train' is not defined\",)\n",
      "Traceback (most recent call last):\n",
      "  File \"//anaconda/lib/python2.7/site-packages/optuna/study.py\", line 407, in _run_trial\n",
      "    result = func(trial)\n",
      "  File \"<ipython-input-16-6a548d18a279>\", line 9, in objective\n",
      "    model = create_model(trial)\n",
      "  File \"<ipython-input-13-31f4b2b3a55c>\", line 8, in create_model\n",
      "    model.add(LSTM(units=100, input_shape=(x_train.shape[1], x_train.shape[2])))\n",
      "NameError: global name 'x_train' is not defined\n"
     ]
    },
    {
     "name": "stdout",
     "output_type": "stream",
     "text": [
      "---------- split 0 ----------\n",
      "[15:13:59] train_index:0~4649 test_index:4650~9299\n",
      "---------- split 1 ----------\n",
      "[15:13:59] train_index:0~9299 test_index:9300~13949\n",
      "---------- split 2 ----------\n",
      "[15:13:59] train_index:0~13949 test_index:13950~18599\n"
     ]
    },
    {
     "name": "stderr",
     "output_type": "stream",
     "text": [
      "[W 2019-05-04 15:13:59,829] Setting trial status as TrialState.FAIL because of the following error: NameError(\"global name 'x_train' is not defined\",)\n",
      "Traceback (most recent call last):\n",
      "  File \"//anaconda/lib/python2.7/site-packages/optuna/study.py\", line 407, in _run_trial\n",
      "    result = func(trial)\n",
      "  File \"<ipython-input-16-6a548d18a279>\", line 9, in objective\n",
      "    model = create_model(trial)\n",
      "  File \"<ipython-input-13-31f4b2b3a55c>\", line 8, in create_model\n",
      "    model.add(LSTM(units=100, input_shape=(x_train.shape[1], x_train.shape[2])))\n",
      "NameError: global name 'x_train' is not defined\n"
     ]
    },
    {
     "name": "stdout",
     "output_type": "stream",
     "text": [
      "---------- split 0 ----------\n",
      "[15:13:59] train_index:0~4649 test_index:4650~9299\n",
      "---------- split 1 ----------\n",
      "[15:13:59] train_index:0~9299 test_index:9300~13949\n",
      "---------- split 2 ----------\n",
      "[15:13:59] train_index:0~13949 test_index:13950~18599\n"
     ]
    },
    {
     "name": "stderr",
     "output_type": "stream",
     "text": [
      "[W 2019-05-04 15:13:59,892] Setting trial status as TrialState.FAIL because of the following error: NameError(\"global name 'x_train' is not defined\",)\n",
      "Traceback (most recent call last):\n",
      "  File \"//anaconda/lib/python2.7/site-packages/optuna/study.py\", line 407, in _run_trial\n",
      "    result = func(trial)\n",
      "  File \"<ipython-input-16-6a548d18a279>\", line 9, in objective\n",
      "    model = create_model(trial)\n",
      "  File \"<ipython-input-13-31f4b2b3a55c>\", line 8, in create_model\n",
      "    model.add(LSTM(units=100, input_shape=(x_train.shape[1], x_train.shape[2])))\n",
      "NameError: global name 'x_train' is not defined\n"
     ]
    },
    {
     "name": "stdout",
     "output_type": "stream",
     "text": [
      "---------- split 0 ----------\n",
      "[15:13:59] train_index:0~4649 test_index:4650~9299\n",
      "---------- split 1 ----------\n",
      "[15:13:59] train_index:0~9299 test_index:9300~13949\n",
      "---------- split 2 ----------\n",
      "[15:13:59] train_index:0~13949 test_index:13950~18599\n"
     ]
    },
    {
     "name": "stderr",
     "output_type": "stream",
     "text": [
      "[W 2019-05-04 15:13:59,954] Setting trial status as TrialState.FAIL because of the following error: NameError(\"global name 'x_train' is not defined\",)\n",
      "Traceback (most recent call last):\n",
      "  File \"//anaconda/lib/python2.7/site-packages/optuna/study.py\", line 407, in _run_trial\n",
      "    result = func(trial)\n",
      "  File \"<ipython-input-16-6a548d18a279>\", line 9, in objective\n",
      "    model = create_model(trial)\n",
      "  File \"<ipython-input-13-31f4b2b3a55c>\", line 8, in create_model\n",
      "    model.add(LSTM(units=100, input_shape=(x_train.shape[1], x_train.shape[2])))\n",
      "NameError: global name 'x_train' is not defined\n"
     ]
    },
    {
     "name": "stdout",
     "output_type": "stream",
     "text": [
      "---------- split 0 ----------\n",
      "[15:13:59] train_index:0~4649 test_index:4650~9299\n",
      "---------- split 1 ----------\n",
      "[15:13:59] train_index:0~9299 test_index:9300~13949\n",
      "---------- split 2 ----------\n",
      "[15:13:59] train_index:0~13949 test_index:13950~18599\n"
     ]
    },
    {
     "name": "stderr",
     "output_type": "stream",
     "text": [
      "[W 2019-05-04 15:14:00,016] Setting trial status as TrialState.FAIL because of the following error: NameError(\"global name 'x_train' is not defined\",)\n",
      "Traceback (most recent call last):\n",
      "  File \"//anaconda/lib/python2.7/site-packages/optuna/study.py\", line 407, in _run_trial\n",
      "    result = func(trial)\n",
      "  File \"<ipython-input-16-6a548d18a279>\", line 9, in objective\n",
      "    model = create_model(trial)\n",
      "  File \"<ipython-input-13-31f4b2b3a55c>\", line 8, in create_model\n",
      "    model.add(LSTM(units=100, input_shape=(x_train.shape[1], x_train.shape[2])))\n",
      "NameError: global name 'x_train' is not defined\n"
     ]
    },
    {
     "name": "stdout",
     "output_type": "stream",
     "text": [
      "---------- split 0 ----------\n",
      "[15:14:00] train_index:0~4649 test_index:4650~9299\n",
      "---------- split 1 ----------\n",
      "[15:14:00] train_index:0~9299 test_index:9300~13949\n",
      "---------- split 2 ----------\n",
      "[15:14:00] train_index:0~13949 test_index:13950~18599\n"
     ]
    },
    {
     "name": "stderr",
     "output_type": "stream",
     "text": [
      "[W 2019-05-04 15:14:00,077] Setting trial status as TrialState.FAIL because of the following error: NameError(\"global name 'x_train' is not defined\",)\n",
      "Traceback (most recent call last):\n",
      "  File \"//anaconda/lib/python2.7/site-packages/optuna/study.py\", line 407, in _run_trial\n",
      "    result = func(trial)\n",
      "  File \"<ipython-input-16-6a548d18a279>\", line 9, in objective\n",
      "    model = create_model(trial)\n",
      "  File \"<ipython-input-13-31f4b2b3a55c>\", line 8, in create_model\n",
      "    model.add(LSTM(units=100, input_shape=(x_train.shape[1], x_train.shape[2])))\n",
      "NameError: global name 'x_train' is not defined\n"
     ]
    },
    {
     "name": "stdout",
     "output_type": "stream",
     "text": [
      "---------- split 0 ----------\n",
      "[15:14:00] train_index:0~4649 test_index:4650~9299\n",
      "---------- split 1 ----------\n",
      "[15:14:00] train_index:0~9299 test_index:9300~13949\n",
      "---------- split 2 ----------\n",
      "[15:14:00] train_index:0~13949 test_index:13950~18599\n"
     ]
    },
    {
     "name": "stderr",
     "output_type": "stream",
     "text": [
      "[W 2019-05-04 15:14:00,145] Setting trial status as TrialState.FAIL because of the following error: NameError(\"global name 'x_train' is not defined\",)\n",
      "Traceback (most recent call last):\n",
      "  File \"//anaconda/lib/python2.7/site-packages/optuna/study.py\", line 407, in _run_trial\n",
      "    result = func(trial)\n",
      "  File \"<ipython-input-16-6a548d18a279>\", line 9, in objective\n",
      "    model = create_model(trial)\n",
      "  File \"<ipython-input-13-31f4b2b3a55c>\", line 8, in create_model\n",
      "    model.add(LSTM(units=100, input_shape=(x_train.shape[1], x_train.shape[2])))\n",
      "NameError: global name 'x_train' is not defined\n"
     ]
    },
    {
     "name": "stdout",
     "output_type": "stream",
     "text": [
      "---------- split 0 ----------\n",
      "[15:14:00] train_index:0~4649 test_index:4650~9299\n",
      "---------- split 1 ----------\n",
      "[15:14:00] train_index:0~9299 test_index:9300~13949\n",
      "---------- split 2 ----------\n",
      "[15:14:00] train_index:0~13949 test_index:13950~18599\n"
     ]
    },
    {
     "name": "stderr",
     "output_type": "stream",
     "text": [
      "[W 2019-05-04 15:14:00,214] Setting trial status as TrialState.FAIL because of the following error: NameError(\"global name 'x_train' is not defined\",)\n",
      "Traceback (most recent call last):\n",
      "  File \"//anaconda/lib/python2.7/site-packages/optuna/study.py\", line 407, in _run_trial\n",
      "    result = func(trial)\n",
      "  File \"<ipython-input-16-6a548d18a279>\", line 9, in objective\n",
      "    model = create_model(trial)\n",
      "  File \"<ipython-input-13-31f4b2b3a55c>\", line 8, in create_model\n",
      "    model.add(LSTM(units=100, input_shape=(x_train.shape[1], x_train.shape[2])))\n",
      "NameError: global name 'x_train' is not defined\n"
     ]
    },
    {
     "name": "stdout",
     "output_type": "stream",
     "text": [
      "---------- split 0 ----------\n",
      "[15:14:00] train_index:0~4649 test_index:4650~9299\n",
      "---------- split 1 ----------\n",
      "[15:14:00] train_index:0~9299 test_index:9300~13949\n",
      "---------- split 2 ----------\n",
      "[15:14:00] train_index:0~13949 test_index:13950~18599\n"
     ]
    },
    {
     "name": "stderr",
     "output_type": "stream",
     "text": [
      "[W 2019-05-04 15:14:00,283] Setting trial status as TrialState.FAIL because of the following error: NameError(\"global name 'x_train' is not defined\",)\n",
      "Traceback (most recent call last):\n",
      "  File \"//anaconda/lib/python2.7/site-packages/optuna/study.py\", line 407, in _run_trial\n",
      "    result = func(trial)\n",
      "  File \"<ipython-input-16-6a548d18a279>\", line 9, in objective\n",
      "    model = create_model(trial)\n",
      "  File \"<ipython-input-13-31f4b2b3a55c>\", line 8, in create_model\n",
      "    model.add(LSTM(units=100, input_shape=(x_train.shape[1], x_train.shape[2])))\n",
      "NameError: global name 'x_train' is not defined\n"
     ]
    },
    {
     "name": "stdout",
     "output_type": "stream",
     "text": [
      "---------- split 0 ----------\n",
      "[15:14:00] train_index:0~4649 test_index:4650~9299\n",
      "---------- split 1 ----------\n",
      "[15:14:00] train_index:0~9299 test_index:9300~13949\n",
      "---------- split 2 ----------\n",
      "[15:14:00] train_index:0~13949 test_index:13950~18599\n"
     ]
    },
    {
     "name": "stderr",
     "output_type": "stream",
     "text": [
      "[W 2019-05-04 15:14:00,350] Setting trial status as TrialState.FAIL because of the following error: NameError(\"global name 'x_train' is not defined\",)\n",
      "Traceback (most recent call last):\n",
      "  File \"//anaconda/lib/python2.7/site-packages/optuna/study.py\", line 407, in _run_trial\n",
      "    result = func(trial)\n",
      "  File \"<ipython-input-16-6a548d18a279>\", line 9, in objective\n",
      "    model = create_model(trial)\n",
      "  File \"<ipython-input-13-31f4b2b3a55c>\", line 8, in create_model\n",
      "    model.add(LSTM(units=100, input_shape=(x_train.shape[1], x_train.shape[2])))\n",
      "NameError: global name 'x_train' is not defined\n"
     ]
    },
    {
     "name": "stdout",
     "output_type": "stream",
     "text": [
      "---------- split 0 ----------\n",
      "[15:14:00] train_index:0~4649 test_index:4650~9299\n",
      "---------- split 1 ----------\n",
      "[15:14:00] train_index:0~9299 test_index:9300~13949\n",
      "---------- split 2 ----------\n",
      "[15:14:00] train_index:0~13949 test_index:13950~18599\n"
     ]
    },
    {
     "name": "stderr",
     "output_type": "stream",
     "text": [
      "[W 2019-05-04 15:14:00,410] Setting trial status as TrialState.FAIL because of the following error: NameError(\"global name 'x_train' is not defined\",)\n",
      "Traceback (most recent call last):\n",
      "  File \"//anaconda/lib/python2.7/site-packages/optuna/study.py\", line 407, in _run_trial\n",
      "    result = func(trial)\n",
      "  File \"<ipython-input-16-6a548d18a279>\", line 9, in objective\n",
      "    model = create_model(trial)\n",
      "  File \"<ipython-input-13-31f4b2b3a55c>\", line 8, in create_model\n",
      "    model.add(LSTM(units=100, input_shape=(x_train.shape[1], x_train.shape[2])))\n",
      "NameError: global name 'x_train' is not defined\n"
     ]
    },
    {
     "name": "stdout",
     "output_type": "stream",
     "text": [
      "---------- split 0 ----------\n",
      "[15:14:00] train_index:0~4649 test_index:4650~9299\n",
      "---------- split 1 ----------\n",
      "[15:14:00] train_index:0~9299 test_index:9300~13949\n",
      "---------- split 2 ----------\n",
      "[15:14:00] train_index:0~13949 test_index:13950~18599\n"
     ]
    },
    {
     "name": "stderr",
     "output_type": "stream",
     "text": [
      "[W 2019-05-04 15:14:00,477] Setting trial status as TrialState.FAIL because of the following error: NameError(\"global name 'x_train' is not defined\",)\n",
      "Traceback (most recent call last):\n",
      "  File \"//anaconda/lib/python2.7/site-packages/optuna/study.py\", line 407, in _run_trial\n",
      "    result = func(trial)\n",
      "  File \"<ipython-input-16-6a548d18a279>\", line 9, in objective\n",
      "    model = create_model(trial)\n",
      "  File \"<ipython-input-13-31f4b2b3a55c>\", line 8, in create_model\n",
      "    model.add(LSTM(units=100, input_shape=(x_train.shape[1], x_train.shape[2])))\n",
      "NameError: global name 'x_train' is not defined\n"
     ]
    },
    {
     "name": "stdout",
     "output_type": "stream",
     "text": [
      "---------- split 0 ----------\n",
      "[15:14:00] train_index:0~4649 test_index:4650~9299\n",
      "---------- split 1 ----------\n",
      "[15:14:00] train_index:0~9299 test_index:9300~13949\n",
      "---------- split 2 ----------\n",
      "[15:14:00] train_index:0~13949 test_index:13950~18599\n"
     ]
    },
    {
     "name": "stderr",
     "output_type": "stream",
     "text": [
      "[W 2019-05-04 15:14:00,545] Setting trial status as TrialState.FAIL because of the following error: NameError(\"global name 'x_train' is not defined\",)\n",
      "Traceback (most recent call last):\n",
      "  File \"//anaconda/lib/python2.7/site-packages/optuna/study.py\", line 407, in _run_trial\n",
      "    result = func(trial)\n",
      "  File \"<ipython-input-16-6a548d18a279>\", line 9, in objective\n",
      "    model = create_model(trial)\n",
      "  File \"<ipython-input-13-31f4b2b3a55c>\", line 8, in create_model\n",
      "    model.add(LSTM(units=100, input_shape=(x_train.shape[1], x_train.shape[2])))\n",
      "NameError: global name 'x_train' is not defined\n"
     ]
    },
    {
     "name": "stdout",
     "output_type": "stream",
     "text": [
      "---------- split 0 ----------\n",
      "[15:14:00] train_index:0~4649 test_index:4650~9299\n",
      "---------- split 1 ----------\n",
      "[15:14:00] train_index:0~9299 test_index:9300~13949\n",
      "---------- split 2 ----------\n",
      "[15:14:00] train_index:0~13949 test_index:13950~18599\n"
     ]
    },
    {
     "name": "stderr",
     "output_type": "stream",
     "text": [
      "[W 2019-05-04 15:14:00,609] Setting trial status as TrialState.FAIL because of the following error: NameError(\"global name 'x_train' is not defined\",)\n",
      "Traceback (most recent call last):\n",
      "  File \"//anaconda/lib/python2.7/site-packages/optuna/study.py\", line 407, in _run_trial\n",
      "    result = func(trial)\n",
      "  File \"<ipython-input-16-6a548d18a279>\", line 9, in objective\n",
      "    model = create_model(trial)\n",
      "  File \"<ipython-input-13-31f4b2b3a55c>\", line 8, in create_model\n",
      "    model.add(LSTM(units=100, input_shape=(x_train.shape[1], x_train.shape[2])))\n",
      "NameError: global name 'x_train' is not defined\n"
     ]
    },
    {
     "name": "stdout",
     "output_type": "stream",
     "text": [
      "---------- split 0 ----------\n",
      "[15:14:00] train_index:0~4649 test_index:4650~9299\n",
      "---------- split 1 ----------\n",
      "[15:14:00] train_index:0~9299 test_index:9300~13949\n",
      "---------- split 2 ----------\n",
      "[15:14:00] train_index:0~13949 test_index:13950~18599\n"
     ]
    },
    {
     "name": "stderr",
     "output_type": "stream",
     "text": [
      "[W 2019-05-04 15:14:00,672] Setting trial status as TrialState.FAIL because of the following error: NameError(\"global name 'x_train' is not defined\",)\n",
      "Traceback (most recent call last):\n",
      "  File \"//anaconda/lib/python2.7/site-packages/optuna/study.py\", line 407, in _run_trial\n",
      "    result = func(trial)\n",
      "  File \"<ipython-input-16-6a548d18a279>\", line 9, in objective\n",
      "    model = create_model(trial)\n",
      "  File \"<ipython-input-13-31f4b2b3a55c>\", line 8, in create_model\n",
      "    model.add(LSTM(units=100, input_shape=(x_train.shape[1], x_train.shape[2])))\n",
      "NameError: global name 'x_train' is not defined\n"
     ]
    },
    {
     "name": "stdout",
     "output_type": "stream",
     "text": [
      "---------- split 0 ----------\n",
      "[15:14:00] train_index:0~4649 test_index:4650~9299\n",
      "---------- split 1 ----------\n",
      "[15:14:00] train_index:0~9299 test_index:9300~13949\n",
      "---------- split 2 ----------\n",
      "[15:14:00] train_index:0~13949 test_index:13950~18599\n"
     ]
    },
    {
     "name": "stderr",
     "output_type": "stream",
     "text": [
      "[W 2019-05-04 15:14:00,737] Setting trial status as TrialState.FAIL because of the following error: NameError(\"global name 'x_train' is not defined\",)\n",
      "Traceback (most recent call last):\n",
      "  File \"//anaconda/lib/python2.7/site-packages/optuna/study.py\", line 407, in _run_trial\n",
      "    result = func(trial)\n",
      "  File \"<ipython-input-16-6a548d18a279>\", line 9, in objective\n",
      "    model = create_model(trial)\n",
      "  File \"<ipython-input-13-31f4b2b3a55c>\", line 8, in create_model\n",
      "    model.add(LSTM(units=100, input_shape=(x_train.shape[1], x_train.shape[2])))\n",
      "NameError: global name 'x_train' is not defined\n"
     ]
    },
    {
     "name": "stdout",
     "output_type": "stream",
     "text": [
      "---------- split 0 ----------\n",
      "[15:14:00] train_index:0~4649 test_index:4650~9299\n",
      "---------- split 1 ----------\n",
      "[15:14:00] train_index:0~9299 test_index:9300~13949\n",
      "---------- split 2 ----------\n",
      "[15:14:00] train_index:0~13949 test_index:13950~18599\n"
     ]
    },
    {
     "name": "stderr",
     "output_type": "stream",
     "text": [
      "[W 2019-05-04 15:14:00,799] Setting trial status as TrialState.FAIL because of the following error: NameError(\"global name 'x_train' is not defined\",)\n",
      "Traceback (most recent call last):\n",
      "  File \"//anaconda/lib/python2.7/site-packages/optuna/study.py\", line 407, in _run_trial\n",
      "    result = func(trial)\n",
      "  File \"<ipython-input-16-6a548d18a279>\", line 9, in objective\n",
      "    model = create_model(trial)\n",
      "  File \"<ipython-input-13-31f4b2b3a55c>\", line 8, in create_model\n",
      "    model.add(LSTM(units=100, input_shape=(x_train.shape[1], x_train.shape[2])))\n",
      "NameError: global name 'x_train' is not defined\n"
     ]
    },
    {
     "name": "stdout",
     "output_type": "stream",
     "text": [
      "---------- split 0 ----------\n",
      "[15:14:00] train_index:0~4649 test_index:4650~9299\n",
      "---------- split 1 ----------\n",
      "[15:14:00] train_index:0~9299 test_index:9300~13949\n",
      "---------- split 2 ----------\n",
      "[15:14:00] train_index:0~13949 test_index:13950~18599\n"
     ]
    },
    {
     "name": "stderr",
     "output_type": "stream",
     "text": [
      "[W 2019-05-04 15:14:00,869] Setting trial status as TrialState.FAIL because of the following error: NameError(\"global name 'x_train' is not defined\",)\n",
      "Traceback (most recent call last):\n",
      "  File \"//anaconda/lib/python2.7/site-packages/optuna/study.py\", line 407, in _run_trial\n",
      "    result = func(trial)\n",
      "  File \"<ipython-input-16-6a548d18a279>\", line 9, in objective\n",
      "    model = create_model(trial)\n",
      "  File \"<ipython-input-13-31f4b2b3a55c>\", line 8, in create_model\n",
      "    model.add(LSTM(units=100, input_shape=(x_train.shape[1], x_train.shape[2])))\n",
      "NameError: global name 'x_train' is not defined\n"
     ]
    },
    {
     "name": "stdout",
     "output_type": "stream",
     "text": [
      "---------- split 0 ----------\n",
      "[15:14:00] train_index:0~4649 test_index:4650~9299\n",
      "---------- split 1 ----------\n",
      "[15:14:00] train_index:0~9299 test_index:9300~13949\n",
      "---------- split 2 ----------\n",
      "[15:14:00] train_index:0~13949 test_index:13950~18599\n"
     ]
    },
    {
     "name": "stderr",
     "output_type": "stream",
     "text": [
      "[W 2019-05-04 15:14:00,929] Setting trial status as TrialState.FAIL because of the following error: NameError(\"global name 'x_train' is not defined\",)\n",
      "Traceback (most recent call last):\n",
      "  File \"//anaconda/lib/python2.7/site-packages/optuna/study.py\", line 407, in _run_trial\n",
      "    result = func(trial)\n",
      "  File \"<ipython-input-16-6a548d18a279>\", line 9, in objective\n",
      "    model = create_model(trial)\n",
      "  File \"<ipython-input-13-31f4b2b3a55c>\", line 8, in create_model\n",
      "    model.add(LSTM(units=100, input_shape=(x_train.shape[1], x_train.shape[2])))\n",
      "NameError: global name 'x_train' is not defined\n"
     ]
    },
    {
     "name": "stdout",
     "output_type": "stream",
     "text": [
      "---------- split 0 ----------\n",
      "[15:14:00] train_index:0~4649 test_index:4650~9299\n",
      "---------- split 1 ----------\n",
      "[15:14:00] train_index:0~9299 test_index:9300~13949\n",
      "---------- split 2 ----------\n",
      "[15:14:00] train_index:0~13949 test_index:13950~18599\n"
     ]
    },
    {
     "name": "stderr",
     "output_type": "stream",
     "text": [
      "[W 2019-05-04 15:14:00,992] Setting trial status as TrialState.FAIL because of the following error: NameError(\"global name 'x_train' is not defined\",)\n",
      "Traceback (most recent call last):\n",
      "  File \"//anaconda/lib/python2.7/site-packages/optuna/study.py\", line 407, in _run_trial\n",
      "    result = func(trial)\n",
      "  File \"<ipython-input-16-6a548d18a279>\", line 9, in objective\n",
      "    model = create_model(trial)\n",
      "  File \"<ipython-input-13-31f4b2b3a55c>\", line 8, in create_model\n",
      "    model.add(LSTM(units=100, input_shape=(x_train.shape[1], x_train.shape[2])))\n",
      "NameError: global name 'x_train' is not defined\n"
     ]
    },
    {
     "name": "stdout",
     "output_type": "stream",
     "text": [
      "---------- split 0 ----------\n",
      "[15:14:01] train_index:0~4649 test_index:4650~9299\n",
      "---------- split 1 ----------\n",
      "[15:14:01] train_index:0~9299 test_index:9300~13949\n",
      "---------- split 2 ----------\n",
      "[15:14:01] train_index:0~13949 test_index:13950~18599\n"
     ]
    },
    {
     "name": "stderr",
     "output_type": "stream",
     "text": [
      "[W 2019-05-04 15:14:01,057] Setting trial status as TrialState.FAIL because of the following error: NameError(\"global name 'x_train' is not defined\",)\n",
      "Traceback (most recent call last):\n",
      "  File \"//anaconda/lib/python2.7/site-packages/optuna/study.py\", line 407, in _run_trial\n",
      "    result = func(trial)\n",
      "  File \"<ipython-input-16-6a548d18a279>\", line 9, in objective\n",
      "    model = create_model(trial)\n",
      "  File \"<ipython-input-13-31f4b2b3a55c>\", line 8, in create_model\n",
      "    model.add(LSTM(units=100, input_shape=(x_train.shape[1], x_train.shape[2])))\n",
      "NameError: global name 'x_train' is not defined\n"
     ]
    },
    {
     "name": "stdout",
     "output_type": "stream",
     "text": [
      "---------- split 0 ----------\n",
      "[15:14:01] train_index:0~4649 test_index:4650~9299\n",
      "---------- split 1 ----------\n",
      "[15:14:01] train_index:0~9299 test_index:9300~13949\n",
      "---------- split 2 ----------\n",
      "[15:14:01] train_index:0~13949 test_index:13950~18599\n"
     ]
    },
    {
     "name": "stderr",
     "output_type": "stream",
     "text": [
      "[W 2019-05-04 15:14:01,123] Setting trial status as TrialState.FAIL because of the following error: NameError(\"global name 'x_train' is not defined\",)\n",
      "Traceback (most recent call last):\n",
      "  File \"//anaconda/lib/python2.7/site-packages/optuna/study.py\", line 407, in _run_trial\n",
      "    result = func(trial)\n",
      "  File \"<ipython-input-16-6a548d18a279>\", line 9, in objective\n",
      "    model = create_model(trial)\n",
      "  File \"<ipython-input-13-31f4b2b3a55c>\", line 8, in create_model\n",
      "    model.add(LSTM(units=100, input_shape=(x_train.shape[1], x_train.shape[2])))\n",
      "NameError: global name 'x_train' is not defined\n"
     ]
    },
    {
     "name": "stdout",
     "output_type": "stream",
     "text": [
      "---------- split 0 ----------\n",
      "[15:14:01] train_index:0~4649 test_index:4650~9299\n",
      "---------- split 1 ----------\n",
      "[15:14:01] train_index:0~9299 test_index:9300~13949\n",
      "---------- split 2 ----------\n",
      "[15:14:01] train_index:0~13949 test_index:13950~18599\n"
     ]
    },
    {
     "name": "stderr",
     "output_type": "stream",
     "text": [
      "[W 2019-05-04 15:14:01,192] Setting trial status as TrialState.FAIL because of the following error: NameError(\"global name 'x_train' is not defined\",)\n",
      "Traceback (most recent call last):\n",
      "  File \"//anaconda/lib/python2.7/site-packages/optuna/study.py\", line 407, in _run_trial\n",
      "    result = func(trial)\n",
      "  File \"<ipython-input-16-6a548d18a279>\", line 9, in objective\n",
      "    model = create_model(trial)\n",
      "  File \"<ipython-input-13-31f4b2b3a55c>\", line 8, in create_model\n",
      "    model.add(LSTM(units=100, input_shape=(x_train.shape[1], x_train.shape[2])))\n",
      "NameError: global name 'x_train' is not defined\n"
     ]
    },
    {
     "name": "stdout",
     "output_type": "stream",
     "text": [
      "---------- split 0 ----------\n",
      "[15:14:01] train_index:0~4649 test_index:4650~9299\n",
      "---------- split 1 ----------\n",
      "[15:14:01] train_index:0~9299 test_index:9300~13949\n",
      "---------- split 2 ----------\n",
      "[15:14:01] train_index:0~13949 test_index:13950~18599\n"
     ]
    },
    {
     "name": "stderr",
     "output_type": "stream",
     "text": [
      "[W 2019-05-04 15:14:01,251] Setting trial status as TrialState.FAIL because of the following error: NameError(\"global name 'x_train' is not defined\",)\n",
      "Traceback (most recent call last):\n",
      "  File \"//anaconda/lib/python2.7/site-packages/optuna/study.py\", line 407, in _run_trial\n",
      "    result = func(trial)\n",
      "  File \"<ipython-input-16-6a548d18a279>\", line 9, in objective\n",
      "    model = create_model(trial)\n",
      "  File \"<ipython-input-13-31f4b2b3a55c>\", line 8, in create_model\n",
      "    model.add(LSTM(units=100, input_shape=(x_train.shape[1], x_train.shape[2])))\n",
      "NameError: global name 'x_train' is not defined\n"
     ]
    },
    {
     "name": "stdout",
     "output_type": "stream",
     "text": [
      "---------- split 0 ----------\n",
      "[15:14:01] train_index:0~4649 test_index:4650~9299\n",
      "---------- split 1 ----------\n",
      "[15:14:01] train_index:0~9299 test_index:9300~13949\n",
      "---------- split 2 ----------\n",
      "[15:14:01] train_index:0~13949 test_index:13950~18599\n"
     ]
    },
    {
     "name": "stderr",
     "output_type": "stream",
     "text": [
      "[W 2019-05-04 15:14:01,320] Setting trial status as TrialState.FAIL because of the following error: NameError(\"global name 'x_train' is not defined\",)\n",
      "Traceback (most recent call last):\n",
      "  File \"//anaconda/lib/python2.7/site-packages/optuna/study.py\", line 407, in _run_trial\n",
      "    result = func(trial)\n",
      "  File \"<ipython-input-16-6a548d18a279>\", line 9, in objective\n",
      "    model = create_model(trial)\n",
      "  File \"<ipython-input-13-31f4b2b3a55c>\", line 8, in create_model\n",
      "    model.add(LSTM(units=100, input_shape=(x_train.shape[1], x_train.shape[2])))\n",
      "NameError: global name 'x_train' is not defined\n"
     ]
    },
    {
     "name": "stdout",
     "output_type": "stream",
     "text": [
      "Study statistics: \n",
      "('  Number of finished trials: ', 100)\n",
      "('  Number of pruned trials: ', 0)\n",
      "('  Number of complete trials: ', 0)\n",
      "Best trial:\n"
     ]
    },
    {
     "ename": "ValueError",
     "evalue": "No trials are completed yet.",
     "output_type": "error",
     "traceback": [
      "\u001b[0;31m---------------------------------------------------------------------------\u001b[0m",
      "\u001b[0;31mValueError\u001b[0m                                Traceback (most recent call last)",
      "\u001b[0;32m<ipython-input-17-fd24bd9be330>\u001b[0m in \u001b[0;36m<module>\u001b[0;34m()\u001b[0m\n\u001b[1;32m      9\u001b[0m \u001b[0;34m\u001b[0m\u001b[0m\n\u001b[1;32m     10\u001b[0m \u001b[0;32mprint\u001b[0m\u001b[0;34m(\u001b[0m\u001b[0;34m'Best trial:'\u001b[0m\u001b[0;34m)\u001b[0m\u001b[0;34m\u001b[0m\u001b[0m\n\u001b[0;32m---> 11\u001b[0;31m \u001b[0mtrial\u001b[0m \u001b[0;34m=\u001b[0m \u001b[0mstudy\u001b[0m\u001b[0;34m.\u001b[0m\u001b[0mbest_trial\u001b[0m\u001b[0;34m\u001b[0m\u001b[0m\n\u001b[0m\u001b[1;32m     12\u001b[0m \u001b[0;34m\u001b[0m\u001b[0m\n\u001b[1;32m     13\u001b[0m \u001b[0;32mprint\u001b[0m\u001b[0;34m(\u001b[0m\u001b[0;34m'  Value: '\u001b[0m\u001b[0;34m,\u001b[0m \u001b[0mtrial\u001b[0m\u001b[0;34m.\u001b[0m\u001b[0mvalue\u001b[0m\u001b[0;34m)\u001b[0m\u001b[0;34m\u001b[0m\u001b[0m\n",
      "\u001b[0;32m//anaconda/lib/python2.7/site-packages/optuna/study.pyc\u001b[0m in \u001b[0;36mbest_trial\u001b[0;34m(self)\u001b[0m\n\u001b[1;32m    136\u001b[0m         \"\"\"\n\u001b[1;32m    137\u001b[0m \u001b[0;34m\u001b[0m\u001b[0m\n\u001b[0;32m--> 138\u001b[0;31m         \u001b[0;32mreturn\u001b[0m \u001b[0mself\u001b[0m\u001b[0;34m.\u001b[0m\u001b[0mstorage\u001b[0m\u001b[0;34m.\u001b[0m\u001b[0mget_best_trial\u001b[0m\u001b[0;34m(\u001b[0m\u001b[0mself\u001b[0m\u001b[0;34m.\u001b[0m\u001b[0mstudy_id\u001b[0m\u001b[0;34m)\u001b[0m\u001b[0;34m\u001b[0m\u001b[0m\n\u001b[0m\u001b[1;32m    139\u001b[0m \u001b[0;34m\u001b[0m\u001b[0m\n\u001b[1;32m    140\u001b[0m     \u001b[0;34m@\u001b[0m\u001b[0mproperty\u001b[0m\u001b[0;34m\u001b[0m\u001b[0m\n",
      "\u001b[0;32m//anaconda/lib/python2.7/site-packages/optuna/storages/base.pyc\u001b[0m in \u001b[0;36mget_best_trial\u001b[0;34m(self, study_id)\u001b[0m\n\u001b[1;32m    165\u001b[0m \u001b[0;34m\u001b[0m\u001b[0m\n\u001b[1;32m    166\u001b[0m         \u001b[0;32mif\u001b[0m \u001b[0mlen\u001b[0m\u001b[0;34m(\u001b[0m\u001b[0mall_trials\u001b[0m\u001b[0;34m)\u001b[0m \u001b[0;34m==\u001b[0m \u001b[0;36m0\u001b[0m\u001b[0;34m:\u001b[0m\u001b[0;34m\u001b[0m\u001b[0m\n\u001b[0;32m--> 167\u001b[0;31m             \u001b[0;32mraise\u001b[0m \u001b[0mValueError\u001b[0m\u001b[0;34m(\u001b[0m\u001b[0;34m'No trials are completed yet.'\u001b[0m\u001b[0;34m)\u001b[0m\u001b[0;34m\u001b[0m\u001b[0m\n\u001b[0m\u001b[1;32m    168\u001b[0m \u001b[0;34m\u001b[0m\u001b[0m\n\u001b[1;32m    169\u001b[0m         \u001b[0;31m# TODO(sano): Deal with maximize direction.\u001b[0m\u001b[0;34m\u001b[0m\u001b[0;34m\u001b[0m\u001b[0m\n",
      "\u001b[0;31mValueError\u001b[0m: No trials are completed yet."
     ]
    }
   ],
   "source": [
    "study = optuna.create_study(pruner=optuna.pruners.MedianPruner())\n",
    "study.optimize(objective, n_trials=100)\n",
    "pruned_trials = [t for t in study.trials if t.state == optuna.structs.TrialState.PRUNED]\n",
    "complete_trials = [t for t in study.trials if t.state == optuna.structs.TrialState.COMPLETE]\n",
    "print('Study statistics: ')\n",
    "print('  Number of finished trials: ', len(study.trials))\n",
    "print('  Number of pruned trials: ', len(pruned_trials))\n",
    "print('  Number of complete trials: ', len(complete_trials))\n",
    "\n",
    "print('Best trial:')\n",
    "trial = study.best_trial\n",
    "\n",
    "print('  Value: ', trial.value)\n",
    "\n",
    "print('  Params: ')\n",
    "for key, value in trial.params.items():\n",
    "    print('    {}: {}'.format(key, value))"
   ]
  }
 ],
 "metadata": {
  "kernelspec": {
   "display_name": "Python [conda env:anaconda]",
   "language": "python",
   "name": "conda-env-anaconda-py"
  },
  "language_info": {
   "codemirror_mode": {
    "name": "ipython",
    "version": 2
   },
   "file_extension": ".py",
   "mimetype": "text/x-python",
   "name": "python",
   "nbconvert_exporter": "python",
   "pygments_lexer": "ipython2",
   "version": "2.7.16"
  }
 },
 "nbformat": 4,
 "nbformat_minor": 2
}
